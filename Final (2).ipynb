{
 "cells": [
  {
   "cell_type": "markdown",
   "id": "e5e2e7f0",
   "metadata": {},
   "source": [
    "# Netflix library Data Analysis"
   ]
  },
  {
   "cell_type": "markdown",
   "id": "dd1f4b40",
   "metadata": {},
   "source": [
    "### Firstly importing the necessary modules"
   ]
  },
  {
   "cell_type": "markdown",
   "id": "2076a98e",
   "metadata": {},
   "source": [
    "These are the required libraries and modules for this project."
   ]
  },
  {
   "cell_type": "code",
   "execution_count": 1,
   "id": "902bd3cf",
   "metadata": {},
   "outputs": [
    {
     "name": "stderr",
     "output_type": "stream",
     "text": [
      "C:\\Users\\RUPAK CHAKRABORTY\\anaconda3\\lib\\site-packages\\scipy\\__init__.py:146: UserWarning: A NumPy version >=1.16.5 and <1.23.0 is required for this version of SciPy (detected version 1.26.4\n",
      "  warnings.warn(f\"A NumPy version >={np_minversion} and <{np_maxversion}\"\n"
     ]
    }
   ],
   "source": [
    "import numpy as np\n",
    "import pandas as pd\n",
    "import matplotlib.pyplot as plt\n",
    "import seaborn as sns\n",
    "%matplotlib inline"
   ]
  },
  {
   "cell_type": "markdown",
   "id": "e915e7b5",
   "metadata": {},
   "source": [
    "## Importing the dataset"
   ]
  },
  {
   "cell_type": "markdown",
   "id": "37576058",
   "metadata": {},
   "source": [
    "After importing the dataset, for cleaning purpose we are dropping all the rows which contain **null** values."
   ]
  },
  {
   "cell_type": "code",
   "execution_count": 2,
   "id": "6c0400bc",
   "metadata": {},
   "outputs": [],
   "source": [
    "df = pd.read_csv('netflix_titles_2021 - netflix_titles_2021.csv')\n",
    "\n",
    "df.head()\n",
    "\n",
    "df = df.dropna()"
   ]
  },
  {
   "cell_type": "markdown",
   "id": "c3e42760",
   "metadata": {},
   "source": [
    "#### Let's view the info about the dataset."
   ]
  },
  {
   "cell_type": "markdown",
   "id": "ab240aff",
   "metadata": {},
   "source": [
    "The dataset has **5332** non-null rows"
   ]
  },
  {
   "cell_type": "code",
   "execution_count": 3,
   "id": "c3cb16c0",
   "metadata": {},
   "outputs": [
    {
     "name": "stdout",
     "output_type": "stream",
     "text": [
      "<class 'pandas.core.frame.DataFrame'>\n",
      "Int64Index: 5332 entries, 7 to 8806\n",
      "Data columns (total 12 columns):\n",
      " #   Column        Non-Null Count  Dtype \n",
      "---  ------        --------------  ----- \n",
      " 0   show_id       5332 non-null   object\n",
      " 1   type          5332 non-null   object\n",
      " 2   title         5332 non-null   object\n",
      " 3   director      5332 non-null   object\n",
      " 4   cast          5332 non-null   object\n",
      " 5   country       5332 non-null   object\n",
      " 6   date_added    5332 non-null   object\n",
      " 7   release_year  5332 non-null   int64 \n",
      " 8   rating        5332 non-null   object\n",
      " 9   duration      5332 non-null   object\n",
      " 10  listed_in     5332 non-null   object\n",
      " 11  description   5332 non-null   object\n",
      "dtypes: int64(1), object(11)\n",
      "memory usage: 541.5+ KB\n"
     ]
    }
   ],
   "source": [
    "df.info()"
   ]
  },
  {
   "cell_type": "markdown",
   "id": "1528980c",
   "metadata": {},
   "source": [
    "Naturally, after dropping the **null** rows the sum of null values will be **zero**."
   ]
  },
  {
   "cell_type": "code",
   "execution_count": 4,
   "id": "54393b09",
   "metadata": {},
   "outputs": [
    {
     "data": {
      "text/plain": [
       "show_id         0\n",
       "type            0\n",
       "title           0\n",
       "director        0\n",
       "cast            0\n",
       "country         0\n",
       "date_added      0\n",
       "release_year    0\n",
       "rating          0\n",
       "duration        0\n",
       "listed_in       0\n",
       "description     0\n",
       "dtype: int64"
      ]
     },
     "execution_count": 4,
     "metadata": {},
     "output_type": "execute_result"
    }
   ],
   "source": [
    "df.isnull().sum()"
   ]
  },
  {
   "cell_type": "markdown",
   "id": "2832d7a7",
   "metadata": {},
   "source": [
    "We are dropping the **show_id** column as it is of no use."
   ]
  },
  {
   "cell_type": "code",
   "execution_count": 5,
   "id": "e42e99cc",
   "metadata": {},
   "outputs": [],
   "source": [
    "df.drop('show_id', axis=1, inplace=True)"
   ]
  },
  {
   "cell_type": "code",
   "execution_count": 6,
   "id": "f7c57456",
   "metadata": {},
   "outputs": [
    {
     "data": {
      "text/html": [
       "<div>\n",
       "<style scoped>\n",
       "    .dataframe tbody tr th:only-of-type {\n",
       "        vertical-align: middle;\n",
       "    }\n",
       "\n",
       "    .dataframe tbody tr th {\n",
       "        vertical-align: top;\n",
       "    }\n",
       "\n",
       "    .dataframe thead th {\n",
       "        text-align: right;\n",
       "    }\n",
       "</style>\n",
       "<table border=\"1\" class=\"dataframe\">\n",
       "  <thead>\n",
       "    <tr style=\"text-align: right;\">\n",
       "      <th></th>\n",
       "      <th>type</th>\n",
       "      <th>title</th>\n",
       "      <th>director</th>\n",
       "      <th>cast</th>\n",
       "      <th>country</th>\n",
       "      <th>date_added</th>\n",
       "      <th>release_year</th>\n",
       "      <th>rating</th>\n",
       "      <th>duration</th>\n",
       "      <th>listed_in</th>\n",
       "      <th>description</th>\n",
       "    </tr>\n",
       "  </thead>\n",
       "  <tbody>\n",
       "    <tr>\n",
       "      <th>7</th>\n",
       "      <td>Movie</td>\n",
       "      <td>Sankofa</td>\n",
       "      <td>Haile Gerima</td>\n",
       "      <td>Kofi Ghanaba, Oyafunmike Ogunlano, Alexandra D...</td>\n",
       "      <td>United States, Ghana, Burkina Faso, United Kin...</td>\n",
       "      <td>September 24, 2021</td>\n",
       "      <td>1993</td>\n",
       "      <td>TV-MA</td>\n",
       "      <td>125 min</td>\n",
       "      <td>Dramas, Independent Movies, International Movies</td>\n",
       "      <td>On a photo shoot in Ghana, an American model s...</td>\n",
       "    </tr>\n",
       "    <tr>\n",
       "      <th>8</th>\n",
       "      <td>TV Show</td>\n",
       "      <td>The Great British Baking Show</td>\n",
       "      <td>Andy Devonshire</td>\n",
       "      <td>Mel Giedroyc, Sue Perkins, Mary Berry, Paul Ho...</td>\n",
       "      <td>United Kingdom</td>\n",
       "      <td>September 24, 2021</td>\n",
       "      <td>2021</td>\n",
       "      <td>TV-14</td>\n",
       "      <td>9 Seasons</td>\n",
       "      <td>British TV Shows, Reality TV</td>\n",
       "      <td>A talented batch of amateur bakers face off in...</td>\n",
       "    </tr>\n",
       "    <tr>\n",
       "      <th>9</th>\n",
       "      <td>Movie</td>\n",
       "      <td>The Starling</td>\n",
       "      <td>Theodore Melfi</td>\n",
       "      <td>Melissa McCarthy, Chris O'Dowd, Kevin Kline, T...</td>\n",
       "      <td>United States</td>\n",
       "      <td>September 24, 2021</td>\n",
       "      <td>2021</td>\n",
       "      <td>PG-13</td>\n",
       "      <td>104 min</td>\n",
       "      <td>Comedies, Dramas</td>\n",
       "      <td>A woman adjusting to life after a loss contend...</td>\n",
       "    </tr>\n",
       "    <tr>\n",
       "      <th>12</th>\n",
       "      <td>Movie</td>\n",
       "      <td>Je Suis Karl</td>\n",
       "      <td>Christian Schwochow</td>\n",
       "      <td>Luna Wedler, Jannis Niewöhner, Milan Peschel, ...</td>\n",
       "      <td>Germany, Czech Republic</td>\n",
       "      <td>September 23, 2021</td>\n",
       "      <td>2021</td>\n",
       "      <td>TV-MA</td>\n",
       "      <td>127 min</td>\n",
       "      <td>Dramas, International Movies</td>\n",
       "      <td>After most of her family is murdered in a terr...</td>\n",
       "    </tr>\n",
       "    <tr>\n",
       "      <th>24</th>\n",
       "      <td>Movie</td>\n",
       "      <td>Jeans</td>\n",
       "      <td>S. Shankar</td>\n",
       "      <td>Prashanth, Aishwarya Rai Bachchan, Sri Lakshmi...</td>\n",
       "      <td>India</td>\n",
       "      <td>September 21, 2021</td>\n",
       "      <td>1998</td>\n",
       "      <td>TV-14</td>\n",
       "      <td>166 min</td>\n",
       "      <td>Comedies, International Movies, Romantic Movies</td>\n",
       "      <td>When the father of the man she loves insists t...</td>\n",
       "    </tr>\n",
       "    <tr>\n",
       "      <th>27</th>\n",
       "      <td>Movie</td>\n",
       "      <td>Grown Ups</td>\n",
       "      <td>Dennis Dugan</td>\n",
       "      <td>Adam Sandler, Kevin James, Chris Rock, David S...</td>\n",
       "      <td>United States</td>\n",
       "      <td>September 20, 2021</td>\n",
       "      <td>2010</td>\n",
       "      <td>PG-13</td>\n",
       "      <td>103 min</td>\n",
       "      <td>Comedies</td>\n",
       "      <td>Mourning the loss of their beloved junior high...</td>\n",
       "    </tr>\n",
       "    <tr>\n",
       "      <th>28</th>\n",
       "      <td>Movie</td>\n",
       "      <td>Dark Skies</td>\n",
       "      <td>Scott Stewart</td>\n",
       "      <td>Keri Russell, Josh Hamilton, J.K. Simmons, Dak...</td>\n",
       "      <td>United States</td>\n",
       "      <td>September 19, 2021</td>\n",
       "      <td>2013</td>\n",
       "      <td>PG-13</td>\n",
       "      <td>97 min</td>\n",
       "      <td>Horror Movies, Sci-Fi &amp; Fantasy</td>\n",
       "      <td>A family’s idyllic suburban life shatters when...</td>\n",
       "    </tr>\n",
       "    <tr>\n",
       "      <th>29</th>\n",
       "      <td>Movie</td>\n",
       "      <td>Paranoia</td>\n",
       "      <td>Robert Luketic</td>\n",
       "      <td>Liam Hemsworth, Gary Oldman, Amber Heard, Harr...</td>\n",
       "      <td>United States, India, France</td>\n",
       "      <td>September 19, 2021</td>\n",
       "      <td>2013</td>\n",
       "      <td>PG-13</td>\n",
       "      <td>106 min</td>\n",
       "      <td>Thrillers</td>\n",
       "      <td>Blackmailed by his company's CEO, a low-level ...</td>\n",
       "    </tr>\n",
       "    <tr>\n",
       "      <th>38</th>\n",
       "      <td>Movie</td>\n",
       "      <td>Birth of the Dragon</td>\n",
       "      <td>George Nolfi</td>\n",
       "      <td>Billy Magnussen, Ron Yuan, Qu Jingjing, Terry ...</td>\n",
       "      <td>China, Canada, United States</td>\n",
       "      <td>September 16, 2021</td>\n",
       "      <td>2017</td>\n",
       "      <td>PG-13</td>\n",
       "      <td>96 min</td>\n",
       "      <td>Action &amp; Adventure, Dramas</td>\n",
       "      <td>A young Bruce Lee angers kung fu traditionalis...</td>\n",
       "    </tr>\n",
       "    <tr>\n",
       "      <th>41</th>\n",
       "      <td>Movie</td>\n",
       "      <td>Jaws</td>\n",
       "      <td>Steven Spielberg</td>\n",
       "      <td>Roy Scheider, Robert Shaw, Richard Dreyfuss, L...</td>\n",
       "      <td>United States</td>\n",
       "      <td>September 16, 2021</td>\n",
       "      <td>1975</td>\n",
       "      <td>PG</td>\n",
       "      <td>124 min</td>\n",
       "      <td>Action &amp; Adventure, Classic Movies, Dramas</td>\n",
       "      <td>When an insatiable great white shark terrorize...</td>\n",
       "    </tr>\n",
       "  </tbody>\n",
       "</table>\n",
       "</div>"
      ],
      "text/plain": [
       "       type                          title             director  \\\n",
       "7     Movie                        Sankofa         Haile Gerima   \n",
       "8   TV Show  The Great British Baking Show      Andy Devonshire   \n",
       "9     Movie                   The Starling       Theodore Melfi   \n",
       "12    Movie                   Je Suis Karl  Christian Schwochow   \n",
       "24    Movie                          Jeans           S. Shankar   \n",
       "27    Movie                      Grown Ups         Dennis Dugan   \n",
       "28    Movie                     Dark Skies        Scott Stewart   \n",
       "29    Movie                       Paranoia       Robert Luketic   \n",
       "38    Movie            Birth of the Dragon         George Nolfi   \n",
       "41    Movie                           Jaws     Steven Spielberg   \n",
       "\n",
       "                                                 cast  \\\n",
       "7   Kofi Ghanaba, Oyafunmike Ogunlano, Alexandra D...   \n",
       "8   Mel Giedroyc, Sue Perkins, Mary Berry, Paul Ho...   \n",
       "9   Melissa McCarthy, Chris O'Dowd, Kevin Kline, T...   \n",
       "12  Luna Wedler, Jannis Niewöhner, Milan Peschel, ...   \n",
       "24  Prashanth, Aishwarya Rai Bachchan, Sri Lakshmi...   \n",
       "27  Adam Sandler, Kevin James, Chris Rock, David S...   \n",
       "28  Keri Russell, Josh Hamilton, J.K. Simmons, Dak...   \n",
       "29  Liam Hemsworth, Gary Oldman, Amber Heard, Harr...   \n",
       "38  Billy Magnussen, Ron Yuan, Qu Jingjing, Terry ...   \n",
       "41  Roy Scheider, Robert Shaw, Richard Dreyfuss, L...   \n",
       "\n",
       "                                              country          date_added  \\\n",
       "7   United States, Ghana, Burkina Faso, United Kin...  September 24, 2021   \n",
       "8                                      United Kingdom  September 24, 2021   \n",
       "9                                       United States  September 24, 2021   \n",
       "12                            Germany, Czech Republic  September 23, 2021   \n",
       "24                                              India  September 21, 2021   \n",
       "27                                      United States  September 20, 2021   \n",
       "28                                      United States  September 19, 2021   \n",
       "29                       United States, India, France  September 19, 2021   \n",
       "38                       China, Canada, United States  September 16, 2021   \n",
       "41                                      United States  September 16, 2021   \n",
       "\n",
       "    release_year rating   duration  \\\n",
       "7           1993  TV-MA    125 min   \n",
       "8           2021  TV-14  9 Seasons   \n",
       "9           2021  PG-13    104 min   \n",
       "12          2021  TV-MA    127 min   \n",
       "24          1998  TV-14    166 min   \n",
       "27          2010  PG-13    103 min   \n",
       "28          2013  PG-13     97 min   \n",
       "29          2013  PG-13    106 min   \n",
       "38          2017  PG-13     96 min   \n",
       "41          1975     PG    124 min   \n",
       "\n",
       "                                           listed_in  \\\n",
       "7   Dramas, Independent Movies, International Movies   \n",
       "8                       British TV Shows, Reality TV   \n",
       "9                                   Comedies, Dramas   \n",
       "12                      Dramas, International Movies   \n",
       "24   Comedies, International Movies, Romantic Movies   \n",
       "27                                          Comedies   \n",
       "28                   Horror Movies, Sci-Fi & Fantasy   \n",
       "29                                         Thrillers   \n",
       "38                        Action & Adventure, Dramas   \n",
       "41        Action & Adventure, Classic Movies, Dramas   \n",
       "\n",
       "                                          description  \n",
       "7   On a photo shoot in Ghana, an American model s...  \n",
       "8   A talented batch of amateur bakers face off in...  \n",
       "9   A woman adjusting to life after a loss contend...  \n",
       "12  After most of her family is murdered in a terr...  \n",
       "24  When the father of the man she loves insists t...  \n",
       "27  Mourning the loss of their beloved junior high...  \n",
       "28  A family’s idyllic suburban life shatters when...  \n",
       "29  Blackmailed by his company's CEO, a low-level ...  \n",
       "38  A young Bruce Lee angers kung fu traditionalis...  \n",
       "41  When an insatiable great white shark terrorize...  "
      ]
     },
     "execution_count": 6,
     "metadata": {},
     "output_type": "execute_result"
    }
   ],
   "source": [
    "df.head(10)"
   ]
  },
  {
   "cell_type": "markdown",
   "id": "51aa4c2d",
   "metadata": {},
   "source": [
    "So this is what the data looks like after dropping the column **show_id**"
   ]
  },
  {
   "cell_type": "code",
   "execution_count": 7,
   "id": "93a07a3f",
   "metadata": {},
   "outputs": [
    {
     "data": {
      "text/html": [
       "<div>\n",
       "<style scoped>\n",
       "    .dataframe tbody tr th:only-of-type {\n",
       "        vertical-align: middle;\n",
       "    }\n",
       "\n",
       "    .dataframe tbody tr th {\n",
       "        vertical-align: top;\n",
       "    }\n",
       "\n",
       "    .dataframe thead th {\n",
       "        text-align: right;\n",
       "    }\n",
       "</style>\n",
       "<table border=\"1\" class=\"dataframe\">\n",
       "  <thead>\n",
       "    <tr style=\"text-align: right;\">\n",
       "      <th></th>\n",
       "      <th>type</th>\n",
       "      <th>title</th>\n",
       "      <th>director</th>\n",
       "      <th>cast</th>\n",
       "      <th>country</th>\n",
       "      <th>date_added</th>\n",
       "      <th>release_year</th>\n",
       "      <th>rating</th>\n",
       "      <th>duration</th>\n",
       "      <th>listed_in</th>\n",
       "      <th>description</th>\n",
       "    </tr>\n",
       "  </thead>\n",
       "  <tbody>\n",
       "    <tr>\n",
       "      <th>8792</th>\n",
       "      <td>Movie</td>\n",
       "      <td>Young Tiger</td>\n",
       "      <td>Mu Chu</td>\n",
       "      <td>Qiu Yuen, Charlie Chin, Jackie Chan, Hu Chin, ...</td>\n",
       "      <td>Hong Kong</td>\n",
       "      <td>November 1, 2016</td>\n",
       "      <td>1973</td>\n",
       "      <td>NR</td>\n",
       "      <td>81 min</td>\n",
       "      <td>Action &amp; Adventure, International Movies</td>\n",
       "      <td>Aided only by a tough female police officer, a...</td>\n",
       "    </tr>\n",
       "    <tr>\n",
       "      <th>8793</th>\n",
       "      <td>Movie</td>\n",
       "      <td>Yours, Mine and Ours</td>\n",
       "      <td>Raja Gosnell</td>\n",
       "      <td>Dennis Quaid, Rene Russo, Sean Faris, Katija P...</td>\n",
       "      <td>United States</td>\n",
       "      <td>November 20, 2019</td>\n",
       "      <td>2005</td>\n",
       "      <td>PG</td>\n",
       "      <td>88 min</td>\n",
       "      <td>Children &amp; Family Movies, Comedies</td>\n",
       "      <td>When a father of eight and a mother of 10 prep...</td>\n",
       "    </tr>\n",
       "    <tr>\n",
       "      <th>8794</th>\n",
       "      <td>Movie</td>\n",
       "      <td>اشتباك</td>\n",
       "      <td>Mohamed Diab</td>\n",
       "      <td>Nelly Karim, Hany Adel, Tarek Abdel Aziz, Ahme...</td>\n",
       "      <td>Egypt, France</td>\n",
       "      <td>October 11, 2018</td>\n",
       "      <td>2016</td>\n",
       "      <td>TV-14</td>\n",
       "      <td>98 min</td>\n",
       "      <td>Dramas, Independent Movies, International Movies</td>\n",
       "      <td>Amid the tumult following Egyptian President M...</td>\n",
       "    </tr>\n",
       "    <tr>\n",
       "      <th>8798</th>\n",
       "      <td>Movie</td>\n",
       "      <td>Zed Plus</td>\n",
       "      <td>Chandra Prakash Dwivedi</td>\n",
       "      <td>Adil Hussain, Mona Singh, K.K. Raina, Sanjay M...</td>\n",
       "      <td>India</td>\n",
       "      <td>December 31, 2019</td>\n",
       "      <td>2014</td>\n",
       "      <td>TV-MA</td>\n",
       "      <td>131 min</td>\n",
       "      <td>Comedies, Dramas, International Movies</td>\n",
       "      <td>A philandering small-town mechanic's political...</td>\n",
       "    </tr>\n",
       "    <tr>\n",
       "      <th>8799</th>\n",
       "      <td>Movie</td>\n",
       "      <td>Zenda</td>\n",
       "      <td>Avadhoot Gupte</td>\n",
       "      <td>Santosh Juvekar, Siddharth Chandekar, Sachit P...</td>\n",
       "      <td>India</td>\n",
       "      <td>February 15, 2018</td>\n",
       "      <td>2009</td>\n",
       "      <td>TV-14</td>\n",
       "      <td>120 min</td>\n",
       "      <td>Dramas, International Movies</td>\n",
       "      <td>A change in the leadership of a political part...</td>\n",
       "    </tr>\n",
       "    <tr>\n",
       "      <th>8801</th>\n",
       "      <td>Movie</td>\n",
       "      <td>Zinzana</td>\n",
       "      <td>Majid Al Ansari</td>\n",
       "      <td>Ali Suliman, Saleh Bakri, Yasa, Ali Al-Jabri, ...</td>\n",
       "      <td>United Arab Emirates, Jordan</td>\n",
       "      <td>March 9, 2016</td>\n",
       "      <td>2015</td>\n",
       "      <td>TV-MA</td>\n",
       "      <td>96 min</td>\n",
       "      <td>Dramas, International Movies, Thrillers</td>\n",
       "      <td>Recovering alcoholic Talal wakes up inside a s...</td>\n",
       "    </tr>\n",
       "    <tr>\n",
       "      <th>8802</th>\n",
       "      <td>Movie</td>\n",
       "      <td>Zodiac</td>\n",
       "      <td>David Fincher</td>\n",
       "      <td>Mark Ruffalo, Jake Gyllenhaal, Robert Downey J...</td>\n",
       "      <td>United States</td>\n",
       "      <td>November 20, 2019</td>\n",
       "      <td>2007</td>\n",
       "      <td>R</td>\n",
       "      <td>158 min</td>\n",
       "      <td>Cult Movies, Dramas, Thrillers</td>\n",
       "      <td>A political cartoonist, a crime reporter and a...</td>\n",
       "    </tr>\n",
       "    <tr>\n",
       "      <th>8804</th>\n",
       "      <td>Movie</td>\n",
       "      <td>Zombieland</td>\n",
       "      <td>Ruben Fleischer</td>\n",
       "      <td>Jesse Eisenberg, Woody Harrelson, Emma Stone, ...</td>\n",
       "      <td>United States</td>\n",
       "      <td>November 1, 2019</td>\n",
       "      <td>2009</td>\n",
       "      <td>R</td>\n",
       "      <td>88 min</td>\n",
       "      <td>Comedies, Horror Movies</td>\n",
       "      <td>Looking to survive in a world taken over by zo...</td>\n",
       "    </tr>\n",
       "    <tr>\n",
       "      <th>8805</th>\n",
       "      <td>Movie</td>\n",
       "      <td>Zoom</td>\n",
       "      <td>Peter Hewitt</td>\n",
       "      <td>Tim Allen, Courteney Cox, Chevy Chase, Kate Ma...</td>\n",
       "      <td>United States</td>\n",
       "      <td>January 11, 2020</td>\n",
       "      <td>2006</td>\n",
       "      <td>PG</td>\n",
       "      <td>88 min</td>\n",
       "      <td>Children &amp; Family Movies, Comedies</td>\n",
       "      <td>Dragged from civilian life, a former superhero...</td>\n",
       "    </tr>\n",
       "    <tr>\n",
       "      <th>8806</th>\n",
       "      <td>Movie</td>\n",
       "      <td>Zubaan</td>\n",
       "      <td>Mozez Singh</td>\n",
       "      <td>Vicky Kaushal, Sarah-Jane Dias, Raaghav Chanan...</td>\n",
       "      <td>India</td>\n",
       "      <td>March 2, 2019</td>\n",
       "      <td>2015</td>\n",
       "      <td>TV-14</td>\n",
       "      <td>111 min</td>\n",
       "      <td>Dramas, International Movies, Music &amp; Musicals</td>\n",
       "      <td>A scrappy but poor boy worms his way into a ty...</td>\n",
       "    </tr>\n",
       "  </tbody>\n",
       "</table>\n",
       "</div>"
      ],
      "text/plain": [
       "       type                 title                 director  \\\n",
       "8792  Movie           Young Tiger                   Mu Chu   \n",
       "8793  Movie  Yours, Mine and Ours             Raja Gosnell   \n",
       "8794  Movie                اشتباك             Mohamed Diab   \n",
       "8798  Movie              Zed Plus  Chandra Prakash Dwivedi   \n",
       "8799  Movie                 Zenda           Avadhoot Gupte   \n",
       "8801  Movie               Zinzana          Majid Al Ansari   \n",
       "8802  Movie                Zodiac            David Fincher   \n",
       "8804  Movie            Zombieland          Ruben Fleischer   \n",
       "8805  Movie                  Zoom             Peter Hewitt   \n",
       "8806  Movie                Zubaan              Mozez Singh   \n",
       "\n",
       "                                                   cast  \\\n",
       "8792  Qiu Yuen, Charlie Chin, Jackie Chan, Hu Chin, ...   \n",
       "8793  Dennis Quaid, Rene Russo, Sean Faris, Katija P...   \n",
       "8794  Nelly Karim, Hany Adel, Tarek Abdel Aziz, Ahme...   \n",
       "8798  Adil Hussain, Mona Singh, K.K. Raina, Sanjay M...   \n",
       "8799  Santosh Juvekar, Siddharth Chandekar, Sachit P...   \n",
       "8801  Ali Suliman, Saleh Bakri, Yasa, Ali Al-Jabri, ...   \n",
       "8802  Mark Ruffalo, Jake Gyllenhaal, Robert Downey J...   \n",
       "8804  Jesse Eisenberg, Woody Harrelson, Emma Stone, ...   \n",
       "8805  Tim Allen, Courteney Cox, Chevy Chase, Kate Ma...   \n",
       "8806  Vicky Kaushal, Sarah-Jane Dias, Raaghav Chanan...   \n",
       "\n",
       "                           country         date_added  release_year rating  \\\n",
       "8792                     Hong Kong   November 1, 2016          1973     NR   \n",
       "8793                 United States  November 20, 2019          2005     PG   \n",
       "8794                 Egypt, France   October 11, 2018          2016  TV-14   \n",
       "8798                         India  December 31, 2019          2014  TV-MA   \n",
       "8799                         India  February 15, 2018          2009  TV-14   \n",
       "8801  United Arab Emirates, Jordan      March 9, 2016          2015  TV-MA   \n",
       "8802                 United States  November 20, 2019          2007      R   \n",
       "8804                 United States   November 1, 2019          2009      R   \n",
       "8805                 United States   January 11, 2020          2006     PG   \n",
       "8806                         India      March 2, 2019          2015  TV-14   \n",
       "\n",
       "     duration                                         listed_in  \\\n",
       "8792   81 min          Action & Adventure, International Movies   \n",
       "8793   88 min                Children & Family Movies, Comedies   \n",
       "8794   98 min  Dramas, Independent Movies, International Movies   \n",
       "8798  131 min            Comedies, Dramas, International Movies   \n",
       "8799  120 min                      Dramas, International Movies   \n",
       "8801   96 min           Dramas, International Movies, Thrillers   \n",
       "8802  158 min                    Cult Movies, Dramas, Thrillers   \n",
       "8804   88 min                           Comedies, Horror Movies   \n",
       "8805   88 min                Children & Family Movies, Comedies   \n",
       "8806  111 min    Dramas, International Movies, Music & Musicals   \n",
       "\n",
       "                                            description  \n",
       "8792  Aided only by a tough female police officer, a...  \n",
       "8793  When a father of eight and a mother of 10 prep...  \n",
       "8794  Amid the tumult following Egyptian President M...  \n",
       "8798  A philandering small-town mechanic's political...  \n",
       "8799  A change in the leadership of a political part...  \n",
       "8801  Recovering alcoholic Talal wakes up inside a s...  \n",
       "8802  A political cartoonist, a crime reporter and a...  \n",
       "8804  Looking to survive in a world taken over by zo...  \n",
       "8805  Dragged from civilian life, a former superhero...  \n",
       "8806  A scrappy but poor boy worms his way into a ty...  "
      ]
     },
     "execution_count": 7,
     "metadata": {},
     "output_type": "execute_result"
    }
   ],
   "source": [
    "df.tail(10)"
   ]
  },
  {
   "cell_type": "markdown",
   "id": "408ab512",
   "metadata": {},
   "source": [
    "Let's see the description of the dataset."
   ]
  },
  {
   "cell_type": "code",
   "execution_count": 8,
   "id": "33254939",
   "metadata": {},
   "outputs": [
    {
     "data": {
      "text/plain": [
       "<bound method NDFrame.describe of          type                          title             director  \\\n",
       "7       Movie                        Sankofa         Haile Gerima   \n",
       "8     TV Show  The Great British Baking Show      Andy Devonshire   \n",
       "9       Movie                   The Starling       Theodore Melfi   \n",
       "12      Movie                   Je Suis Karl  Christian Schwochow   \n",
       "24      Movie                          Jeans           S. Shankar   \n",
       "...       ...                            ...                  ...   \n",
       "8801    Movie                        Zinzana      Majid Al Ansari   \n",
       "8802    Movie                         Zodiac        David Fincher   \n",
       "8804    Movie                     Zombieland      Ruben Fleischer   \n",
       "8805    Movie                           Zoom         Peter Hewitt   \n",
       "8806    Movie                         Zubaan          Mozez Singh   \n",
       "\n",
       "                                                   cast  \\\n",
       "7     Kofi Ghanaba, Oyafunmike Ogunlano, Alexandra D...   \n",
       "8     Mel Giedroyc, Sue Perkins, Mary Berry, Paul Ho...   \n",
       "9     Melissa McCarthy, Chris O'Dowd, Kevin Kline, T...   \n",
       "12    Luna Wedler, Jannis Niewöhner, Milan Peschel, ...   \n",
       "24    Prashanth, Aishwarya Rai Bachchan, Sri Lakshmi...   \n",
       "...                                                 ...   \n",
       "8801  Ali Suliman, Saleh Bakri, Yasa, Ali Al-Jabri, ...   \n",
       "8802  Mark Ruffalo, Jake Gyllenhaal, Robert Downey J...   \n",
       "8804  Jesse Eisenberg, Woody Harrelson, Emma Stone, ...   \n",
       "8805  Tim Allen, Courteney Cox, Chevy Chase, Kate Ma...   \n",
       "8806  Vicky Kaushal, Sarah-Jane Dias, Raaghav Chanan...   \n",
       "\n",
       "                                                country          date_added  \\\n",
       "7     United States, Ghana, Burkina Faso, United Kin...  September 24, 2021   \n",
       "8                                        United Kingdom  September 24, 2021   \n",
       "9                                         United States  September 24, 2021   \n",
       "12                              Germany, Czech Republic  September 23, 2021   \n",
       "24                                                India  September 21, 2021   \n",
       "...                                                 ...                 ...   \n",
       "8801                       United Arab Emirates, Jordan       March 9, 2016   \n",
       "8802                                      United States   November 20, 2019   \n",
       "8804                                      United States    November 1, 2019   \n",
       "8805                                      United States    January 11, 2020   \n",
       "8806                                              India       March 2, 2019   \n",
       "\n",
       "      release_year rating   duration  \\\n",
       "7             1993  TV-MA    125 min   \n",
       "8             2021  TV-14  9 Seasons   \n",
       "9             2021  PG-13    104 min   \n",
       "12            2021  TV-MA    127 min   \n",
       "24            1998  TV-14    166 min   \n",
       "...            ...    ...        ...   \n",
       "8801          2015  TV-MA     96 min   \n",
       "8802          2007      R    158 min   \n",
       "8804          2009      R     88 min   \n",
       "8805          2006     PG     88 min   \n",
       "8806          2015  TV-14    111 min   \n",
       "\n",
       "                                             listed_in  \\\n",
       "7     Dramas, Independent Movies, International Movies   \n",
       "8                         British TV Shows, Reality TV   \n",
       "9                                     Comedies, Dramas   \n",
       "12                        Dramas, International Movies   \n",
       "24     Comedies, International Movies, Romantic Movies   \n",
       "...                                                ...   \n",
       "8801           Dramas, International Movies, Thrillers   \n",
       "8802                    Cult Movies, Dramas, Thrillers   \n",
       "8804                           Comedies, Horror Movies   \n",
       "8805                Children & Family Movies, Comedies   \n",
       "8806    Dramas, International Movies, Music & Musicals   \n",
       "\n",
       "                                            description  \n",
       "7     On a photo shoot in Ghana, an American model s...  \n",
       "8     A talented batch of amateur bakers face off in...  \n",
       "9     A woman adjusting to life after a loss contend...  \n",
       "12    After most of her family is murdered in a terr...  \n",
       "24    When the father of the man she loves insists t...  \n",
       "...                                                 ...  \n",
       "8801  Recovering alcoholic Talal wakes up inside a s...  \n",
       "8802  A political cartoonist, a crime reporter and a...  \n",
       "8804  Looking to survive in a world taken over by zo...  \n",
       "8805  Dragged from civilian life, a former superhero...  \n",
       "8806  A scrappy but poor boy worms his way into a ty...  \n",
       "\n",
       "[5332 rows x 11 columns]>"
      ]
     },
     "execution_count": 8,
     "metadata": {},
     "output_type": "execute_result"
    }
   ],
   "source": [
    "df.describe"
   ]
  },
  {
   "cell_type": "markdown",
   "id": "435550fc",
   "metadata": {},
   "source": [
    "## Exploratory Data Analysis (EDA)"
   ]
  },
  {
   "cell_type": "markdown",
   "id": "6c8625bb",
   "metadata": {},
   "source": [
    "Let's see what's the total count of each type in the column **type**"
   ]
  },
  {
   "cell_type": "code",
   "execution_count": 9,
   "id": "072efdba",
   "metadata": {},
   "outputs": [
    {
     "data": {
      "text/plain": [
       "Movie      5185\n",
       "TV Show     147\n",
       "Name: type, dtype: int64"
      ]
     },
     "execution_count": 9,
     "metadata": {},
     "output_type": "execute_result"
    }
   ],
   "source": [
    "df['type'].value_counts().head()"
   ]
  },
  {
   "cell_type": "markdown",
   "id": "83441734",
   "metadata": {},
   "source": [
    "We can see that the difference between the two types is incrediby high."
   ]
  },
  {
   "cell_type": "markdown",
   "id": "d0beb6ca",
   "metadata": {},
   "source": [
    "Let's see most popular directors who contributed to the **Netflix Library**"
   ]
  },
  {
   "cell_type": "code",
   "execution_count": 10,
   "id": "d2257005",
   "metadata": {},
   "outputs": [
    {
     "data": {
      "text/plain": [
       "Raúl Campos, Jan Suter    18\n",
       "Marcus Raboy              15\n",
       "Jay Karas                 14\n",
       "Cathy Garcia-Molina       13\n",
       "Martin Scorsese           12\n",
       "Name: director, dtype: int64"
      ]
     },
     "execution_count": 10,
     "metadata": {},
     "output_type": "execute_result"
    }
   ],
   "source": [
    "df['director'].value_counts().head()"
   ]
  },
  {
   "cell_type": "markdown",
   "id": "af052d3a",
   "metadata": {},
   "source": [
    "According to the data, **Raul Campos** and **Jan Suter** are the directors with most contribution."
   ]
  },
  {
   "cell_type": "markdown",
   "id": "34600cf2",
   "metadata": {},
   "source": [
    "Now let's see what are the different countries that produce most content in the world."
   ]
  },
  {
   "cell_type": "code",
   "execution_count": 11,
   "id": "38912960",
   "metadata": {},
   "outputs": [
    {
     "data": {
      "text/plain": [
       "United States     1846\n",
       "India              875\n",
       "United Kingdom     183\n",
       "Canada             107\n",
       "Spain               91\n",
       "Name: country, dtype: int64"
      ]
     },
     "execution_count": 11,
     "metadata": {},
     "output_type": "execute_result"
    }
   ],
   "source": [
    "df['country'].value_counts().head()"
   ]
  },
  {
   "cell_type": "markdown",
   "id": "f0bf2d97",
   "metadata": {},
   "source": [
    "So we can see that **United States** and **United Kingdom** are the major content producing countries, although **India** lies in the third place but the numeric difference is much high."
   ]
  },
  {
   "cell_type": "markdown",
   "id": "2679b9b2",
   "metadata": {},
   "source": [
    "Now let's see the countries who barely produce any content"
   ]
  },
  {
   "cell_type": "code",
   "execution_count": 12,
   "id": "e12d15b3",
   "metadata": {},
   "outputs": [
    {
     "data": {
      "text/plain": [
       "Uruguay, Guatemala                              1\n",
       "Romania, Bulgaria, Hungary                      1\n",
       "Philippines, United States                      1\n",
       "India, United Kingdom, Canada, United States    1\n",
       "United Arab Emirates, Jordan                    1\n",
       "Name: country, dtype: int64"
      ]
     },
     "execution_count": 12,
     "metadata": {},
     "output_type": "execute_result"
    }
   ],
   "source": [
    "df['country'].value_counts().tail()"
   ]
  },
  {
   "cell_type": "markdown",
   "id": "69065ff7",
   "metadata": {},
   "source": [
    "These are some countries with minimal producing content."
   ]
  },
  {
   "cell_type": "markdown",
   "id": "c1546fc5",
   "metadata": {},
   "source": [
    "### Now let's find out the total number of unique directors"
   ]
  },
  {
   "cell_type": "code",
   "execution_count": 13,
   "id": "f24beac0",
   "metadata": {},
   "outputs": [
    {
     "data": {
      "text/plain": [
       "3945"
      ]
     },
     "execution_count": 13,
     "metadata": {},
     "output_type": "execute_result"
    }
   ],
   "source": [
    "df['director'].nunique()"
   ]
  },
  {
   "cell_type": "markdown",
   "id": "7eaa6893",
   "metadata": {},
   "source": [
    "So there are **3945** unique directors who contributed to the Netflix Library."
   ]
  },
  {
   "cell_type": "code",
   "execution_count": 14,
   "id": "7e66b7ff",
   "metadata": {},
   "outputs": [
    {
     "data": {
      "text/plain": [
       "604"
      ]
     },
     "execution_count": 14,
     "metadata": {},
     "output_type": "execute_result"
    }
   ],
   "source": [
    "df['country'].nunique()"
   ]
  },
  {
   "cell_type": "markdown",
   "id": "3d2d3662",
   "metadata": {},
   "source": [
    "Similarly, there are **604** unique countries from where contents are being produced."
   ]
  },
  {
   "cell_type": "markdown",
   "id": "da0a1e23",
   "metadata": {},
   "source": [
    "### Let's count the number of different rating classes"
   ]
  },
  {
   "cell_type": "code",
   "execution_count": 15,
   "id": "9fdbc7ce",
   "metadata": {},
   "outputs": [
    {
     "data": {
      "text/plain": [
       "TV-MA    1822\n",
       "TV-14    1214\n",
       "R         778\n",
       "PG-13     470\n",
       "TV-PG     431\n",
       "PG        275\n",
       "TV-G       84\n",
       "TV-Y7      76\n",
       "TV-Y       76\n",
       "NR         58\n",
       "Name: rating, dtype: int64"
      ]
     },
     "execution_count": 15,
     "metadata": {},
     "output_type": "execute_result"
    }
   ],
   "source": [
    "df['rating'].value_counts().head(10)"
   ]
  },
  {
   "cell_type": "markdown",
   "id": "3b710edf",
   "metadata": {},
   "source": [
    "We can see that **TV-MA**, **TV-14** and **R** are the most given ratings in the dataset."
   ]
  },
  {
   "cell_type": "code",
   "execution_count": 40,
   "id": "74870557",
   "metadata": {},
   "outputs": [
    {
     "name": "stdout",
     "output_type": "stream",
     "text": [
      "<class 'pandas.core.frame.DataFrame'>\n",
      "Int64Index: 5332 entries, 7 to 8806\n",
      "Data columns (total 11 columns):\n",
      " #   Column        Non-Null Count  Dtype \n",
      "---  ------        --------------  ----- \n",
      " 0   type          5332 non-null   object\n",
      " 1   title         5332 non-null   object\n",
      " 2   director      5332 non-null   object\n",
      " 3   cast          5332 non-null   object\n",
      " 4   country       5332 non-null   object\n",
      " 5   date_added    5332 non-null   object\n",
      " 6   release_year  5332 non-null   int64 \n",
      " 7   rating        5332 non-null   object\n",
      " 8   duration      5332 non-null   object\n",
      " 9   listed_in     5332 non-null   object\n",
      " 10  description   5332 non-null   object\n",
      "dtypes: int64(1), object(10)\n",
      "memory usage: 499.9+ KB\n"
     ]
    }
   ],
   "source": [
    "df['date_added'] = pd.to_datetime(df['date_added'], format='%B %d, %Y')\n",
    "df['date_added'] = df['date_added'].dt.strftime('%d, %B, %Y')\n",
    "\n",
    "df.info()"
   ]
  },
  {
   "cell_type": "code",
   "execution_count": 16,
   "id": "db9bdcc9",
   "metadata": {},
   "outputs": [
    {
     "data": {
      "text/html": [
       "<div>\n",
       "<style scoped>\n",
       "    .dataframe tbody tr th:only-of-type {\n",
       "        vertical-align: middle;\n",
       "    }\n",
       "\n",
       "    .dataframe tbody tr th {\n",
       "        vertical-align: top;\n",
       "    }\n",
       "\n",
       "    .dataframe thead th {\n",
       "        text-align: right;\n",
       "    }\n",
       "</style>\n",
       "<table border=\"1\" class=\"dataframe\">\n",
       "  <thead>\n",
       "    <tr style=\"text-align: right;\">\n",
       "      <th></th>\n",
       "      <th>type</th>\n",
       "      <th>title</th>\n",
       "      <th>director</th>\n",
       "      <th>cast</th>\n",
       "      <th>country</th>\n",
       "      <th>date_added</th>\n",
       "      <th>release_year</th>\n",
       "      <th>rating</th>\n",
       "      <th>duration</th>\n",
       "      <th>listed_in</th>\n",
       "      <th>description</th>\n",
       "    </tr>\n",
       "  </thead>\n",
       "  <tbody>\n",
       "    <tr>\n",
       "      <th>7</th>\n",
       "      <td>Movie</td>\n",
       "      <td>Sankofa</td>\n",
       "      <td>Haile Gerima</td>\n",
       "      <td>Kofi Ghanaba, Oyafunmike Ogunlano, Alexandra D...</td>\n",
       "      <td>United States, Ghana, Burkina Faso, United Kin...</td>\n",
       "      <td>September 24, 2021</td>\n",
       "      <td>1993</td>\n",
       "      <td>TV-MA</td>\n",
       "      <td>125 min</td>\n",
       "      <td>Dramas, Independent Movies, International Movies</td>\n",
       "      <td>On a photo shoot in Ghana, an American model s...</td>\n",
       "    </tr>\n",
       "    <tr>\n",
       "      <th>8</th>\n",
       "      <td>TV Show</td>\n",
       "      <td>The Great British Baking Show</td>\n",
       "      <td>Andy Devonshire</td>\n",
       "      <td>Mel Giedroyc, Sue Perkins, Mary Berry, Paul Ho...</td>\n",
       "      <td>United Kingdom</td>\n",
       "      <td>September 24, 2021</td>\n",
       "      <td>2021</td>\n",
       "      <td>TV-14</td>\n",
       "      <td>9 Seasons</td>\n",
       "      <td>British TV Shows, Reality TV</td>\n",
       "      <td>A talented batch of amateur bakers face off in...</td>\n",
       "    </tr>\n",
       "    <tr>\n",
       "      <th>9</th>\n",
       "      <td>Movie</td>\n",
       "      <td>The Starling</td>\n",
       "      <td>Theodore Melfi</td>\n",
       "      <td>Melissa McCarthy, Chris O'Dowd, Kevin Kline, T...</td>\n",
       "      <td>United States</td>\n",
       "      <td>September 24, 2021</td>\n",
       "      <td>2021</td>\n",
       "      <td>PG-13</td>\n",
       "      <td>104 min</td>\n",
       "      <td>Comedies, Dramas</td>\n",
       "      <td>A woman adjusting to life after a loss contend...</td>\n",
       "    </tr>\n",
       "    <tr>\n",
       "      <th>12</th>\n",
       "      <td>Movie</td>\n",
       "      <td>Je Suis Karl</td>\n",
       "      <td>Christian Schwochow</td>\n",
       "      <td>Luna Wedler, Jannis Niewöhner, Milan Peschel, ...</td>\n",
       "      <td>Germany, Czech Republic</td>\n",
       "      <td>September 23, 2021</td>\n",
       "      <td>2021</td>\n",
       "      <td>TV-MA</td>\n",
       "      <td>127 min</td>\n",
       "      <td>Dramas, International Movies</td>\n",
       "      <td>After most of her family is murdered in a terr...</td>\n",
       "    </tr>\n",
       "    <tr>\n",
       "      <th>24</th>\n",
       "      <td>Movie</td>\n",
       "      <td>Jeans</td>\n",
       "      <td>S. Shankar</td>\n",
       "      <td>Prashanth, Aishwarya Rai Bachchan, Sri Lakshmi...</td>\n",
       "      <td>India</td>\n",
       "      <td>September 21, 2021</td>\n",
       "      <td>1998</td>\n",
       "      <td>TV-14</td>\n",
       "      <td>166 min</td>\n",
       "      <td>Comedies, International Movies, Romantic Movies</td>\n",
       "      <td>When the father of the man she loves insists t...</td>\n",
       "    </tr>\n",
       "  </tbody>\n",
       "</table>\n",
       "</div>"
      ],
      "text/plain": [
       "       type                          title             director  \\\n",
       "7     Movie                        Sankofa         Haile Gerima   \n",
       "8   TV Show  The Great British Baking Show      Andy Devonshire   \n",
       "9     Movie                   The Starling       Theodore Melfi   \n",
       "12    Movie                   Je Suis Karl  Christian Schwochow   \n",
       "24    Movie                          Jeans           S. Shankar   \n",
       "\n",
       "                                                 cast  \\\n",
       "7   Kofi Ghanaba, Oyafunmike Ogunlano, Alexandra D...   \n",
       "8   Mel Giedroyc, Sue Perkins, Mary Berry, Paul Ho...   \n",
       "9   Melissa McCarthy, Chris O'Dowd, Kevin Kline, T...   \n",
       "12  Luna Wedler, Jannis Niewöhner, Milan Peschel, ...   \n",
       "24  Prashanth, Aishwarya Rai Bachchan, Sri Lakshmi...   \n",
       "\n",
       "                                              country          date_added  \\\n",
       "7   United States, Ghana, Burkina Faso, United Kin...  September 24, 2021   \n",
       "8                                      United Kingdom  September 24, 2021   \n",
       "9                                       United States  September 24, 2021   \n",
       "12                            Germany, Czech Republic  September 23, 2021   \n",
       "24                                              India  September 21, 2021   \n",
       "\n",
       "    release_year rating   duration  \\\n",
       "7           1993  TV-MA    125 min   \n",
       "8           2021  TV-14  9 Seasons   \n",
       "9           2021  PG-13    104 min   \n",
       "12          2021  TV-MA    127 min   \n",
       "24          1998  TV-14    166 min   \n",
       "\n",
       "                                           listed_in  \\\n",
       "7   Dramas, Independent Movies, International Movies   \n",
       "8                       British TV Shows, Reality TV   \n",
       "9                                   Comedies, Dramas   \n",
       "12                      Dramas, International Movies   \n",
       "24   Comedies, International Movies, Romantic Movies   \n",
       "\n",
       "                                          description  \n",
       "7   On a photo shoot in Ghana, an American model s...  \n",
       "8   A talented batch of amateur bakers face off in...  \n",
       "9   A woman adjusting to life after a loss contend...  \n",
       "12  After most of her family is murdered in a terr...  \n",
       "24  When the father of the man she loves insists t...  "
      ]
     },
     "execution_count": 16,
     "metadata": {},
     "output_type": "execute_result"
    }
   ],
   "source": [
    "df.head()"
   ]
  },
  {
   "cell_type": "markdown",
   "id": "1b8f4217",
   "metadata": {},
   "source": [
    "### Similarly, let's count the number of unique listed_in genres"
   ]
  },
  {
   "cell_type": "code",
   "execution_count": 17,
   "id": "94442a0a",
   "metadata": {},
   "outputs": [
    {
     "data": {
      "text/plain": [
       "335"
      ]
     },
     "execution_count": 17,
     "metadata": {},
     "output_type": "execute_result"
    }
   ],
   "source": [
    "df['listed_in'].nunique()"
   ]
  },
  {
   "cell_type": "markdown",
   "id": "a0598b13",
   "metadata": {},
   "source": [
    "So there are **335** different genre classes."
   ]
  },
  {
   "cell_type": "code",
   "execution_count": 18,
   "id": "073618a5",
   "metadata": {},
   "outputs": [
    {
     "data": {
      "text/plain": [
       "Dramas, International Movies                        336\n",
       "Stand-Up Comedy                                     286\n",
       "Comedies, Dramas, International Movies              257\n",
       "Dramas, Independent Movies, International Movies    243\n",
       "Children & Family Movies, Comedies                  179\n",
       "Dramas, International Movies, Romantic Movies       160\n",
       "Documentaries                                       156\n",
       "Comedies, International Movies                      152\n",
       "Comedies, International Movies, Romantic Movies     143\n",
       "Dramas                                              133\n",
       "Name: listed_in, dtype: int64"
      ]
     },
     "execution_count": 18,
     "metadata": {},
     "output_type": "execute_result"
    }
   ],
   "source": [
    "df['listed_in'].value_counts().head(10)"
   ]
  },
  {
   "cell_type": "markdown",
   "id": "28dfc1a4",
   "metadata": {},
   "source": [
    "So **Dramas, International Movies**, **Stand-Up Comedy** and **Comedies, Dramas, International Movies** are the genre types that are mostly included in the Netflix Library."
   ]
  },
  {
   "cell_type": "code",
   "execution_count": 38,
   "id": "b9271862",
   "metadata": {},
   "outputs": [
    {
     "data": {
      "text/html": [
       "<div>\n",
       "<style scoped>\n",
       "    .dataframe tbody tr th:only-of-type {\n",
       "        vertical-align: middle;\n",
       "    }\n",
       "\n",
       "    .dataframe tbody tr th {\n",
       "        vertical-align: top;\n",
       "    }\n",
       "\n",
       "    .dataframe thead th {\n",
       "        text-align: right;\n",
       "    }\n",
       "</style>\n",
       "<table border=\"1\" class=\"dataframe\">\n",
       "  <thead>\n",
       "    <tr style=\"text-align: right;\">\n",
       "      <th></th>\n",
       "      <th>type</th>\n",
       "      <th>title</th>\n",
       "      <th>director</th>\n",
       "      <th>cast</th>\n",
       "      <th>country</th>\n",
       "      <th>date_added</th>\n",
       "      <th>release_year</th>\n",
       "      <th>rating</th>\n",
       "      <th>duration</th>\n",
       "      <th>listed_in</th>\n",
       "      <th>description</th>\n",
       "    </tr>\n",
       "  </thead>\n",
       "  <tbody>\n",
       "    <tr>\n",
       "      <th>7</th>\n",
       "      <td>Movie</td>\n",
       "      <td>Sankofa</td>\n",
       "      <td>Haile Gerima</td>\n",
       "      <td>Kofi Ghanaba, Oyafunmike Ogunlano, Alexandra D...</td>\n",
       "      <td>United States, Ghana, Burkina Faso, United Kin...</td>\n",
       "      <td>September 24, 2021</td>\n",
       "      <td>1993</td>\n",
       "      <td>TV-MA</td>\n",
       "      <td>125 min</td>\n",
       "      <td>Dramas, Independent Movies, International Movies</td>\n",
       "      <td>On a photo shoot in Ghana, an American model s...</td>\n",
       "    </tr>\n",
       "    <tr>\n",
       "      <th>8</th>\n",
       "      <td>TV Show</td>\n",
       "      <td>The Great British Baking Show</td>\n",
       "      <td>Andy Devonshire</td>\n",
       "      <td>Mel Giedroyc, Sue Perkins, Mary Berry, Paul Ho...</td>\n",
       "      <td>United Kingdom</td>\n",
       "      <td>September 24, 2021</td>\n",
       "      <td>2021</td>\n",
       "      <td>TV-14</td>\n",
       "      <td>9 Seasons</td>\n",
       "      <td>British TV Shows, Reality TV</td>\n",
       "      <td>A talented batch of amateur bakers face off in...</td>\n",
       "    </tr>\n",
       "    <tr>\n",
       "      <th>9</th>\n",
       "      <td>Movie</td>\n",
       "      <td>The Starling</td>\n",
       "      <td>Theodore Melfi</td>\n",
       "      <td>Melissa McCarthy, Chris O'Dowd, Kevin Kline, T...</td>\n",
       "      <td>United States</td>\n",
       "      <td>September 24, 2021</td>\n",
       "      <td>2021</td>\n",
       "      <td>PG-13</td>\n",
       "      <td>104 min</td>\n",
       "      <td>Comedies, Dramas</td>\n",
       "      <td>A woman adjusting to life after a loss contend...</td>\n",
       "    </tr>\n",
       "    <tr>\n",
       "      <th>12</th>\n",
       "      <td>Movie</td>\n",
       "      <td>Je Suis Karl</td>\n",
       "      <td>Christian Schwochow</td>\n",
       "      <td>Luna Wedler, Jannis Niewöhner, Milan Peschel, ...</td>\n",
       "      <td>Germany, Czech Republic</td>\n",
       "      <td>September 23, 2021</td>\n",
       "      <td>2021</td>\n",
       "      <td>TV-MA</td>\n",
       "      <td>127 min</td>\n",
       "      <td>Dramas, International Movies</td>\n",
       "      <td>After most of her family is murdered in a terr...</td>\n",
       "    </tr>\n",
       "    <tr>\n",
       "      <th>24</th>\n",
       "      <td>Movie</td>\n",
       "      <td>Jeans</td>\n",
       "      <td>S. Shankar</td>\n",
       "      <td>Prashanth, Aishwarya Rai Bachchan, Sri Lakshmi...</td>\n",
       "      <td>India</td>\n",
       "      <td>September 21, 2021</td>\n",
       "      <td>1998</td>\n",
       "      <td>TV-14</td>\n",
       "      <td>166 min</td>\n",
       "      <td>Comedies, International Movies, Romantic Movies</td>\n",
       "      <td>When the father of the man she loves insists t...</td>\n",
       "    </tr>\n",
       "  </tbody>\n",
       "</table>\n",
       "</div>"
      ],
      "text/plain": [
       "       type                          title             director  \\\n",
       "7     Movie                        Sankofa         Haile Gerima   \n",
       "8   TV Show  The Great British Baking Show      Andy Devonshire   \n",
       "9     Movie                   The Starling       Theodore Melfi   \n",
       "12    Movie                   Je Suis Karl  Christian Schwochow   \n",
       "24    Movie                          Jeans           S. Shankar   \n",
       "\n",
       "                                                 cast  \\\n",
       "7   Kofi Ghanaba, Oyafunmike Ogunlano, Alexandra D...   \n",
       "8   Mel Giedroyc, Sue Perkins, Mary Berry, Paul Ho...   \n",
       "9   Melissa McCarthy, Chris O'Dowd, Kevin Kline, T...   \n",
       "12  Luna Wedler, Jannis Niewöhner, Milan Peschel, ...   \n",
       "24  Prashanth, Aishwarya Rai Bachchan, Sri Lakshmi...   \n",
       "\n",
       "                                              country          date_added  \\\n",
       "7   United States, Ghana, Burkina Faso, United Kin...  September 24, 2021   \n",
       "8                                      United Kingdom  September 24, 2021   \n",
       "9                                       United States  September 24, 2021   \n",
       "12                            Germany, Czech Republic  September 23, 2021   \n",
       "24                                              India  September 21, 2021   \n",
       "\n",
       "    release_year rating   duration  \\\n",
       "7           1993  TV-MA    125 min   \n",
       "8           2021  TV-14  9 Seasons   \n",
       "9           2021  PG-13    104 min   \n",
       "12          2021  TV-MA    127 min   \n",
       "24          1998  TV-14    166 min   \n",
       "\n",
       "                                           listed_in  \\\n",
       "7   Dramas, Independent Movies, International Movies   \n",
       "8                       British TV Shows, Reality TV   \n",
       "9                                   Comedies, Dramas   \n",
       "12                      Dramas, International Movies   \n",
       "24   Comedies, International Movies, Romantic Movies   \n",
       "\n",
       "                                          description  \n",
       "7   On a photo shoot in Ghana, an American model s...  \n",
       "8   A talented batch of amateur bakers face off in...  \n",
       "9   A woman adjusting to life after a loss contend...  \n",
       "12  After most of her family is murdered in a terr...  \n",
       "24  When the father of the man she loves insists t...  "
      ]
     },
     "execution_count": 38,
     "metadata": {},
     "output_type": "execute_result"
    }
   ],
   "source": [
    "df.head()"
   ]
  },
  {
   "cell_type": "code",
   "execution_count": 39,
   "id": "70ff0055",
   "metadata": {},
   "outputs": [
    {
     "name": "stdout",
     "output_type": "stream",
     "text": [
      "      rating  count\n",
      "0          G     40\n",
      "1      NC-17      2\n",
      "2         NR     58\n",
      "3         PG    275\n",
      "4      PG-13    470\n",
      "5          R    778\n",
      "6      TV-14   1214\n",
      "7       TV-G     84\n",
      "8      TV-MA   1822\n",
      "9      TV-PG    431\n",
      "10      TV-Y     76\n",
      "11     TV-Y7     76\n",
      "12  TV-Y7-FV      3\n",
      "13        UR      3\n"
     ]
    }
   ],
   "source": [
    "rating_counts = df.groupby('rating').size().reset_index(name='count')\n",
    "\n",
    "print(rating_counts)"
   ]
  },
  {
   "cell_type": "markdown",
   "id": "14ca954d",
   "metadata": {},
   "source": [
    "### Now we've sepearted the dataset of two types to analyze the data in more details"
   ]
  },
  {
   "cell_type": "markdown",
   "id": "bc3bdc7f",
   "metadata": {},
   "source": [
    "Let's explore the **Movie type** first"
   ]
  },
  {
   "cell_type": "code",
   "execution_count": 20,
   "id": "dca897e6",
   "metadata": {},
   "outputs": [],
   "source": [
    "movie_types = df[df['type'] == 'Movie']"
   ]
  },
  {
   "cell_type": "code",
   "execution_count": 21,
   "id": "28a9b7a6",
   "metadata": {},
   "outputs": [
    {
     "data": {
      "text/html": [
       "<div>\n",
       "<style scoped>\n",
       "    .dataframe tbody tr th:only-of-type {\n",
       "        vertical-align: middle;\n",
       "    }\n",
       "\n",
       "    .dataframe tbody tr th {\n",
       "        vertical-align: top;\n",
       "    }\n",
       "\n",
       "    .dataframe thead th {\n",
       "        text-align: right;\n",
       "    }\n",
       "</style>\n",
       "<table border=\"1\" class=\"dataframe\">\n",
       "  <thead>\n",
       "    <tr style=\"text-align: right;\">\n",
       "      <th></th>\n",
       "      <th>type</th>\n",
       "      <th>title</th>\n",
       "      <th>director</th>\n",
       "      <th>cast</th>\n",
       "      <th>country</th>\n",
       "      <th>date_added</th>\n",
       "      <th>release_year</th>\n",
       "      <th>rating</th>\n",
       "      <th>duration</th>\n",
       "      <th>listed_in</th>\n",
       "      <th>description</th>\n",
       "    </tr>\n",
       "  </thead>\n",
       "  <tbody>\n",
       "    <tr>\n",
       "      <th>7</th>\n",
       "      <td>Movie</td>\n",
       "      <td>Sankofa</td>\n",
       "      <td>Haile Gerima</td>\n",
       "      <td>Kofi Ghanaba, Oyafunmike Ogunlano, Alexandra D...</td>\n",
       "      <td>United States, Ghana, Burkina Faso, United Kin...</td>\n",
       "      <td>September 24, 2021</td>\n",
       "      <td>1993</td>\n",
       "      <td>TV-MA</td>\n",
       "      <td>125 min</td>\n",
       "      <td>Dramas, Independent Movies, International Movies</td>\n",
       "      <td>On a photo shoot in Ghana, an American model s...</td>\n",
       "    </tr>\n",
       "    <tr>\n",
       "      <th>9</th>\n",
       "      <td>Movie</td>\n",
       "      <td>The Starling</td>\n",
       "      <td>Theodore Melfi</td>\n",
       "      <td>Melissa McCarthy, Chris O'Dowd, Kevin Kline, T...</td>\n",
       "      <td>United States</td>\n",
       "      <td>September 24, 2021</td>\n",
       "      <td>2021</td>\n",
       "      <td>PG-13</td>\n",
       "      <td>104 min</td>\n",
       "      <td>Comedies, Dramas</td>\n",
       "      <td>A woman adjusting to life after a loss contend...</td>\n",
       "    </tr>\n",
       "    <tr>\n",
       "      <th>12</th>\n",
       "      <td>Movie</td>\n",
       "      <td>Je Suis Karl</td>\n",
       "      <td>Christian Schwochow</td>\n",
       "      <td>Luna Wedler, Jannis Niewöhner, Milan Peschel, ...</td>\n",
       "      <td>Germany, Czech Republic</td>\n",
       "      <td>September 23, 2021</td>\n",
       "      <td>2021</td>\n",
       "      <td>TV-MA</td>\n",
       "      <td>127 min</td>\n",
       "      <td>Dramas, International Movies</td>\n",
       "      <td>After most of her family is murdered in a terr...</td>\n",
       "    </tr>\n",
       "    <tr>\n",
       "      <th>24</th>\n",
       "      <td>Movie</td>\n",
       "      <td>Jeans</td>\n",
       "      <td>S. Shankar</td>\n",
       "      <td>Prashanth, Aishwarya Rai Bachchan, Sri Lakshmi...</td>\n",
       "      <td>India</td>\n",
       "      <td>September 21, 2021</td>\n",
       "      <td>1998</td>\n",
       "      <td>TV-14</td>\n",
       "      <td>166 min</td>\n",
       "      <td>Comedies, International Movies, Romantic Movies</td>\n",
       "      <td>When the father of the man she loves insists t...</td>\n",
       "    </tr>\n",
       "    <tr>\n",
       "      <th>27</th>\n",
       "      <td>Movie</td>\n",
       "      <td>Grown Ups</td>\n",
       "      <td>Dennis Dugan</td>\n",
       "      <td>Adam Sandler, Kevin James, Chris Rock, David S...</td>\n",
       "      <td>United States</td>\n",
       "      <td>September 20, 2021</td>\n",
       "      <td>2010</td>\n",
       "      <td>PG-13</td>\n",
       "      <td>103 min</td>\n",
       "      <td>Comedies</td>\n",
       "      <td>Mourning the loss of their beloved junior high...</td>\n",
       "    </tr>\n",
       "    <tr>\n",
       "      <th>28</th>\n",
       "      <td>Movie</td>\n",
       "      <td>Dark Skies</td>\n",
       "      <td>Scott Stewart</td>\n",
       "      <td>Keri Russell, Josh Hamilton, J.K. Simmons, Dak...</td>\n",
       "      <td>United States</td>\n",
       "      <td>September 19, 2021</td>\n",
       "      <td>2013</td>\n",
       "      <td>PG-13</td>\n",
       "      <td>97 min</td>\n",
       "      <td>Horror Movies, Sci-Fi &amp; Fantasy</td>\n",
       "      <td>A family’s idyllic suburban life shatters when...</td>\n",
       "    </tr>\n",
       "    <tr>\n",
       "      <th>29</th>\n",
       "      <td>Movie</td>\n",
       "      <td>Paranoia</td>\n",
       "      <td>Robert Luketic</td>\n",
       "      <td>Liam Hemsworth, Gary Oldman, Amber Heard, Harr...</td>\n",
       "      <td>United States, India, France</td>\n",
       "      <td>September 19, 2021</td>\n",
       "      <td>2013</td>\n",
       "      <td>PG-13</td>\n",
       "      <td>106 min</td>\n",
       "      <td>Thrillers</td>\n",
       "      <td>Blackmailed by his company's CEO, a low-level ...</td>\n",
       "    </tr>\n",
       "    <tr>\n",
       "      <th>38</th>\n",
       "      <td>Movie</td>\n",
       "      <td>Birth of the Dragon</td>\n",
       "      <td>George Nolfi</td>\n",
       "      <td>Billy Magnussen, Ron Yuan, Qu Jingjing, Terry ...</td>\n",
       "      <td>China, Canada, United States</td>\n",
       "      <td>September 16, 2021</td>\n",
       "      <td>2017</td>\n",
       "      <td>PG-13</td>\n",
       "      <td>96 min</td>\n",
       "      <td>Action &amp; Adventure, Dramas</td>\n",
       "      <td>A young Bruce Lee angers kung fu traditionalis...</td>\n",
       "    </tr>\n",
       "    <tr>\n",
       "      <th>41</th>\n",
       "      <td>Movie</td>\n",
       "      <td>Jaws</td>\n",
       "      <td>Steven Spielberg</td>\n",
       "      <td>Roy Scheider, Robert Shaw, Richard Dreyfuss, L...</td>\n",
       "      <td>United States</td>\n",
       "      <td>September 16, 2021</td>\n",
       "      <td>1975</td>\n",
       "      <td>PG</td>\n",
       "      <td>124 min</td>\n",
       "      <td>Action &amp; Adventure, Classic Movies, Dramas</td>\n",
       "      <td>When an insatiable great white shark terrorize...</td>\n",
       "    </tr>\n",
       "    <tr>\n",
       "      <th>42</th>\n",
       "      <td>Movie</td>\n",
       "      <td>Jaws 2</td>\n",
       "      <td>Jeannot Szwarc</td>\n",
       "      <td>Roy Scheider, Lorraine Gary, Murray Hamilton, ...</td>\n",
       "      <td>United States</td>\n",
       "      <td>September 16, 2021</td>\n",
       "      <td>1978</td>\n",
       "      <td>PG</td>\n",
       "      <td>116 min</td>\n",
       "      <td>Dramas, Horror Movies, Thrillers</td>\n",
       "      <td>Four years after the last deadly shark attacks...</td>\n",
       "    </tr>\n",
       "  </tbody>\n",
       "</table>\n",
       "</div>"
      ],
      "text/plain": [
       "     type                title             director  \\\n",
       "7   Movie              Sankofa         Haile Gerima   \n",
       "9   Movie         The Starling       Theodore Melfi   \n",
       "12  Movie         Je Suis Karl  Christian Schwochow   \n",
       "24  Movie                Jeans           S. Shankar   \n",
       "27  Movie            Grown Ups         Dennis Dugan   \n",
       "28  Movie           Dark Skies        Scott Stewart   \n",
       "29  Movie             Paranoia       Robert Luketic   \n",
       "38  Movie  Birth of the Dragon         George Nolfi   \n",
       "41  Movie                 Jaws     Steven Spielberg   \n",
       "42  Movie               Jaws 2       Jeannot Szwarc   \n",
       "\n",
       "                                                 cast  \\\n",
       "7   Kofi Ghanaba, Oyafunmike Ogunlano, Alexandra D...   \n",
       "9   Melissa McCarthy, Chris O'Dowd, Kevin Kline, T...   \n",
       "12  Luna Wedler, Jannis Niewöhner, Milan Peschel, ...   \n",
       "24  Prashanth, Aishwarya Rai Bachchan, Sri Lakshmi...   \n",
       "27  Adam Sandler, Kevin James, Chris Rock, David S...   \n",
       "28  Keri Russell, Josh Hamilton, J.K. Simmons, Dak...   \n",
       "29  Liam Hemsworth, Gary Oldman, Amber Heard, Harr...   \n",
       "38  Billy Magnussen, Ron Yuan, Qu Jingjing, Terry ...   \n",
       "41  Roy Scheider, Robert Shaw, Richard Dreyfuss, L...   \n",
       "42  Roy Scheider, Lorraine Gary, Murray Hamilton, ...   \n",
       "\n",
       "                                              country          date_added  \\\n",
       "7   United States, Ghana, Burkina Faso, United Kin...  September 24, 2021   \n",
       "9                                       United States  September 24, 2021   \n",
       "12                            Germany, Czech Republic  September 23, 2021   \n",
       "24                                              India  September 21, 2021   \n",
       "27                                      United States  September 20, 2021   \n",
       "28                                      United States  September 19, 2021   \n",
       "29                       United States, India, France  September 19, 2021   \n",
       "38                       China, Canada, United States  September 16, 2021   \n",
       "41                                      United States  September 16, 2021   \n",
       "42                                      United States  September 16, 2021   \n",
       "\n",
       "    release_year rating duration  \\\n",
       "7           1993  TV-MA  125 min   \n",
       "9           2021  PG-13  104 min   \n",
       "12          2021  TV-MA  127 min   \n",
       "24          1998  TV-14  166 min   \n",
       "27          2010  PG-13  103 min   \n",
       "28          2013  PG-13   97 min   \n",
       "29          2013  PG-13  106 min   \n",
       "38          2017  PG-13   96 min   \n",
       "41          1975     PG  124 min   \n",
       "42          1978     PG  116 min   \n",
       "\n",
       "                                           listed_in  \\\n",
       "7   Dramas, Independent Movies, International Movies   \n",
       "9                                   Comedies, Dramas   \n",
       "12                      Dramas, International Movies   \n",
       "24   Comedies, International Movies, Romantic Movies   \n",
       "27                                          Comedies   \n",
       "28                   Horror Movies, Sci-Fi & Fantasy   \n",
       "29                                         Thrillers   \n",
       "38                        Action & Adventure, Dramas   \n",
       "41        Action & Adventure, Classic Movies, Dramas   \n",
       "42                  Dramas, Horror Movies, Thrillers   \n",
       "\n",
       "                                          description  \n",
       "7   On a photo shoot in Ghana, an American model s...  \n",
       "9   A woman adjusting to life after a loss contend...  \n",
       "12  After most of her family is murdered in a terr...  \n",
       "24  When the father of the man she loves insists t...  \n",
       "27  Mourning the loss of their beloved junior high...  \n",
       "28  A family’s idyllic suburban life shatters when...  \n",
       "29  Blackmailed by his company's CEO, a low-level ...  \n",
       "38  A young Bruce Lee angers kung fu traditionalis...  \n",
       "41  When an insatiable great white shark terrorize...  \n",
       "42  Four years after the last deadly shark attacks...  "
      ]
     },
     "execution_count": 21,
     "metadata": {},
     "output_type": "execute_result"
    }
   ],
   "source": [
    "movie_types.head(10)"
   ]
  },
  {
   "cell_type": "markdown",
   "id": "45a87842",
   "metadata": {},
   "source": [
    "Let's explore the **duration** column"
   ]
  },
  {
   "cell_type": "code",
   "execution_count": 22,
   "id": "b47203c8",
   "metadata": {},
   "outputs": [
    {
     "data": {
      "text/plain": [
       "7     125 min\n",
       "9     104 min\n",
       "12    127 min\n",
       "24    166 min\n",
       "27    103 min\n",
       "28     97 min\n",
       "29    106 min\n",
       "38     96 min\n",
       "41    124 min\n",
       "42    116 min\n",
       "Name: duration, dtype: object"
      ]
     },
     "execution_count": 22,
     "metadata": {},
     "output_type": "execute_result"
    }
   ],
   "source": [
    "movie_types['duration'].head(10)"
   ]
  },
  {
   "cell_type": "markdown",
   "id": "8e4a261c",
   "metadata": {},
   "source": [
    "We can come to a conclusion that most of the movies have duration length greater that **100 minutes**."
   ]
  },
  {
   "cell_type": "code",
   "execution_count": 29,
   "id": "e0837044",
   "metadata": {},
   "outputs": [
    {
     "data": {
      "text/plain": [
       "7     United States, Ghana, Burkina Faso, United Kin...\n",
       "9                                         United States\n",
       "12                              Germany, Czech Republic\n",
       "24                                                India\n",
       "27                                        United States\n",
       "28                                        United States\n",
       "29                         United States, India, France\n",
       "38                         China, Canada, United States\n",
       "41                                        United States\n",
       "42                                        United States\n",
       "Name: country, dtype: object"
      ]
     },
     "execution_count": 29,
     "metadata": {},
     "output_type": "execute_result"
    }
   ],
   "source": [
    "movie_types['country'].head(10)"
   ]
  },
  {
   "cell_type": "markdown",
   "id": "a36b488a",
   "metadata": {},
   "source": [
    "So these are the top countries in the **Movie** type dataset."
   ]
  },
  {
   "cell_type": "code",
   "execution_count": 30,
   "id": "37251825",
   "metadata": {},
   "outputs": [
    {
     "data": {
      "text/plain": [
       "country\n",
       ", France, Algeria                                       1\n",
       "Argentina                                              34\n",
       "Argentina, Brazil, France, Poland, Germany, Denmark     1\n",
       "Argentina, Chile                                        2\n",
       "Argentina, Chile, Peru                                  1\n",
       "Argentina, France                                       1\n",
       "Argentina, France, United States, Germany, Qatar        1\n",
       "Argentina, Spain                                        7\n",
       "Argentina, United States                                1\n",
       "Argentina, Uruguay, Serbia                              1\n",
       "Name: director, dtype: int64"
      ]
     },
     "execution_count": 30,
     "metadata": {},
     "output_type": "execute_result"
    }
   ],
   "source": [
    "movie_types.groupby('country')['director'].count().head(10)"
   ]
  },
  {
   "cell_type": "markdown",
   "id": "72c3f14b",
   "metadata": {},
   "source": [
    "Only **Argentina** has the most number of movie directors i.e. **34**"
   ]
  },
  {
   "cell_type": "code",
   "execution_count": 31,
   "id": "e5072214",
   "metadata": {},
   "outputs": [
    {
     "data": {
      "text/plain": [
       "country\n",
       "United States, United Kingdom, Spain, South Korea    1\n",
       "Uruguay                                              2\n",
       "Uruguay, Argentina                                   1\n",
       "Uruguay, Argentina, Germany, Spain                   1\n",
       "Uruguay, Argentina, Spain                            1\n",
       "Uruguay, Guatemala                                   1\n",
       "Uruguay, Spain, Mexico                               1\n",
       "Venezuela                                            1\n",
       "Vietnam                                              7\n",
       "Zimbabwe                                             1\n",
       "Name: director, dtype: int64"
      ]
     },
     "execution_count": 31,
     "metadata": {},
     "output_type": "execute_result"
    }
   ],
   "source": [
    "movie_types.groupby('country')['director'].count().tail(10)"
   ]
  },
  {
   "cell_type": "markdown",
   "id": "19f48f9a",
   "metadata": {},
   "source": [
    "These are the cointries which produce fewer movies."
   ]
  },
  {
   "cell_type": "markdown",
   "id": "ddd8dbdf",
   "metadata": {},
   "source": [
    "### Now let's group together all the directors."
   ]
  },
  {
   "cell_type": "code",
   "execution_count": 32,
   "id": "48689d81",
   "metadata": {},
   "outputs": [
    {
     "data": {
      "text/html": [
       "<div>\n",
       "<style scoped>\n",
       "    .dataframe tbody tr th:only-of-type {\n",
       "        vertical-align: middle;\n",
       "    }\n",
       "\n",
       "    .dataframe tbody tr th {\n",
       "        vertical-align: top;\n",
       "    }\n",
       "\n",
       "    .dataframe thead th {\n",
       "        text-align: right;\n",
       "    }\n",
       "</style>\n",
       "<table border=\"1\" class=\"dataframe\">\n",
       "  <thead>\n",
       "    <tr style=\"text-align: right;\">\n",
       "      <th></th>\n",
       "      <th>type</th>\n",
       "      <th>title</th>\n",
       "      <th>cast</th>\n",
       "      <th>country</th>\n",
       "      <th>date_added</th>\n",
       "      <th>release_year</th>\n",
       "      <th>rating</th>\n",
       "      <th>duration</th>\n",
       "      <th>listed_in</th>\n",
       "      <th>description</th>\n",
       "    </tr>\n",
       "    <tr>\n",
       "      <th>director</th>\n",
       "      <th></th>\n",
       "      <th></th>\n",
       "      <th></th>\n",
       "      <th></th>\n",
       "      <th></th>\n",
       "      <th></th>\n",
       "      <th></th>\n",
       "      <th></th>\n",
       "      <th></th>\n",
       "      <th></th>\n",
       "    </tr>\n",
       "  </thead>\n",
       "  <tbody>\n",
       "    <tr>\n",
       "      <th>A. L. Vijay</th>\n",
       "      <td>2</td>\n",
       "      <td>2</td>\n",
       "      <td>2</td>\n",
       "      <td>2</td>\n",
       "      <td>2</td>\n",
       "      <td>2</td>\n",
       "      <td>2</td>\n",
       "      <td>2</td>\n",
       "      <td>2</td>\n",
       "      <td>2</td>\n",
       "    </tr>\n",
       "    <tr>\n",
       "      <th>A. Raajdheep</th>\n",
       "      <td>1</td>\n",
       "      <td>1</td>\n",
       "      <td>1</td>\n",
       "      <td>1</td>\n",
       "      <td>1</td>\n",
       "      <td>1</td>\n",
       "      <td>1</td>\n",
       "      <td>1</td>\n",
       "      <td>1</td>\n",
       "      <td>1</td>\n",
       "    </tr>\n",
       "    <tr>\n",
       "      <th>A. Salaam</th>\n",
       "      <td>1</td>\n",
       "      <td>1</td>\n",
       "      <td>1</td>\n",
       "      <td>1</td>\n",
       "      <td>1</td>\n",
       "      <td>1</td>\n",
       "      <td>1</td>\n",
       "      <td>1</td>\n",
       "      <td>1</td>\n",
       "      <td>1</td>\n",
       "    </tr>\n",
       "    <tr>\n",
       "      <th>A.R. Murugadoss</th>\n",
       "      <td>1</td>\n",
       "      <td>1</td>\n",
       "      <td>1</td>\n",
       "      <td>1</td>\n",
       "      <td>1</td>\n",
       "      <td>1</td>\n",
       "      <td>1</td>\n",
       "      <td>1</td>\n",
       "      <td>1</td>\n",
       "      <td>1</td>\n",
       "    </tr>\n",
       "    <tr>\n",
       "      <th>Aadish Keluskar</th>\n",
       "      <td>1</td>\n",
       "      <td>1</td>\n",
       "      <td>1</td>\n",
       "      <td>1</td>\n",
       "      <td>1</td>\n",
       "      <td>1</td>\n",
       "      <td>1</td>\n",
       "      <td>1</td>\n",
       "      <td>1</td>\n",
       "      <td>1</td>\n",
       "    </tr>\n",
       "    <tr>\n",
       "      <th>Aamir Bashir</th>\n",
       "      <td>1</td>\n",
       "      <td>1</td>\n",
       "      <td>1</td>\n",
       "      <td>1</td>\n",
       "      <td>1</td>\n",
       "      <td>1</td>\n",
       "      <td>1</td>\n",
       "      <td>1</td>\n",
       "      <td>1</td>\n",
       "      <td>1</td>\n",
       "    </tr>\n",
       "    <tr>\n",
       "      <th>Aamir Khan</th>\n",
       "      <td>1</td>\n",
       "      <td>1</td>\n",
       "      <td>1</td>\n",
       "      <td>1</td>\n",
       "      <td>1</td>\n",
       "      <td>1</td>\n",
       "      <td>1</td>\n",
       "      <td>1</td>\n",
       "      <td>1</td>\n",
       "      <td>1</td>\n",
       "    </tr>\n",
       "    <tr>\n",
       "      <th>Aanand Rai</th>\n",
       "      <td>1</td>\n",
       "      <td>1</td>\n",
       "      <td>1</td>\n",
       "      <td>1</td>\n",
       "      <td>1</td>\n",
       "      <td>1</td>\n",
       "      <td>1</td>\n",
       "      <td>1</td>\n",
       "      <td>1</td>\n",
       "      <td>1</td>\n",
       "    </tr>\n",
       "    <tr>\n",
       "      <th>Aaron Burns</th>\n",
       "      <td>1</td>\n",
       "      <td>1</td>\n",
       "      <td>1</td>\n",
       "      <td>1</td>\n",
       "      <td>1</td>\n",
       "      <td>1</td>\n",
       "      <td>1</td>\n",
       "      <td>1</td>\n",
       "      <td>1</td>\n",
       "      <td>1</td>\n",
       "    </tr>\n",
       "    <tr>\n",
       "      <th>Aaron Hann, Mario Miscione</th>\n",
       "      <td>1</td>\n",
       "      <td>1</td>\n",
       "      <td>1</td>\n",
       "      <td>1</td>\n",
       "      <td>1</td>\n",
       "      <td>1</td>\n",
       "      <td>1</td>\n",
       "      <td>1</td>\n",
       "      <td>1</td>\n",
       "      <td>1</td>\n",
       "    </tr>\n",
       "  </tbody>\n",
       "</table>\n",
       "</div>"
      ],
      "text/plain": [
       "                            type  title  cast  country  date_added  \\\n",
       "director                                                             \n",
       "A. L. Vijay                    2      2     2        2           2   \n",
       "A. Raajdheep                   1      1     1        1           1   \n",
       "A. Salaam                      1      1     1        1           1   \n",
       "A.R. Murugadoss                1      1     1        1           1   \n",
       "Aadish Keluskar                1      1     1        1           1   \n",
       "Aamir Bashir                   1      1     1        1           1   \n",
       "Aamir Khan                     1      1     1        1           1   \n",
       "Aanand Rai                     1      1     1        1           1   \n",
       "Aaron Burns                    1      1     1        1           1   \n",
       "Aaron Hann, Mario Miscione     1      1     1        1           1   \n",
       "\n",
       "                            release_year  rating  duration  listed_in  \\\n",
       "director                                                                \n",
       "A. L. Vijay                            2       2         2          2   \n",
       "A. Raajdheep                           1       1         1          1   \n",
       "A. Salaam                              1       1         1          1   \n",
       "A.R. Murugadoss                        1       1         1          1   \n",
       "Aadish Keluskar                        1       1         1          1   \n",
       "Aamir Bashir                           1       1         1          1   \n",
       "Aamir Khan                             1       1         1          1   \n",
       "Aanand Rai                             1       1         1          1   \n",
       "Aaron Burns                            1       1         1          1   \n",
       "Aaron Hann, Mario Miscione             1       1         1          1   \n",
       "\n",
       "                            description  \n",
       "director                                 \n",
       "A. L. Vijay                           2  \n",
       "A. Raajdheep                          1  \n",
       "A. Salaam                             1  \n",
       "A.R. Murugadoss                       1  \n",
       "Aadish Keluskar                       1  \n",
       "Aamir Bashir                          1  \n",
       "Aamir Khan                            1  \n",
       "Aanand Rai                            1  \n",
       "Aaron Burns                           1  \n",
       "Aaron Hann, Mario Miscione            1  "
      ]
     },
     "execution_count": 32,
     "metadata": {},
     "output_type": "execute_result"
    }
   ],
   "source": [
    "movie_types.groupby('director').count().head(10)"
   ]
  },
  {
   "cell_type": "markdown",
   "id": "5a8aa422",
   "metadata": {},
   "source": [
    "These are the top directors"
   ]
  },
  {
   "cell_type": "code",
   "execution_count": 33,
   "id": "6d718eaf",
   "metadata": {},
   "outputs": [
    {
     "data": {
      "text/html": [
       "<div>\n",
       "<style scoped>\n",
       "    .dataframe tbody tr th:only-of-type {\n",
       "        vertical-align: middle;\n",
       "    }\n",
       "\n",
       "    .dataframe tbody tr th {\n",
       "        vertical-align: top;\n",
       "    }\n",
       "\n",
       "    .dataframe thead th {\n",
       "        text-align: right;\n",
       "    }\n",
       "</style>\n",
       "<table border=\"1\" class=\"dataframe\">\n",
       "  <thead>\n",
       "    <tr style=\"text-align: right;\">\n",
       "      <th></th>\n",
       "      <th>type</th>\n",
       "      <th>title</th>\n",
       "      <th>cast</th>\n",
       "      <th>country</th>\n",
       "      <th>date_added</th>\n",
       "      <th>release_year</th>\n",
       "      <th>rating</th>\n",
       "      <th>duration</th>\n",
       "      <th>listed_in</th>\n",
       "      <th>description</th>\n",
       "    </tr>\n",
       "    <tr>\n",
       "      <th>director</th>\n",
       "      <th></th>\n",
       "      <th></th>\n",
       "      <th></th>\n",
       "      <th></th>\n",
       "      <th></th>\n",
       "      <th></th>\n",
       "      <th></th>\n",
       "      <th></th>\n",
       "      <th></th>\n",
       "      <th></th>\n",
       "    </tr>\n",
       "  </thead>\n",
       "  <tbody>\n",
       "    <tr>\n",
       "      <th>Álex de la Iglesia</th>\n",
       "      <td>2</td>\n",
       "      <td>2</td>\n",
       "      <td>2</td>\n",
       "      <td>2</td>\n",
       "      <td>2</td>\n",
       "      <td>2</td>\n",
       "      <td>2</td>\n",
       "      <td>2</td>\n",
       "      <td>2</td>\n",
       "      <td>2</td>\n",
       "    </tr>\n",
       "    <tr>\n",
       "      <th>Álvaro Brechner</th>\n",
       "      <td>1</td>\n",
       "      <td>1</td>\n",
       "      <td>1</td>\n",
       "      <td>1</td>\n",
       "      <td>1</td>\n",
       "      <td>1</td>\n",
       "      <td>1</td>\n",
       "      <td>1</td>\n",
       "      <td>1</td>\n",
       "      <td>1</td>\n",
       "    </tr>\n",
       "    <tr>\n",
       "      <th>Álvaro Delgado-Aparicio L.</th>\n",
       "      <td>1</td>\n",
       "      <td>1</td>\n",
       "      <td>1</td>\n",
       "      <td>1</td>\n",
       "      <td>1</td>\n",
       "      <td>1</td>\n",
       "      <td>1</td>\n",
       "      <td>1</td>\n",
       "      <td>1</td>\n",
       "      <td>1</td>\n",
       "    </tr>\n",
       "    <tr>\n",
       "      <th>Ángel Gómez Hernández</th>\n",
       "      <td>1</td>\n",
       "      <td>1</td>\n",
       "      <td>1</td>\n",
       "      <td>1</td>\n",
       "      <td>1</td>\n",
       "      <td>1</td>\n",
       "      <td>1</td>\n",
       "      <td>1</td>\n",
       "      <td>1</td>\n",
       "      <td>1</td>\n",
       "    </tr>\n",
       "    <tr>\n",
       "      <th>Ángeles Reiné</th>\n",
       "      <td>1</td>\n",
       "      <td>1</td>\n",
       "      <td>1</td>\n",
       "      <td>1</td>\n",
       "      <td>1</td>\n",
       "      <td>1</td>\n",
       "      <td>1</td>\n",
       "      <td>1</td>\n",
       "      <td>1</td>\n",
       "      <td>1</td>\n",
       "    </tr>\n",
       "    <tr>\n",
       "      <th>Çagan Irmak</th>\n",
       "      <td>1</td>\n",
       "      <td>1</td>\n",
       "      <td>1</td>\n",
       "      <td>1</td>\n",
       "      <td>1</td>\n",
       "      <td>1</td>\n",
       "      <td>1</td>\n",
       "      <td>1</td>\n",
       "      <td>1</td>\n",
       "      <td>1</td>\n",
       "    </tr>\n",
       "    <tr>\n",
       "      <th>Ísold Uggadóttir</th>\n",
       "      <td>1</td>\n",
       "      <td>1</td>\n",
       "      <td>1</td>\n",
       "      <td>1</td>\n",
       "      <td>1</td>\n",
       "      <td>1</td>\n",
       "      <td>1</td>\n",
       "      <td>1</td>\n",
       "      <td>1</td>\n",
       "      <td>1</td>\n",
       "    </tr>\n",
       "    <tr>\n",
       "      <th>Óskar Thór Axelsson</th>\n",
       "      <td>1</td>\n",
       "      <td>1</td>\n",
       "      <td>1</td>\n",
       "      <td>1</td>\n",
       "      <td>1</td>\n",
       "      <td>1</td>\n",
       "      <td>1</td>\n",
       "      <td>1</td>\n",
       "      <td>1</td>\n",
       "      <td>1</td>\n",
       "    </tr>\n",
       "    <tr>\n",
       "      <th>Ömer Faruk Sorak</th>\n",
       "      <td>2</td>\n",
       "      <td>2</td>\n",
       "      <td>2</td>\n",
       "      <td>2</td>\n",
       "      <td>2</td>\n",
       "      <td>2</td>\n",
       "      <td>2</td>\n",
       "      <td>2</td>\n",
       "      <td>2</td>\n",
       "      <td>2</td>\n",
       "    </tr>\n",
       "    <tr>\n",
       "      <th>Şenol Sönmez</th>\n",
       "      <td>2</td>\n",
       "      <td>2</td>\n",
       "      <td>2</td>\n",
       "      <td>2</td>\n",
       "      <td>2</td>\n",
       "      <td>2</td>\n",
       "      <td>2</td>\n",
       "      <td>2</td>\n",
       "      <td>2</td>\n",
       "      <td>2</td>\n",
       "    </tr>\n",
       "  </tbody>\n",
       "</table>\n",
       "</div>"
      ],
      "text/plain": [
       "                            type  title  cast  country  date_added  \\\n",
       "director                                                             \n",
       "Álex de la Iglesia             2      2     2        2           2   \n",
       "Álvaro Brechner                1      1     1        1           1   \n",
       "Álvaro Delgado-Aparicio L.     1      1     1        1           1   \n",
       "Ángel Gómez Hernández          1      1     1        1           1   \n",
       "Ángeles Reiné                  1      1     1        1           1   \n",
       "Çagan Irmak                    1      1     1        1           1   \n",
       "Ísold Uggadóttir               1      1     1        1           1   \n",
       "Óskar Thór Axelsson            1      1     1        1           1   \n",
       "Ömer Faruk Sorak               2      2     2        2           2   \n",
       "Şenol Sönmez                   2      2     2        2           2   \n",
       "\n",
       "                            release_year  rating  duration  listed_in  \\\n",
       "director                                                                \n",
       "Álex de la Iglesia                     2       2         2          2   \n",
       "Álvaro Brechner                        1       1         1          1   \n",
       "Álvaro Delgado-Aparicio L.             1       1         1          1   \n",
       "Ángel Gómez Hernández                  1       1         1          1   \n",
       "Ángeles Reiné                          1       1         1          1   \n",
       "Çagan Irmak                            1       1         1          1   \n",
       "Ísold Uggadóttir                       1       1         1          1   \n",
       "Óskar Thór Axelsson                    1       1         1          1   \n",
       "Ömer Faruk Sorak                       2       2         2          2   \n",
       "Şenol Sönmez                           2       2         2          2   \n",
       "\n",
       "                            description  \n",
       "director                                 \n",
       "Álex de la Iglesia                    2  \n",
       "Álvaro Brechner                       1  \n",
       "Álvaro Delgado-Aparicio L.            1  \n",
       "Ángel Gómez Hernández                 1  \n",
       "Ángeles Reiné                         1  \n",
       "Çagan Irmak                           1  \n",
       "Ísold Uggadóttir                      1  \n",
       "Óskar Thór Axelsson                   1  \n",
       "Ömer Faruk Sorak                      2  \n",
       "Şenol Sönmez                          2  "
      ]
     },
     "execution_count": 33,
     "metadata": {},
     "output_type": "execute_result"
    }
   ],
   "source": [
    "movie_types.groupby('director').count().tail(10)"
   ]
  },
  {
   "cell_type": "markdown",
   "id": "558adef6",
   "metadata": {},
   "source": [
    "And the bottom directors as well."
   ]
  },
  {
   "cell_type": "markdown",
   "id": "f8cd743d",
   "metadata": {},
   "source": [
    "#### Let's see how many unique types are there"
   ]
  },
  {
   "cell_type": "code",
   "execution_count": 34,
   "id": "cee39632",
   "metadata": {},
   "outputs": [
    {
     "data": {
      "text/plain": [
       "2"
      ]
     },
     "execution_count": 34,
     "metadata": {},
     "output_type": "execute_result"
    }
   ],
   "source": [
    "df['type'].nunique()"
   ]
  },
  {
   "cell_type": "markdown",
   "id": "22d9e981",
   "metadata": {},
   "source": [
    "Only two types"
   ]
  },
  {
   "cell_type": "markdown",
   "id": "e50c3417",
   "metadata": {},
   "source": [
    "### Checking the rating column"
   ]
  },
  {
   "cell_type": "code",
   "execution_count": 42,
   "id": "47b7d070",
   "metadata": {},
   "outputs": [
    {
     "data": {
      "text/plain": [
       "7     TV-MA\n",
       "8     TV-14\n",
       "9     PG-13\n",
       "12    TV-MA\n",
       "24    TV-14\n",
       "27    PG-13\n",
       "28    PG-13\n",
       "29    PG-13\n",
       "38    PG-13\n",
       "41       PG\n",
       "Name: rating, dtype: object"
      ]
     },
     "execution_count": 42,
     "metadata": {},
     "output_type": "execute_result"
    }
   ],
   "source": [
    "df['rating'].head(10)"
   ]
  },
  {
   "cell_type": "code",
   "execution_count": 36,
   "id": "0011979b",
   "metadata": {},
   "outputs": [
    {
     "data": {
      "text/plain": [
       "8792       NR\n",
       "8793       PG\n",
       "8794    TV-14\n",
       "8798    TV-MA\n",
       "8799    TV-14\n",
       "8801    TV-MA\n",
       "8802        R\n",
       "8804        R\n",
       "8805       PG\n",
       "8806    TV-14\n",
       "Name: rating, dtype: object"
      ]
     },
     "execution_count": 36,
     "metadata": {},
     "output_type": "execute_result"
    }
   ],
   "source": [
    "df['rating'].tail(10)"
   ]
  },
  {
   "cell_type": "markdown",
   "id": "d47667a7",
   "metadata": {},
   "source": [
    "### Similarly, now taking the TV Show type as a seperate dataset"
   ]
  },
  {
   "cell_type": "code",
   "execution_count": 35,
   "id": "f9b6d42f",
   "metadata": {},
   "outputs": [],
   "source": [
    "tv_show_types = df[df['type'] == 'TV Show']"
   ]
  },
  {
   "cell_type": "code",
   "execution_count": 36,
   "id": "4a8ecd4e",
   "metadata": {},
   "outputs": [
    {
     "data": {
      "text/html": [
       "<div>\n",
       "<style scoped>\n",
       "    .dataframe tbody tr th:only-of-type {\n",
       "        vertical-align: middle;\n",
       "    }\n",
       "\n",
       "    .dataframe tbody tr th {\n",
       "        vertical-align: top;\n",
       "    }\n",
       "\n",
       "    .dataframe thead th {\n",
       "        text-align: right;\n",
       "    }\n",
       "</style>\n",
       "<table border=\"1\" class=\"dataframe\">\n",
       "  <thead>\n",
       "    <tr style=\"text-align: right;\">\n",
       "      <th></th>\n",
       "      <th>type</th>\n",
       "      <th>title</th>\n",
       "      <th>director</th>\n",
       "      <th>cast</th>\n",
       "      <th>country</th>\n",
       "      <th>date_added</th>\n",
       "      <th>release_year</th>\n",
       "      <th>rating</th>\n",
       "      <th>duration</th>\n",
       "      <th>listed_in</th>\n",
       "      <th>description</th>\n",
       "    </tr>\n",
       "  </thead>\n",
       "  <tbody>\n",
       "    <tr>\n",
       "      <th>8</th>\n",
       "      <td>TV Show</td>\n",
       "      <td>The Great British Baking Show</td>\n",
       "      <td>Andy Devonshire</td>\n",
       "      <td>Mel Giedroyc, Sue Perkins, Mary Berry, Paul Ho...</td>\n",
       "      <td>United Kingdom</td>\n",
       "      <td>September 24, 2021</td>\n",
       "      <td>2021</td>\n",
       "      <td>TV-14</td>\n",
       "      <td>9 Seasons</td>\n",
       "      <td>British TV Shows, Reality TV</td>\n",
       "      <td>A talented batch of amateur bakers face off in...</td>\n",
       "    </tr>\n",
       "    <tr>\n",
       "      <th>198</th>\n",
       "      <td>TV Show</td>\n",
       "      <td>King of Boys: The Return of the King</td>\n",
       "      <td>Kemi Adetiba</td>\n",
       "      <td>Sola Sobowale, Toni Tones, Richard Mofe-Damijo...</td>\n",
       "      <td>Nigeria</td>\n",
       "      <td>August 27, 2021</td>\n",
       "      <td>2021</td>\n",
       "      <td>TV-MA</td>\n",
       "      <td>1 Season</td>\n",
       "      <td>Crime TV Shows, International TV Shows, TV Dramas</td>\n",
       "      <td>Alhaja Eniola Salami starts anew and sets her ...</td>\n",
       "    </tr>\n",
       "    <tr>\n",
       "      <th>273</th>\n",
       "      <td>TV Show</td>\n",
       "      <td>Gone for Good</td>\n",
       "      <td>Juan Carlos Medina</td>\n",
       "      <td>Finnegan Oldfield, Nicolas Duvauchelle, Guilla...</td>\n",
       "      <td>France</td>\n",
       "      <td>August 13, 2021</td>\n",
       "      <td>2021</td>\n",
       "      <td>TV-MA</td>\n",
       "      <td>1 Season</td>\n",
       "      <td>Crime TV Shows, International TV Shows, TV Dramas</td>\n",
       "      <td>Ten years after losing two loved ones, a man i...</td>\n",
       "    </tr>\n",
       "    <tr>\n",
       "      <th>276</th>\n",
       "      <td>TV Show</td>\n",
       "      <td>Valeria</td>\n",
       "      <td>Inma Torrente</td>\n",
       "      <td>Diana Gómez, Silma López, Paula Malia, Teresa ...</td>\n",
       "      <td>Spain</td>\n",
       "      <td>August 13, 2021</td>\n",
       "      <td>2021</td>\n",
       "      <td>TV-MA</td>\n",
       "      <td>2 Seasons</td>\n",
       "      <td>International TV Shows, Romantic TV Shows, Spa...</td>\n",
       "      <td>A writer in creative and marital crises finds ...</td>\n",
       "    </tr>\n",
       "    <tr>\n",
       "      <th>297</th>\n",
       "      <td>TV Show</td>\n",
       "      <td>Navarasa</td>\n",
       "      <td>Bejoy Nambiar, Priyadarshan, Karthik Narain, V...</td>\n",
       "      <td>Suriya, Vijay Sethupathi, Revathy, Prakash Raj...</td>\n",
       "      <td>India</td>\n",
       "      <td>August 6, 2021</td>\n",
       "      <td>2021</td>\n",
       "      <td>TV-MA</td>\n",
       "      <td>1 Season</td>\n",
       "      <td>TV Shows</td>\n",
       "      <td>From amusement to awe, the nine human emotions...</td>\n",
       "    </tr>\n",
       "  </tbody>\n",
       "</table>\n",
       "</div>"
      ],
      "text/plain": [
       "        type                                 title  \\\n",
       "8    TV Show         The Great British Baking Show   \n",
       "198  TV Show  King of Boys: The Return of the King   \n",
       "273  TV Show                         Gone for Good   \n",
       "276  TV Show                               Valeria   \n",
       "297  TV Show                              Navarasa   \n",
       "\n",
       "                                              director  \\\n",
       "8                                      Andy Devonshire   \n",
       "198                                       Kemi Adetiba   \n",
       "273                                 Juan Carlos Medina   \n",
       "276                                      Inma Torrente   \n",
       "297  Bejoy Nambiar, Priyadarshan, Karthik Narain, V...   \n",
       "\n",
       "                                                  cast         country  \\\n",
       "8    Mel Giedroyc, Sue Perkins, Mary Berry, Paul Ho...  United Kingdom   \n",
       "198  Sola Sobowale, Toni Tones, Richard Mofe-Damijo...         Nigeria   \n",
       "273  Finnegan Oldfield, Nicolas Duvauchelle, Guilla...          France   \n",
       "276  Diana Gómez, Silma López, Paula Malia, Teresa ...           Spain   \n",
       "297  Suriya, Vijay Sethupathi, Revathy, Prakash Raj...           India   \n",
       "\n",
       "             date_added  release_year rating   duration  \\\n",
       "8    September 24, 2021          2021  TV-14  9 Seasons   \n",
       "198     August 27, 2021          2021  TV-MA   1 Season   \n",
       "273     August 13, 2021          2021  TV-MA   1 Season   \n",
       "276     August 13, 2021          2021  TV-MA  2 Seasons   \n",
       "297      August 6, 2021          2021  TV-MA   1 Season   \n",
       "\n",
       "                                             listed_in  \\\n",
       "8                         British TV Shows, Reality TV   \n",
       "198  Crime TV Shows, International TV Shows, TV Dramas   \n",
       "273  Crime TV Shows, International TV Shows, TV Dramas   \n",
       "276  International TV Shows, Romantic TV Shows, Spa...   \n",
       "297                                           TV Shows   \n",
       "\n",
       "                                           description  \n",
       "8    A talented batch of amateur bakers face off in...  \n",
       "198  Alhaja Eniola Salami starts anew and sets her ...  \n",
       "273  Ten years after losing two loved ones, a man i...  \n",
       "276  A writer in creative and marital crises finds ...  \n",
       "297  From amusement to awe, the nine human emotions...  "
      ]
     },
     "execution_count": 36,
     "metadata": {},
     "output_type": "execute_result"
    }
   ],
   "source": [
    "tv_show_types.head()"
   ]
  },
  {
   "cell_type": "markdown",
   "id": "75c3886a",
   "metadata": {},
   "source": [
    "#### Let's see  top directors of the TV Show types"
   ]
  },
  {
   "cell_type": "code",
   "execution_count": 44,
   "id": "b9581f4f",
   "metadata": {},
   "outputs": [
    {
     "data": {
      "text/plain": [
       "8                                         Andy Devonshire\n",
       "198                                          Kemi Adetiba\n",
       "273                                    Juan Carlos Medina\n",
       "276                                         Inma Torrente\n",
       "297     Bejoy Nambiar, Priyadarshan, Karthik Narain, V...\n",
       "                              ...                        \n",
       "7288                           Andrew Tan, Stephen Murray\n",
       "7295                                            Onur Ünlü\n",
       "7375                                       Iginio Straffi\n",
       "7918                                       Ehtesham Uddin\n",
       "8172                                        Dheeraj Berry\n",
       "Name: director, Length: 121, dtype: object"
      ]
     },
     "execution_count": 44,
     "metadata": {},
     "output_type": "execute_result"
    }
   ],
   "source": [
    "tv_show_types.groupby('country')['director'].head(10)"
   ]
  },
  {
   "cell_type": "markdown",
   "id": "2e8eaeb7",
   "metadata": {},
   "source": [
    "### Grouping the ratings together"
   ]
  },
  {
   "cell_type": "code",
   "execution_count": 46,
   "id": "fdd74a2b-b8af-4397-a29d-cb72391a9ba1",
   "metadata": {},
   "outputs": [],
   "source": [
    "grouped = df.groupby('rating')"
   ]
  },
  {
   "cell_type": "code",
   "execution_count": 47,
   "id": "ace4cc1c",
   "metadata": {},
   "outputs": [
    {
     "data": {
      "text/html": [
       "<div>\n",
       "<style scoped>\n",
       "    .dataframe tbody tr th:only-of-type {\n",
       "        vertical-align: middle;\n",
       "    }\n",
       "\n",
       "    .dataframe tbody tr th {\n",
       "        vertical-align: top;\n",
       "    }\n",
       "\n",
       "    .dataframe thead th {\n",
       "        text-align: right;\n",
       "    }\n",
       "</style>\n",
       "<table border=\"1\" class=\"dataframe\">\n",
       "  <thead>\n",
       "    <tr style=\"text-align: right;\">\n",
       "      <th></th>\n",
       "      <th>type</th>\n",
       "      <th>title</th>\n",
       "      <th>director</th>\n",
       "      <th>cast</th>\n",
       "      <th>country</th>\n",
       "      <th>date_added</th>\n",
       "      <th>release_year</th>\n",
       "      <th>duration</th>\n",
       "      <th>listed_in</th>\n",
       "      <th>description</th>\n",
       "    </tr>\n",
       "    <tr>\n",
       "      <th>rating</th>\n",
       "      <th></th>\n",
       "      <th></th>\n",
       "      <th></th>\n",
       "      <th></th>\n",
       "      <th></th>\n",
       "      <th></th>\n",
       "      <th></th>\n",
       "      <th></th>\n",
       "      <th></th>\n",
       "      <th></th>\n",
       "    </tr>\n",
       "  </thead>\n",
       "  <tbody>\n",
       "    <tr>\n",
       "      <th>G</th>\n",
       "      <td>40</td>\n",
       "      <td>40</td>\n",
       "      <td>40</td>\n",
       "      <td>40</td>\n",
       "      <td>40</td>\n",
       "      <td>40</td>\n",
       "      <td>40</td>\n",
       "      <td>40</td>\n",
       "      <td>40</td>\n",
       "      <td>40</td>\n",
       "    </tr>\n",
       "    <tr>\n",
       "      <th>NC-17</th>\n",
       "      <td>2</td>\n",
       "      <td>2</td>\n",
       "      <td>2</td>\n",
       "      <td>2</td>\n",
       "      <td>2</td>\n",
       "      <td>2</td>\n",
       "      <td>2</td>\n",
       "      <td>2</td>\n",
       "      <td>2</td>\n",
       "      <td>2</td>\n",
       "    </tr>\n",
       "    <tr>\n",
       "      <th>NR</th>\n",
       "      <td>58</td>\n",
       "      <td>58</td>\n",
       "      <td>58</td>\n",
       "      <td>58</td>\n",
       "      <td>58</td>\n",
       "      <td>58</td>\n",
       "      <td>58</td>\n",
       "      <td>58</td>\n",
       "      <td>58</td>\n",
       "      <td>58</td>\n",
       "    </tr>\n",
       "    <tr>\n",
       "      <th>PG</th>\n",
       "      <td>275</td>\n",
       "      <td>275</td>\n",
       "      <td>275</td>\n",
       "      <td>275</td>\n",
       "      <td>275</td>\n",
       "      <td>275</td>\n",
       "      <td>275</td>\n",
       "      <td>275</td>\n",
       "      <td>275</td>\n",
       "      <td>275</td>\n",
       "    </tr>\n",
       "    <tr>\n",
       "      <th>PG-13</th>\n",
       "      <td>470</td>\n",
       "      <td>470</td>\n",
       "      <td>470</td>\n",
       "      <td>470</td>\n",
       "      <td>470</td>\n",
       "      <td>470</td>\n",
       "      <td>470</td>\n",
       "      <td>470</td>\n",
       "      <td>470</td>\n",
       "      <td>470</td>\n",
       "    </tr>\n",
       "    <tr>\n",
       "      <th>R</th>\n",
       "      <td>778</td>\n",
       "      <td>778</td>\n",
       "      <td>778</td>\n",
       "      <td>778</td>\n",
       "      <td>778</td>\n",
       "      <td>778</td>\n",
       "      <td>778</td>\n",
       "      <td>778</td>\n",
       "      <td>778</td>\n",
       "      <td>778</td>\n",
       "    </tr>\n",
       "    <tr>\n",
       "      <th>TV-14</th>\n",
       "      <td>1214</td>\n",
       "      <td>1214</td>\n",
       "      <td>1214</td>\n",
       "      <td>1214</td>\n",
       "      <td>1214</td>\n",
       "      <td>1214</td>\n",
       "      <td>1214</td>\n",
       "      <td>1214</td>\n",
       "      <td>1214</td>\n",
       "      <td>1214</td>\n",
       "    </tr>\n",
       "    <tr>\n",
       "      <th>TV-G</th>\n",
       "      <td>84</td>\n",
       "      <td>84</td>\n",
       "      <td>84</td>\n",
       "      <td>84</td>\n",
       "      <td>84</td>\n",
       "      <td>84</td>\n",
       "      <td>84</td>\n",
       "      <td>84</td>\n",
       "      <td>84</td>\n",
       "      <td>84</td>\n",
       "    </tr>\n",
       "    <tr>\n",
       "      <th>TV-MA</th>\n",
       "      <td>1822</td>\n",
       "      <td>1822</td>\n",
       "      <td>1822</td>\n",
       "      <td>1822</td>\n",
       "      <td>1822</td>\n",
       "      <td>1822</td>\n",
       "      <td>1822</td>\n",
       "      <td>1822</td>\n",
       "      <td>1822</td>\n",
       "      <td>1822</td>\n",
       "    </tr>\n",
       "    <tr>\n",
       "      <th>TV-PG</th>\n",
       "      <td>431</td>\n",
       "      <td>431</td>\n",
       "      <td>431</td>\n",
       "      <td>431</td>\n",
       "      <td>431</td>\n",
       "      <td>431</td>\n",
       "      <td>431</td>\n",
       "      <td>431</td>\n",
       "      <td>431</td>\n",
       "      <td>431</td>\n",
       "    </tr>\n",
       "  </tbody>\n",
       "</table>\n",
       "</div>"
      ],
      "text/plain": [
       "        type  title  director  cast  country  date_added  release_year  \\\n",
       "rating                                                                   \n",
       "G         40     40        40    40       40          40            40   \n",
       "NC-17      2      2         2     2        2           2             2   \n",
       "NR        58     58        58    58       58          58            58   \n",
       "PG       275    275       275   275      275         275           275   \n",
       "PG-13    470    470       470   470      470         470           470   \n",
       "R        778    778       778   778      778         778           778   \n",
       "TV-14   1214   1214      1214  1214     1214        1214          1214   \n",
       "TV-G      84     84        84    84       84          84            84   \n",
       "TV-MA   1822   1822      1822  1822     1822        1822          1822   \n",
       "TV-PG    431    431       431   431      431         431           431   \n",
       "\n",
       "        duration  listed_in  description  \n",
       "rating                                    \n",
       "G             40         40           40  \n",
       "NC-17          2          2            2  \n",
       "NR            58         58           58  \n",
       "PG           275        275          275  \n",
       "PG-13        470        470          470  \n",
       "R            778        778          778  \n",
       "TV-14       1214       1214         1214  \n",
       "TV-G          84         84           84  \n",
       "TV-MA       1822       1822         1822  \n",
       "TV-PG        431        431          431  "
      ]
     },
     "execution_count": 47,
     "metadata": {},
     "output_type": "execute_result"
    }
   ],
   "source": [
    "grouped.count().head(10)"
   ]
  },
  {
   "cell_type": "code",
   "execution_count": 48,
   "id": "db4f59a9",
   "metadata": {},
   "outputs": [
    {
     "data": {
      "text/html": [
       "<div>\n",
       "<style scoped>\n",
       "    .dataframe tbody tr th:only-of-type {\n",
       "        vertical-align: middle;\n",
       "    }\n",
       "\n",
       "    .dataframe tbody tr th {\n",
       "        vertical-align: top;\n",
       "    }\n",
       "\n",
       "    .dataframe thead th {\n",
       "        text-align: right;\n",
       "    }\n",
       "</style>\n",
       "<table border=\"1\" class=\"dataframe\">\n",
       "  <thead>\n",
       "    <tr style=\"text-align: right;\">\n",
       "      <th></th>\n",
       "      <th>type</th>\n",
       "      <th>title</th>\n",
       "      <th>director</th>\n",
       "      <th>cast</th>\n",
       "      <th>country</th>\n",
       "      <th>date_added</th>\n",
       "      <th>release_year</th>\n",
       "      <th>duration</th>\n",
       "      <th>listed_in</th>\n",
       "      <th>description</th>\n",
       "    </tr>\n",
       "    <tr>\n",
       "      <th>rating</th>\n",
       "      <th></th>\n",
       "      <th></th>\n",
       "      <th></th>\n",
       "      <th></th>\n",
       "      <th></th>\n",
       "      <th></th>\n",
       "      <th></th>\n",
       "      <th></th>\n",
       "      <th></th>\n",
       "      <th></th>\n",
       "    </tr>\n",
       "  </thead>\n",
       "  <tbody>\n",
       "    <tr>\n",
       "      <th>PG</th>\n",
       "      <td>275</td>\n",
       "      <td>275</td>\n",
       "      <td>275</td>\n",
       "      <td>275</td>\n",
       "      <td>275</td>\n",
       "      <td>275</td>\n",
       "      <td>275</td>\n",
       "      <td>275</td>\n",
       "      <td>275</td>\n",
       "      <td>275</td>\n",
       "    </tr>\n",
       "    <tr>\n",
       "      <th>PG-13</th>\n",
       "      <td>470</td>\n",
       "      <td>470</td>\n",
       "      <td>470</td>\n",
       "      <td>470</td>\n",
       "      <td>470</td>\n",
       "      <td>470</td>\n",
       "      <td>470</td>\n",
       "      <td>470</td>\n",
       "      <td>470</td>\n",
       "      <td>470</td>\n",
       "    </tr>\n",
       "    <tr>\n",
       "      <th>R</th>\n",
       "      <td>778</td>\n",
       "      <td>778</td>\n",
       "      <td>778</td>\n",
       "      <td>778</td>\n",
       "      <td>778</td>\n",
       "      <td>778</td>\n",
       "      <td>778</td>\n",
       "      <td>778</td>\n",
       "      <td>778</td>\n",
       "      <td>778</td>\n",
       "    </tr>\n",
       "    <tr>\n",
       "      <th>TV-14</th>\n",
       "      <td>1214</td>\n",
       "      <td>1214</td>\n",
       "      <td>1214</td>\n",
       "      <td>1214</td>\n",
       "      <td>1214</td>\n",
       "      <td>1214</td>\n",
       "      <td>1214</td>\n",
       "      <td>1214</td>\n",
       "      <td>1214</td>\n",
       "      <td>1214</td>\n",
       "    </tr>\n",
       "    <tr>\n",
       "      <th>TV-G</th>\n",
       "      <td>84</td>\n",
       "      <td>84</td>\n",
       "      <td>84</td>\n",
       "      <td>84</td>\n",
       "      <td>84</td>\n",
       "      <td>84</td>\n",
       "      <td>84</td>\n",
       "      <td>84</td>\n",
       "      <td>84</td>\n",
       "      <td>84</td>\n",
       "    </tr>\n",
       "    <tr>\n",
       "      <th>TV-MA</th>\n",
       "      <td>1822</td>\n",
       "      <td>1822</td>\n",
       "      <td>1822</td>\n",
       "      <td>1822</td>\n",
       "      <td>1822</td>\n",
       "      <td>1822</td>\n",
       "      <td>1822</td>\n",
       "      <td>1822</td>\n",
       "      <td>1822</td>\n",
       "      <td>1822</td>\n",
       "    </tr>\n",
       "    <tr>\n",
       "      <th>TV-PG</th>\n",
       "      <td>431</td>\n",
       "      <td>431</td>\n",
       "      <td>431</td>\n",
       "      <td>431</td>\n",
       "      <td>431</td>\n",
       "      <td>431</td>\n",
       "      <td>431</td>\n",
       "      <td>431</td>\n",
       "      <td>431</td>\n",
       "      <td>431</td>\n",
       "    </tr>\n",
       "    <tr>\n",
       "      <th>TV-Y</th>\n",
       "      <td>76</td>\n",
       "      <td>76</td>\n",
       "      <td>76</td>\n",
       "      <td>76</td>\n",
       "      <td>76</td>\n",
       "      <td>76</td>\n",
       "      <td>76</td>\n",
       "      <td>76</td>\n",
       "      <td>76</td>\n",
       "      <td>76</td>\n",
       "    </tr>\n",
       "    <tr>\n",
       "      <th>TV-Y7</th>\n",
       "      <td>76</td>\n",
       "      <td>76</td>\n",
       "      <td>76</td>\n",
       "      <td>76</td>\n",
       "      <td>76</td>\n",
       "      <td>76</td>\n",
       "      <td>76</td>\n",
       "      <td>76</td>\n",
       "      <td>76</td>\n",
       "      <td>76</td>\n",
       "    </tr>\n",
       "    <tr>\n",
       "      <th>TV-Y7-FV</th>\n",
       "      <td>3</td>\n",
       "      <td>3</td>\n",
       "      <td>3</td>\n",
       "      <td>3</td>\n",
       "      <td>3</td>\n",
       "      <td>3</td>\n",
       "      <td>3</td>\n",
       "      <td>3</td>\n",
       "      <td>3</td>\n",
       "      <td>3</td>\n",
       "    </tr>\n",
       "  </tbody>\n",
       "</table>\n",
       "</div>"
      ],
      "text/plain": [
       "          type  title  director  cast  country  date_added  release_year  \\\n",
       "rating                                                                     \n",
       "PG         275    275       275   275      275         275           275   \n",
       "PG-13      470    470       470   470      470         470           470   \n",
       "R          778    778       778   778      778         778           778   \n",
       "TV-14     1214   1214      1214  1214     1214        1214          1214   \n",
       "TV-G        84     84        84    84       84          84            84   \n",
       "TV-MA     1822   1822      1822  1822     1822        1822          1822   \n",
       "TV-PG      431    431       431   431      431         431           431   \n",
       "TV-Y        76     76        76    76       76          76            76   \n",
       "TV-Y7       76     76        76    76       76          76            76   \n",
       "TV-Y7-FV     3      3         3     3        3           3             3   \n",
       "\n",
       "          duration  listed_in  description  \n",
       "rating                                      \n",
       "PG             275        275          275  \n",
       "PG-13          470        470          470  \n",
       "R              778        778          778  \n",
       "TV-14         1214       1214         1214  \n",
       "TV-G            84         84           84  \n",
       "TV-MA         1822       1822         1822  \n",
       "TV-PG          431        431          431  \n",
       "TV-Y            76         76           76  \n",
       "TV-Y7           76         76           76  \n",
       "TV-Y7-FV         3          3            3  "
      ]
     },
     "execution_count": 48,
     "metadata": {},
     "output_type": "execute_result"
    }
   ],
   "source": [
    "grouped.count().tail(10)"
   ]
  },
  {
   "cell_type": "markdown",
   "id": "ccbedbb5",
   "metadata": {},
   "source": [
    "So these are the valid ratings"
   ]
  },
  {
   "cell_type": "code",
   "execution_count": 49,
   "id": "2b3f5077-cfc6-4f72-83ce-85bdefe6af0e",
   "metadata": {},
   "outputs": [
    {
     "name": "stdout",
     "output_type": "stream",
     "text": [
      "      rating  count\n",
      "0          G     40\n",
      "1      NC-17      2\n",
      "2         NR     58\n",
      "3         PG    275\n",
      "4      PG-13    470\n",
      "5          R    778\n",
      "6      TV-14   1214\n",
      "7       TV-G     84\n",
      "8      TV-MA   1822\n",
      "9      TV-PG    431\n",
      "10      TV-Y     76\n",
      "11     TV-Y7     76\n",
      "12  TV-Y7-FV      3\n"
     ]
    }
   ],
   "source": [
    "rating_counts = df.groupby('rating').size().reset_index(name='count')\n",
    "print(rating_counts)"
   ]
  },
  {
   "cell_type": "markdown",
   "id": "deff8f85",
   "metadata": {},
   "source": [
    "**TV-14** and **R** are the most ratings given to the shows."
   ]
  },
  {
   "cell_type": "markdown",
   "id": "8c8cea4f",
   "metadata": {},
   "source": [
    "## Vizualization of the data"
   ]
  },
  {
   "cell_type": "code",
   "execution_count": 41,
   "id": "e3b5cac9-88f3-4ce3-a5e1-5f233cb31198",
   "metadata": {},
   "outputs": [
    {
     "data": {
      "text/plain": [
       "Text(0.5, 1.0, 'Distribution of type')"
      ]
     },
     "execution_count": 41,
     "metadata": {},
     "output_type": "execute_result"
    },
    {
     "data": {
      "image/png": "[encoded data removed]",
      "text/plain": [
       "<Figure size 360x360 with 1 Axes>"
      ]
     },
     "metadata": {},
     "output_type": "display_data"
    }
   ],
   "source": [
    "feature = 'type'\n",
    "plt.figure(figsize=(5, 5))\n",
    "df[feature].value_counts().plot(kind='pie', autopct='%1.1f%%', startangle=60, colors=plt.cm.tab20.colors)\n",
    "plt.title('Distribution of type')"
   ]
  },
  {
   "cell_type": "markdown",
   "id": "f91a92f0",
   "metadata": {},
   "source": [
    "So this is the difference between the two types of shows. Clearly the difference is enormous."
   ]
  },
  {
   "cell_type": "code",
   "execution_count": 42,
   "id": "54fbe563-fb58-47fd-b135-8a579eac7e9a",
   "metadata": {},
   "outputs": [
    {
     "data": {
      "image/png": "[encoded data removed]",
      "text/plain": [
       "<Figure size 864x432 with 1 Axes>"
      ]
     },
     "metadata": {
      "needs_background": "light"
     },
     "output_type": "display_data"
    }
   ],
   "source": [
    "#QUESTION 5 \n",
    "plt.figure(figsize=(12, 6))\n",
    "sns.countplot(x='rating', data=df, palette='viridis')\n",
    "plt.title('Distribution of Content Across Rating Categories')\n",
    "plt.xlabel('Rating')\n",
    "plt.ylabel('Count')\n",
    "plt.xticks(rotation=45, ha='right')\n",
    "plt.tight_layout()\n",
    "plt.show()\n"
   ]
  },
  {
   "cell_type": "markdown",
   "id": "077fb428",
   "metadata": {},
   "source": [
    "#### So above is a count bar plot of the ratings"
   ]
  },
  {
   "cell_type": "code",
   "execution_count": 43,
   "id": "f51a16f9-b1f3-4d86-8574-ca52376fc80f",
   "metadata": {
    "scrolled": true
   },
   "outputs": [
    {
     "data": {
      "image/png": "[encoded data removed]",
      "text/plain": [
       "<Figure size 864x432 with 1 Axes>"
      ]
     },
     "metadata": {
      "needs_background": "light"
     },
     "output_type": "display_data"
    }
   ],
   "source": [
    "# QUESTION 6\n",
    "titles_per_year = df.groupby('release_year').size().reset_index(name='count')\n",
    "\n",
    "plt.figure(figsize=(12, 6))\n",
    "sns.lineplot(x='release_year', y='count', data=titles_per_year, marker='o', color='skyblue')\n",
    "plt.title('Number of Titles Released Each Year')\n",
    "plt.xlabel('Release Year')\n",
    "plt.ylabel('Number of Titles')\n",
    "plt.xticks(rotation=45)\n",
    "plt.grid(True)\n",
    "plt.tight_layout()"
   ]
  },
  {
   "cell_type": "markdown",
   "id": "73e2c820",
   "metadata": {},
   "source": [
    "#### A line plot that depicts the titles released throughout the years"
   ]
  },
  {
   "cell_type": "markdown",
   "id": "3db20827",
   "metadata": {},
   "source": [
    "### Checking the movie data to vizualize data"
   ]
  },
  {
   "cell_type": "code",
   "execution_count": 44,
   "id": "923fcfe1",
   "metadata": {},
   "outputs": [
    {
     "data": {
      "text/html": [
       "<div>\n",
       "<style scoped>\n",
       "    .dataframe tbody tr th:only-of-type {\n",
       "        vertical-align: middle;\n",
       "    }\n",
       "\n",
       "    .dataframe tbody tr th {\n",
       "        vertical-align: top;\n",
       "    }\n",
       "\n",
       "    .dataframe thead th {\n",
       "        text-align: right;\n",
       "    }\n",
       "</style>\n",
       "<table border=\"1\" class=\"dataframe\">\n",
       "  <thead>\n",
       "    <tr style=\"text-align: right;\">\n",
       "      <th></th>\n",
       "      <th>type</th>\n",
       "      <th>title</th>\n",
       "      <th>director</th>\n",
       "      <th>cast</th>\n",
       "      <th>country</th>\n",
       "      <th>date_added</th>\n",
       "      <th>release_year</th>\n",
       "      <th>rating</th>\n",
       "      <th>duration</th>\n",
       "      <th>listed_in</th>\n",
       "      <th>description</th>\n",
       "    </tr>\n",
       "  </thead>\n",
       "  <tbody>\n",
       "    <tr>\n",
       "      <th>7</th>\n",
       "      <td>Movie</td>\n",
       "      <td>Sankofa</td>\n",
       "      <td>Haile Gerima</td>\n",
       "      <td>Kofi Ghanaba, Oyafunmike Ogunlano, Alexandra D...</td>\n",
       "      <td>United States, Ghana, Burkina Faso, United Kin...</td>\n",
       "      <td>September 24, 2021</td>\n",
       "      <td>1993</td>\n",
       "      <td>TV-MA</td>\n",
       "      <td>125 min</td>\n",
       "      <td>Dramas, Independent Movies, International Movies</td>\n",
       "      <td>On a photo shoot in Ghana, an American model s...</td>\n",
       "    </tr>\n",
       "    <tr>\n",
       "      <th>9</th>\n",
       "      <td>Movie</td>\n",
       "      <td>The Starling</td>\n",
       "      <td>Theodore Melfi</td>\n",
       "      <td>Melissa McCarthy, Chris O'Dowd, Kevin Kline, T...</td>\n",
       "      <td>United States</td>\n",
       "      <td>September 24, 2021</td>\n",
       "      <td>2021</td>\n",
       "      <td>PG-13</td>\n",
       "      <td>104 min</td>\n",
       "      <td>Comedies, Dramas</td>\n",
       "      <td>A woman adjusting to life after a loss contend...</td>\n",
       "    </tr>\n",
       "    <tr>\n",
       "      <th>12</th>\n",
       "      <td>Movie</td>\n",
       "      <td>Je Suis Karl</td>\n",
       "      <td>Christian Schwochow</td>\n",
       "      <td>Luna Wedler, Jannis Niewöhner, Milan Peschel, ...</td>\n",
       "      <td>Germany, Czech Republic</td>\n",
       "      <td>September 23, 2021</td>\n",
       "      <td>2021</td>\n",
       "      <td>TV-MA</td>\n",
       "      <td>127 min</td>\n",
       "      <td>Dramas, International Movies</td>\n",
       "      <td>After most of her family is murdered in a terr...</td>\n",
       "    </tr>\n",
       "    <tr>\n",
       "      <th>24</th>\n",
       "      <td>Movie</td>\n",
       "      <td>Jeans</td>\n",
       "      <td>S. Shankar</td>\n",
       "      <td>Prashanth, Aishwarya Rai Bachchan, Sri Lakshmi...</td>\n",
       "      <td>India</td>\n",
       "      <td>September 21, 2021</td>\n",
       "      <td>1998</td>\n",
       "      <td>TV-14</td>\n",
       "      <td>166 min</td>\n",
       "      <td>Comedies, International Movies, Romantic Movies</td>\n",
       "      <td>When the father of the man she loves insists t...</td>\n",
       "    </tr>\n",
       "    <tr>\n",
       "      <th>27</th>\n",
       "      <td>Movie</td>\n",
       "      <td>Grown Ups</td>\n",
       "      <td>Dennis Dugan</td>\n",
       "      <td>Adam Sandler, Kevin James, Chris Rock, David S...</td>\n",
       "      <td>United States</td>\n",
       "      <td>September 20, 2021</td>\n",
       "      <td>2010</td>\n",
       "      <td>PG-13</td>\n",
       "      <td>103 min</td>\n",
       "      <td>Comedies</td>\n",
       "      <td>Mourning the loss of their beloved junior high...</td>\n",
       "    </tr>\n",
       "  </tbody>\n",
       "</table>\n",
       "</div>"
      ],
      "text/plain": [
       "     type         title             director  \\\n",
       "7   Movie       Sankofa         Haile Gerima   \n",
       "9   Movie  The Starling       Theodore Melfi   \n",
       "12  Movie  Je Suis Karl  Christian Schwochow   \n",
       "24  Movie         Jeans           S. Shankar   \n",
       "27  Movie     Grown Ups         Dennis Dugan   \n",
       "\n",
       "                                                 cast  \\\n",
       "7   Kofi Ghanaba, Oyafunmike Ogunlano, Alexandra D...   \n",
       "9   Melissa McCarthy, Chris O'Dowd, Kevin Kline, T...   \n",
       "12  Luna Wedler, Jannis Niewöhner, Milan Peschel, ...   \n",
       "24  Prashanth, Aishwarya Rai Bachchan, Sri Lakshmi...   \n",
       "27  Adam Sandler, Kevin James, Chris Rock, David S...   \n",
       "\n",
       "                                              country          date_added  \\\n",
       "7   United States, Ghana, Burkina Faso, United Kin...  September 24, 2021   \n",
       "9                                       United States  September 24, 2021   \n",
       "12                            Germany, Czech Republic  September 23, 2021   \n",
       "24                                              India  September 21, 2021   \n",
       "27                                      United States  September 20, 2021   \n",
       "\n",
       "    release_year rating duration  \\\n",
       "7           1993  TV-MA  125 min   \n",
       "9           2021  PG-13  104 min   \n",
       "12          2021  TV-MA  127 min   \n",
       "24          1998  TV-14  166 min   \n",
       "27          2010  PG-13  103 min   \n",
       "\n",
       "                                           listed_in  \\\n",
       "7   Dramas, Independent Movies, International Movies   \n",
       "9                                   Comedies, Dramas   \n",
       "12                      Dramas, International Movies   \n",
       "24   Comedies, International Movies, Romantic Movies   \n",
       "27                                          Comedies   \n",
       "\n",
       "                                          description  \n",
       "7   On a photo shoot in Ghana, an American model s...  \n",
       "9   A woman adjusting to life after a loss contend...  \n",
       "12  After most of her family is murdered in a terr...  \n",
       "24  When the father of the man she loves insists t...  \n",
       "27  Mourning the loss of their beloved junior high...  "
      ]
     },
     "execution_count": 44,
     "metadata": {},
     "output_type": "execute_result"
    }
   ],
   "source": [
    "movie_types.head()"
   ]
  },
  {
   "cell_type": "code",
   "execution_count": 45,
   "id": "b7fcedbb",
   "metadata": {
    "scrolled": true
   },
   "outputs": [
    {
     "data": {
      "text/plain": [
       "Text(0, 0.5, 'Counts')"
      ]
     },
     "execution_count": 45,
     "metadata": {},
     "output_type": "execute_result"
    },
    {
     "data": {
      "image/png": "[encoded data removed]",
      "text/plain": [
       "<Figure size 1440x432 with 1 Axes>"
      ]
     },
     "metadata": {
      "needs_background": "light"
     },
     "output_type": "display_data"
    }
   ],
   "source": [
    "head_data = movie_types['country'].value_counts()\n",
    "\n",
    "top_countries = head_data.head(10)\n",
    "\n",
    "top_countries.plot(kind='bar', figsize=(20, 6), color='b')\n",
    "\n",
    "plt.title('Top 10 Movies producing countries')\n",
    "plt.xlabel('Countries')\n",
    "plt.ylabel('Counts')"
   ]
  },
  {
   "cell_type": "markdown",
   "id": "fb423781",
   "metadata": {},
   "source": [
    "#### Above is the graph to vizualize the top 10 countries that produce \"MOVIES\""
   ]
  },
  {
   "cell_type": "code",
   "execution_count": 46,
   "id": "64c2eac3",
   "metadata": {},
   "outputs": [
    {
     "data": {
      "text/plain": [
       "Text(0, 0.5, 'Counts')"
      ]
     },
     "execution_count": 46,
     "metadata": {},
     "output_type": "execute_result"
    },
    {
     "data": {
      "image/png": "[encoded data removed]",
      "text/plain": [
       "<Figure size 1440x432 with 1 Axes>"
      ]
     },
     "metadata": {
      "needs_background": "light"
     },
     "output_type": "display_data"
    }
   ],
   "source": [
    "tv_head_data = tv_show_types['country'].value_counts()\n",
    "\n",
    "tv_top_countries = tv_head_data.head(10)\n",
    "\n",
    "tv_top_countries.plot(kind='bar', color='r', figsize=(20, 6))\n",
    "\n",
    "plt.title('Top 10 TV Show producing countries')\n",
    "plt.xlabel('Countries')\n",
    "plt.ylabel('Counts')"
   ]
  },
  {
   "cell_type": "markdown",
   "id": "6e8e76f3",
   "metadata": {},
   "source": [
    "#### Similarly,  above is the graph to vizualize the top 10 countries that produce \"TV SHOWS\""
   ]
  },
  {
   "cell_type": "code",
   "execution_count": 47,
   "id": "a319ab68",
   "metadata": {},
   "outputs": [
    {
     "data": {
      "text/html": [
       "<div>\n",
       "<style scoped>\n",
       "    .dataframe tbody tr th:only-of-type {\n",
       "        vertical-align: middle;\n",
       "    }\n",
       "\n",
       "    .dataframe tbody tr th {\n",
       "        vertical-align: top;\n",
       "    }\n",
       "\n",
       "    .dataframe thead th {\n",
       "        text-align: right;\n",
       "    }\n",
       "</style>\n",
       "<table border=\"1\" class=\"dataframe\">\n",
       "  <thead>\n",
       "    <tr style=\"text-align: right;\">\n",
       "      <th></th>\n",
       "      <th>type</th>\n",
       "      <th>title</th>\n",
       "      <th>director</th>\n",
       "      <th>cast</th>\n",
       "      <th>country</th>\n",
       "      <th>date_added</th>\n",
       "      <th>release_year</th>\n",
       "      <th>rating</th>\n",
       "      <th>duration</th>\n",
       "      <th>listed_in</th>\n",
       "      <th>description</th>\n",
       "    </tr>\n",
       "  </thead>\n",
       "  <tbody>\n",
       "    <tr>\n",
       "      <th>7</th>\n",
       "      <td>Movie</td>\n",
       "      <td>Sankofa</td>\n",
       "      <td>Haile Gerima</td>\n",
       "      <td>Kofi Ghanaba, Oyafunmike Ogunlano, Alexandra D...</td>\n",
       "      <td>United States, Ghana, Burkina Faso, United Kin...</td>\n",
       "      <td>24, September, 2021</td>\n",
       "      <td>1993</td>\n",
       "      <td>TV-MA</td>\n",
       "      <td>125 min</td>\n",
       "      <td>Dramas, Independent Movies, International Movies</td>\n",
       "      <td>On a photo shoot in Ghana, an American model s...</td>\n",
       "    </tr>\n",
       "    <tr>\n",
       "      <th>8</th>\n",
       "      <td>TV Show</td>\n",
       "      <td>The Great British Baking Show</td>\n",
       "      <td>Andy Devonshire</td>\n",
       "      <td>Mel Giedroyc, Sue Perkins, Mary Berry, Paul Ho...</td>\n",
       "      <td>United Kingdom</td>\n",
       "      <td>24, September, 2021</td>\n",
       "      <td>2021</td>\n",
       "      <td>TV-14</td>\n",
       "      <td>9 Seasons</td>\n",
       "      <td>British TV Shows, Reality TV</td>\n",
       "      <td>A talented batch of amateur bakers face off in...</td>\n",
       "    </tr>\n",
       "    <tr>\n",
       "      <th>9</th>\n",
       "      <td>Movie</td>\n",
       "      <td>The Starling</td>\n",
       "      <td>Theodore Melfi</td>\n",
       "      <td>Melissa McCarthy, Chris O'Dowd, Kevin Kline, T...</td>\n",
       "      <td>United States</td>\n",
       "      <td>24, September, 2021</td>\n",
       "      <td>2021</td>\n",
       "      <td>PG-13</td>\n",
       "      <td>104 min</td>\n",
       "      <td>Comedies, Dramas</td>\n",
       "      <td>A woman adjusting to life after a loss contend...</td>\n",
       "    </tr>\n",
       "    <tr>\n",
       "      <th>12</th>\n",
       "      <td>Movie</td>\n",
       "      <td>Je Suis Karl</td>\n",
       "      <td>Christian Schwochow</td>\n",
       "      <td>Luna Wedler, Jannis Niewöhner, Milan Peschel, ...</td>\n",
       "      <td>Germany, Czech Republic</td>\n",
       "      <td>23, September, 2021</td>\n",
       "      <td>2021</td>\n",
       "      <td>TV-MA</td>\n",
       "      <td>127 min</td>\n",
       "      <td>Dramas, International Movies</td>\n",
       "      <td>After most of her family is murdered in a terr...</td>\n",
       "    </tr>\n",
       "    <tr>\n",
       "      <th>24</th>\n",
       "      <td>Movie</td>\n",
       "      <td>Jeans</td>\n",
       "      <td>S. Shankar</td>\n",
       "      <td>Prashanth, Aishwarya Rai Bachchan, Sri Lakshmi...</td>\n",
       "      <td>India</td>\n",
       "      <td>21, September, 2021</td>\n",
       "      <td>1998</td>\n",
       "      <td>TV-14</td>\n",
       "      <td>166 min</td>\n",
       "      <td>Comedies, International Movies, Romantic Movies</td>\n",
       "      <td>When the father of the man she loves insists t...</td>\n",
       "    </tr>\n",
       "  </tbody>\n",
       "</table>\n",
       "</div>"
      ],
      "text/plain": [
       "       type                          title             director  \\\n",
       "7     Movie                        Sankofa         Haile Gerima   \n",
       "8   TV Show  The Great British Baking Show      Andy Devonshire   \n",
       "9     Movie                   The Starling       Theodore Melfi   \n",
       "12    Movie                   Je Suis Karl  Christian Schwochow   \n",
       "24    Movie                          Jeans           S. Shankar   \n",
       "\n",
       "                                                 cast  \\\n",
       "7   Kofi Ghanaba, Oyafunmike Ogunlano, Alexandra D...   \n",
       "8   Mel Giedroyc, Sue Perkins, Mary Berry, Paul Ho...   \n",
       "9   Melissa McCarthy, Chris O'Dowd, Kevin Kline, T...   \n",
       "12  Luna Wedler, Jannis Niewöhner, Milan Peschel, ...   \n",
       "24  Prashanth, Aishwarya Rai Bachchan, Sri Lakshmi...   \n",
       "\n",
       "                                              country           date_added  \\\n",
       "7   United States, Ghana, Burkina Faso, United Kin...  24, September, 2021   \n",
       "8                                      United Kingdom  24, September, 2021   \n",
       "9                                       United States  24, September, 2021   \n",
       "12                            Germany, Czech Republic  23, September, 2021   \n",
       "24                                              India  21, September, 2021   \n",
       "\n",
       "    release_year rating   duration  \\\n",
       "7           1993  TV-MA    125 min   \n",
       "8           2021  TV-14  9 Seasons   \n",
       "9           2021  PG-13    104 min   \n",
       "12          2021  TV-MA    127 min   \n",
       "24          1998  TV-14    166 min   \n",
       "\n",
       "                                           listed_in  \\\n",
       "7   Dramas, Independent Movies, International Movies   \n",
       "8                       British TV Shows, Reality TV   \n",
       "9                                   Comedies, Dramas   \n",
       "12                      Dramas, International Movies   \n",
       "24   Comedies, International Movies, Romantic Movies   \n",
       "\n",
       "                                          description  \n",
       "7   On a photo shoot in Ghana, an American model s...  \n",
       "8   A talented batch of amateur bakers face off in...  \n",
       "9   A woman adjusting to life after a loss contend...  \n",
       "12  After most of her family is murdered in a terr...  \n",
       "24  When the father of the man she loves insists t...  "
      ]
     },
     "execution_count": 47,
     "metadata": {},
     "output_type": "execute_result"
    }
   ],
   "source": [
    "df.head()"
   ]
  },
  {
   "cell_type": "markdown",
   "id": "a5159b3c",
   "metadata": {},
   "source": [
    "### Now let's vizualize a world map to have a better understanding about the countries"
   ]
  },
  {
   "cell_type": "code",
   "execution_count": 48,
   "id": "7403ec7d",
   "metadata": {},
   "outputs": [
    {
     "name": "stderr",
     "output_type": "stream",
     "text": [
      "C:\\Users\\RUPAK CHAKRABORTY\\AppData\\Local\\Temp\\ipykernel_15984\\468429572.py:3: FutureWarning: The geopandas.dataset module is deprecated and will be removed in GeoPandas 1.0. You can get the original 'naturalearth_lowres' data from https://www.naturalearthdata.com/downloads/110m-cultural-vectors/.\n",
      "  world = gpd.read_file(gpd.datasets.get_path('naturalearth_lowres'))\n"
     ]
    },
    {
     "data": {
      "text/plain": [
       "Text(0.5, 1.0, 'Movies by Country')"
      ]
     },
     "execution_count": 48,
     "metadata": {},
     "output_type": "execute_result"
    },
    {
     "data": {
      "image/png": "[encoded data removed]",
      "text/plain": [
       "<Figure size 14400x720 with 1 Axes>"
      ]
     },
     "metadata": {
      "needs_background": "light"
     },
     "output_type": "display_data"
    }
   ],
   "source": [
    "import geopandas as gpd\n",
    "\n",
    "world = gpd.read_file(gpd.datasets.get_path('naturalearth_lowres'))\n",
    "\n",
    "world = world.merge(df, how='left', left_on='name', right_on='country')\n",
    "\n",
    "fig, ax = plt.subplots(1, 1, figsize=(200, 10))\n",
    "world.plot(ax=ax, color='lightgrey')\n",
    "\n",
    "world.dropna().plot(ax=ax, color='red', marker='o', markersize=5)\n",
    "plt.title('Movies by Country')"
   ]
  },
  {
   "cell_type": "markdown",
   "id": "81ec9d6e",
   "metadata": {},
   "source": [
    "#### So the highlighted countries are the most contributing countries in the Netflix library"
   ]
  },
  {
   "cell_type": "markdown",
   "id": "de93aaa6",
   "metadata": {},
   "source": [
    "### A plot to vizualize the relation between directors and number of titles released"
   ]
  },
  {
   "cell_type": "code",
   "execution_count": 50,
   "id": "daf499ff-9146-40b4-b514-b82189ebdc9d",
   "metadata": {},
   "outputs": [
    {
     "data": {
      "image/png": "[encoded data removed]",
      "text/plain": [
       "<Figure size 864x432 with 1 Axes>"
      ]
     },
     "metadata": {
      "needs_background": "light"
     },
     "output_type": "display_data"
    },
    {
     "data": {
      "image/png": "[encoded data removed]",
      "text/plain": [
       "<Figure size 864x432 with 1 Axes>"
      ]
     },
     "metadata": {
      "needs_background": "light"
     },
     "output_type": "display_data"
    }
   ],
   "source": [
    "# question 9 \n",
    "# Sort the director counts in descending order\n",
    "director_counts = df['director'].value_counts().sort_values(ascending=False)\n",
    "\n",
    "# Select the top 5 most frequent directors\n",
    "top_directors = director_counts.head(5).index\n",
    "\n",
    "# Filter the dataset for titles directed by these directors\n",
    "top_directors_data = df[df['director'].isin(top_directors)]\n",
    "\n",
    "# Plot the distribution of their content across different genres\n",
    "plt.figure(figsize=(12, 6))\n",
    "sns.countplot(x='listed_in', hue='director', data=top_directors_data, order=top_directors_data['listed_in'].value_counts().index)\n",
    "plt.title('Distribution of Content by Top Directors Across Genres')\n",
    "plt.xlabel('Genre')\n",
    "plt.ylabel('Number of Titles')\n",
    "plt.xticks(rotation=90)\n",
    "plt.legend(title='Director', bbox_to_anchor=(1, 1))\n",
    "plt.tight_layout()\n",
    "plt.show()\n",
    "\n",
    "# Plot the distribution of their content across different rating categories\n",
    "plt.figure(figsize=(12, 6))\n",
    "sns.countplot(x='rating', hue='director', data=top_directors_data, order=top_directors_data['rating'].value_counts().index)\n",
    "plt.title('Distribution of Content by Top Directors Across Rating Categories')\n",
    "plt.xlabel('Rating')\n",
    "plt.ylabel('Number of Titles')\n",
    "plt.legend(title='Director', bbox_to_anchor=(1, 1))\n",
    "plt.tight_layout()\n",
    "plt.show()\n"
   ]
  },
  {
   "cell_type": "code",
   "execution_count": 51,
   "id": "4c202fd5",
   "metadata": {},
   "outputs": [
    {
     "name": "stdout",
     "output_type": "stream",
     "text": [
      "Unique release years: [1993 2021 1998 2010 2013 2017 1975 1978 1983 1987 2012 2001 2002 2003\n",
      " 2004 2011 2008 2009 2007 2005 2006 2018 2020 2019 1994 2015 1982 1989\n",
      " 2014 1990 1991 1999 2016 1986 1996 1984 1997 1980 1961 1995 1985 1992\n",
      " 2000 1976 1959 1988 1972 1981 1964 1954 1979 1958 1956 1963 1970 1973\n",
      " 1960 1974 1966 1971 1962 1969 1977 1967 1968 1965 1945 1946 1955 1942\n",
      " 1947 1944]\n"
     ]
    }
   ],
   "source": [
    "unique_release_years = df['release_year'].unique()\n",
    "\n",
    "print(\"Unique release years:\", unique_release_years)"
   ]
  },
  {
   "cell_type": "markdown",
   "id": "12531e75",
   "metadata": {},
   "source": [
    "#### These are the unique release years in the dataset"
   ]
  },
  {
   "cell_type": "code",
   "execution_count": 50,
   "id": "d6ca1f9d",
   "metadata": {},
   "outputs": [
    {
     "data": {
      "text/plain": [
       "Dramas, International Movies                        336\n",
       "Stand-Up Comedy                                     286\n",
       "Comedies, Dramas, International Movies              257\n",
       "Dramas, Independent Movies, International Movies    243\n",
       "Children & Family Movies, Comedies                  179\n",
       "Dramas, International Movies, Romantic Movies       160\n",
       "Documentaries                                       156\n",
       "Comedies, International Movies                      152\n",
       "Comedies, International Movies, Romantic Movies     143\n",
       "Dramas                                              133\n",
       "Name: listed_in, dtype: int64"
      ]
     },
     "execution_count": 50,
     "metadata": {},
     "output_type": "execute_result"
    }
   ],
   "source": [
    "movie_types['listed_in'].value_counts().head(10)"
   ]
  },
  {
   "cell_type": "markdown",
   "id": "99203e6b",
   "metadata": {},
   "source": [
    "#### Popular listed_in genres in the movies dataset."
   ]
  },
  {
   "cell_type": "code",
   "execution_count": 53,
   "id": "a066b026",
   "metadata": {},
   "outputs": [
    {
     "data": {
      "text/plain": [
       "Crime TV Shows, International TV Shows, TV Dramas             17\n",
       "Stand-Up Comedy & Talk Shows, TV Comedies                      6\n",
       "International TV Shows, TV Dramas                              6\n",
       "International TV Shows, Romantic TV Shows, TV Comedies         6\n",
       "Anime Series, International TV Shows                           5\n",
       "Kids' TV, TV Comedies                                          5\n",
       "International TV Shows, Korean TV Shows, Romantic TV Shows     5\n",
       "TV Shows                                                       5\n",
       "Docuseries                                                     4\n",
       "International TV Shows, TV Comedies, TV Dramas                 4\n",
       "Name: listed_in, dtype: int64"
      ]
     },
     "execution_count": 53,
     "metadata": {},
     "output_type": "execute_result"
    }
   ],
   "source": [
    "tv_show_types['listed_in'].value_counts().head(10)"
   ]
  },
  {
   "cell_type": "markdown",
   "id": "8889545e",
   "metadata": {},
   "source": [
    "#### Popular listed_in genres in the TV Shows dataset."
   ]
  },
  {
   "cell_type": "code",
   "execution_count": 51,
   "id": "b5bc6ab5",
   "metadata": {},
   "outputs": [
    {
     "data": {
      "text/plain": [
       "TV-MA    1741\n",
       "TV-14    1177\n",
       "R         778\n",
       "PG-13     470\n",
       "TV-PG     416\n",
       "PG        275\n",
       "TV-G       81\n",
       "TV-Y       71\n",
       "TV-Y7      70\n",
       "NR         58\n",
       "Name: rating, dtype: int64"
      ]
     },
     "execution_count": 51,
     "metadata": {},
     "output_type": "execute_result"
    }
   ],
   "source": [
    "df[df['type'] == 'Movie']['rating'].value_counts().head(10)"
   ]
  },
  {
   "cell_type": "markdown",
   "id": "5db535be",
   "metadata": {},
   "source": [
    "#### Now, Movie types has TV-MA and TV-14 as the most given ratings"
   ]
  },
  {
   "cell_type": "code",
   "execution_count": 55,
   "id": "3da02f86",
   "metadata": {},
   "outputs": [
    {
     "data": {
      "text/plain": [
       "PG-13       470\n",
       "TV-PG       416\n",
       "PG          275\n",
       "TV-G         81\n",
       "TV-Y         71\n",
       "TV-Y7        70\n",
       "NR           58\n",
       "G            40\n",
       "TV-Y7-FV      3\n",
       "NC-17         2\n",
       "Name: rating, dtype: int64"
      ]
     },
     "execution_count": 55,
     "metadata": {},
     "output_type": "execute_result"
    }
   ],
   "source": [
    "df[df['type'] == 'Movie']['rating'].value_counts().tail(10)"
   ]
  },
  {
   "cell_type": "code",
   "execution_count": 56,
   "id": "7c1a04a3",
   "metadata": {},
   "outputs": [
    {
     "data": {
      "text/plain": [
       "TV-MA    81\n",
       "TV-14    37\n",
       "TV-PG    15\n",
       "TV-Y7     6\n",
       "TV-Y      5\n",
       "TV-G      3\n",
       "Name: rating, dtype: int64"
      ]
     },
     "execution_count": 56,
     "metadata": {},
     "output_type": "execute_result"
    }
   ],
   "source": [
    "df[df['type'] == 'TV Show']['rating'].value_counts().head(10)"
   ]
  },
  {
   "cell_type": "markdown",
   "id": "86be5d9a",
   "metadata": {},
   "source": [
    "#### Also, TV Show types has TV-MA and tv-14 as the most given ratings"
   ]
  },
  {
   "cell_type": "code",
   "execution_count": 52,
   "id": "4118e90f",
   "metadata": {},
   "outputs": [
    {
     "data": {
      "text/plain": [
       "9       The Starling\n",
       "12      Je Suis Karl\n",
       "81              Kate\n",
       "190       Thimmarusu\n",
       "231    The Water Man\n",
       "Name: title, dtype: object"
      ]
     },
     "execution_count": 52,
     "metadata": {},
     "output_type": "execute_result"
    }
   ],
   "source": [
    "df[(df['release_year'] > 2020) & (df['type'] == 'Movie')]['title'].head()"
   ]
  },
  {
   "cell_type": "markdown",
   "id": "dce14c03",
   "metadata": {},
   "source": [
    "#### These are the movies that were released after 2020"
   ]
  },
  {
   "cell_type": "code",
   "execution_count": 53,
   "id": "3b1fb586",
   "metadata": {},
   "outputs": [
    {
     "data": {
      "text/plain": [
       "146"
      ]
     },
     "execution_count": 53,
     "metadata": {},
     "output_type": "execute_result"
    }
   ],
   "source": [
    "df[(df['release_year'] > 2020) & (df['type'] == 'Movie')]['title'].count()"
   ]
  },
  {
   "cell_type": "markdown",
   "id": "412cf784",
   "metadata": {},
   "source": [
    "And there are total **146** movies released after 2020"
   ]
  },
  {
   "cell_type": "code",
   "execution_count": 59,
   "id": "acab11d3",
   "metadata": {},
   "outputs": [
    {
     "data": {
      "text/plain": [
       "8             The Great British Baking Show\n",
       "198    King of Boys: The Return of the King\n",
       "273                           Gone for Good\n",
       "276                                 Valeria\n",
       "297                                Navarasa\n",
       "Name: title, dtype: object"
      ]
     },
     "execution_count": 59,
     "metadata": {},
     "output_type": "execute_result"
    }
   ],
   "source": [
    "df[(df['release_year'] > 2020) & (df['type'] == 'TV Show')]['title'].head()"
   ]
  },
  {
   "cell_type": "markdown",
   "id": "01ca94d1",
   "metadata": {},
   "source": [
    "#### These are the TV Shows that were released after 2020"
   ]
  },
  {
   "cell_type": "code",
   "execution_count": 60,
   "id": "477f994a",
   "metadata": {},
   "outputs": [
    {
     "data": {
      "text/plain": [
       "15"
      ]
     },
     "execution_count": 60,
     "metadata": {},
     "output_type": "execute_result"
    }
   ],
   "source": [
    "df[(df['release_year'] > 2020) & (df['type'] == 'TV Show')]['title'].count()"
   ]
  },
  {
   "cell_type": "markdown",
   "id": "bc6edede",
   "metadata": {},
   "source": [
    "And there are total **15** tv shows released after 2020"
   ]
  },
  {
   "cell_type": "markdown",
   "id": "a92de524",
   "metadata": {},
   "source": [
    "### Grouping together the release years"
   ]
  },
  {
   "cell_type": "code",
   "execution_count": 61,
   "id": "48984a69",
   "metadata": {},
   "outputs": [
    {
     "data": {
      "text/html": [
       "<div>\n",
       "<style scoped>\n",
       "    .dataframe tbody tr th:only-of-type {\n",
       "        vertical-align: middle;\n",
       "    }\n",
       "\n",
       "    .dataframe tbody tr th {\n",
       "        vertical-align: top;\n",
       "    }\n",
       "\n",
       "    .dataframe thead th {\n",
       "        text-align: right;\n",
       "    }\n",
       "</style>\n",
       "<table border=\"1\" class=\"dataframe\">\n",
       "  <thead>\n",
       "    <tr style=\"text-align: right;\">\n",
       "      <th></th>\n",
       "      <th>type</th>\n",
       "      <th>title</th>\n",
       "      <th>director</th>\n",
       "      <th>cast</th>\n",
       "      <th>country</th>\n",
       "      <th>date_added</th>\n",
       "      <th>rating</th>\n",
       "      <th>duration</th>\n",
       "      <th>listed_in</th>\n",
       "      <th>description</th>\n",
       "    </tr>\n",
       "    <tr>\n",
       "      <th>release_year</th>\n",
       "      <th></th>\n",
       "      <th></th>\n",
       "      <th></th>\n",
       "      <th></th>\n",
       "      <th></th>\n",
       "      <th></th>\n",
       "      <th></th>\n",
       "      <th></th>\n",
       "      <th></th>\n",
       "      <th></th>\n",
       "    </tr>\n",
       "  </thead>\n",
       "  <tbody>\n",
       "    <tr>\n",
       "      <th>1942</th>\n",
       "      <td>1</td>\n",
       "      <td>1</td>\n",
       "      <td>1</td>\n",
       "      <td>1</td>\n",
       "      <td>1</td>\n",
       "      <td>1</td>\n",
       "      <td>1</td>\n",
       "      <td>1</td>\n",
       "      <td>1</td>\n",
       "      <td>1</td>\n",
       "    </tr>\n",
       "    <tr>\n",
       "      <th>1944</th>\n",
       "      <td>1</td>\n",
       "      <td>1</td>\n",
       "      <td>1</td>\n",
       "      <td>1</td>\n",
       "      <td>1</td>\n",
       "      <td>1</td>\n",
       "      <td>1</td>\n",
       "      <td>1</td>\n",
       "      <td>1</td>\n",
       "      <td>1</td>\n",
       "    </tr>\n",
       "    <tr>\n",
       "      <th>1945</th>\n",
       "      <td>1</td>\n",
       "      <td>1</td>\n",
       "      <td>1</td>\n",
       "      <td>1</td>\n",
       "      <td>1</td>\n",
       "      <td>1</td>\n",
       "      <td>1</td>\n",
       "      <td>1</td>\n",
       "      <td>1</td>\n",
       "      <td>1</td>\n",
       "    </tr>\n",
       "    <tr>\n",
       "      <th>1946</th>\n",
       "      <td>1</td>\n",
       "      <td>1</td>\n",
       "      <td>1</td>\n",
       "      <td>1</td>\n",
       "      <td>1</td>\n",
       "      <td>1</td>\n",
       "      <td>1</td>\n",
       "      <td>1</td>\n",
       "      <td>1</td>\n",
       "      <td>1</td>\n",
       "    </tr>\n",
       "    <tr>\n",
       "      <th>1947</th>\n",
       "      <td>1</td>\n",
       "      <td>1</td>\n",
       "      <td>1</td>\n",
       "      <td>1</td>\n",
       "      <td>1</td>\n",
       "      <td>1</td>\n",
       "      <td>1</td>\n",
       "      <td>1</td>\n",
       "      <td>1</td>\n",
       "      <td>1</td>\n",
       "    </tr>\n",
       "    <tr>\n",
       "      <th>...</th>\n",
       "      <td>...</td>\n",
       "      <td>...</td>\n",
       "      <td>...</td>\n",
       "      <td>...</td>\n",
       "      <td>...</td>\n",
       "      <td>...</td>\n",
       "      <td>...</td>\n",
       "      <td>...</td>\n",
       "      <td>...</td>\n",
       "      <td>...</td>\n",
       "    </tr>\n",
       "    <tr>\n",
       "      <th>2017</th>\n",
       "      <td>657</td>\n",
       "      <td>657</td>\n",
       "      <td>657</td>\n",
       "      <td>657</td>\n",
       "      <td>657</td>\n",
       "      <td>657</td>\n",
       "      <td>657</td>\n",
       "      <td>657</td>\n",
       "      <td>657</td>\n",
       "      <td>657</td>\n",
       "    </tr>\n",
       "    <tr>\n",
       "      <th>2018</th>\n",
       "      <td>648</td>\n",
       "      <td>648</td>\n",
       "      <td>648</td>\n",
       "      <td>648</td>\n",
       "      <td>648</td>\n",
       "      <td>648</td>\n",
       "      <td>648</td>\n",
       "      <td>648</td>\n",
       "      <td>648</td>\n",
       "      <td>648</td>\n",
       "    </tr>\n",
       "    <tr>\n",
       "      <th>2019</th>\n",
       "      <td>519</td>\n",
       "      <td>519</td>\n",
       "      <td>519</td>\n",
       "      <td>519</td>\n",
       "      <td>519</td>\n",
       "      <td>519</td>\n",
       "      <td>519</td>\n",
       "      <td>519</td>\n",
       "      <td>519</td>\n",
       "      <td>519</td>\n",
       "    </tr>\n",
       "    <tr>\n",
       "      <th>2020</th>\n",
       "      <td>442</td>\n",
       "      <td>442</td>\n",
       "      <td>442</td>\n",
       "      <td>442</td>\n",
       "      <td>442</td>\n",
       "      <td>442</td>\n",
       "      <td>442</td>\n",
       "      <td>442</td>\n",
       "      <td>442</td>\n",
       "      <td>442</td>\n",
       "    </tr>\n",
       "    <tr>\n",
       "      <th>2021</th>\n",
       "      <td>161</td>\n",
       "      <td>161</td>\n",
       "      <td>161</td>\n",
       "      <td>161</td>\n",
       "      <td>161</td>\n",
       "      <td>161</td>\n",
       "      <td>161</td>\n",
       "      <td>161</td>\n",
       "      <td>161</td>\n",
       "      <td>161</td>\n",
       "    </tr>\n",
       "  </tbody>\n",
       "</table>\n",
       "<p>72 rows × 10 columns</p>\n",
       "</div>"
      ],
      "text/plain": [
       "              type  title  director  cast  country  date_added  rating  \\\n",
       "release_year                                                             \n",
       "1942             1      1         1     1        1           1       1   \n",
       "1944             1      1         1     1        1           1       1   \n",
       "1945             1      1         1     1        1           1       1   \n",
       "1946             1      1         1     1        1           1       1   \n",
       "1947             1      1         1     1        1           1       1   \n",
       "...            ...    ...       ...   ...      ...         ...     ...   \n",
       "2017           657    657       657   657      657         657     657   \n",
       "2018           648    648       648   648      648         648     648   \n",
       "2019           519    519       519   519      519         519     519   \n",
       "2020           442    442       442   442      442         442     442   \n",
       "2021           161    161       161   161      161         161     161   \n",
       "\n",
       "              duration  listed_in  description  \n",
       "release_year                                    \n",
       "1942                 1          1            1  \n",
       "1944                 1          1            1  \n",
       "1945                 1          1            1  \n",
       "1946                 1          1            1  \n",
       "1947                 1          1            1  \n",
       "...                ...        ...          ...  \n",
       "2017               657        657          657  \n",
       "2018               648        648          648  \n",
       "2019               519        519          519  \n",
       "2020               442        442          442  \n",
       "2021               161        161          161  \n",
       "\n",
       "[72 rows x 10 columns]"
      ]
     },
     "execution_count": 61,
     "metadata": {},
     "output_type": "execute_result"
    }
   ],
   "source": [
    "df.groupby('release_year').count()"
   ]
  },
  {
   "cell_type": "code",
   "execution_count": 62,
   "id": "3a640ea5",
   "metadata": {},
   "outputs": [
    {
     "data": {
      "text/html": [
       "<div>\n",
       "<style scoped>\n",
       "    .dataframe tbody tr th:only-of-type {\n",
       "        vertical-align: middle;\n",
       "    }\n",
       "\n",
       "    .dataframe tbody tr th {\n",
       "        vertical-align: top;\n",
       "    }\n",
       "\n",
       "    .dataframe thead th {\n",
       "        text-align: right;\n",
       "    }\n",
       "</style>\n",
       "<table border=\"1\" class=\"dataframe\">\n",
       "  <thead>\n",
       "    <tr style=\"text-align: right;\">\n",
       "      <th></th>\n",
       "      <th>type</th>\n",
       "      <th>title</th>\n",
       "      <th>director</th>\n",
       "      <th>cast</th>\n",
       "      <th>country</th>\n",
       "      <th>date_added</th>\n",
       "      <th>rating</th>\n",
       "      <th>duration</th>\n",
       "      <th>listed_in</th>\n",
       "      <th>description</th>\n",
       "    </tr>\n",
       "    <tr>\n",
       "      <th>release_year</th>\n",
       "      <th></th>\n",
       "      <th></th>\n",
       "      <th></th>\n",
       "      <th></th>\n",
       "      <th></th>\n",
       "      <th></th>\n",
       "      <th></th>\n",
       "      <th></th>\n",
       "      <th></th>\n",
       "      <th></th>\n",
       "    </tr>\n",
       "  </thead>\n",
       "  <tbody>\n",
       "    <tr>\n",
       "      <th>1942</th>\n",
       "      <td>1</td>\n",
       "      <td>1</td>\n",
       "      <td>1</td>\n",
       "      <td>1</td>\n",
       "      <td>1</td>\n",
       "      <td>1</td>\n",
       "      <td>1</td>\n",
       "      <td>1</td>\n",
       "      <td>1</td>\n",
       "      <td>1</td>\n",
       "    </tr>\n",
       "    <tr>\n",
       "      <th>1944</th>\n",
       "      <td>1</td>\n",
       "      <td>1</td>\n",
       "      <td>1</td>\n",
       "      <td>1</td>\n",
       "      <td>1</td>\n",
       "      <td>1</td>\n",
       "      <td>1</td>\n",
       "      <td>1</td>\n",
       "      <td>1</td>\n",
       "      <td>1</td>\n",
       "    </tr>\n",
       "    <tr>\n",
       "      <th>1945</th>\n",
       "      <td>1</td>\n",
       "      <td>1</td>\n",
       "      <td>1</td>\n",
       "      <td>1</td>\n",
       "      <td>1</td>\n",
       "      <td>1</td>\n",
       "      <td>1</td>\n",
       "      <td>1</td>\n",
       "      <td>1</td>\n",
       "      <td>1</td>\n",
       "    </tr>\n",
       "    <tr>\n",
       "      <th>1946</th>\n",
       "      <td>1</td>\n",
       "      <td>1</td>\n",
       "      <td>1</td>\n",
       "      <td>1</td>\n",
       "      <td>1</td>\n",
       "      <td>1</td>\n",
       "      <td>1</td>\n",
       "      <td>1</td>\n",
       "      <td>1</td>\n",
       "      <td>1</td>\n",
       "    </tr>\n",
       "    <tr>\n",
       "      <th>1947</th>\n",
       "      <td>1</td>\n",
       "      <td>1</td>\n",
       "      <td>1</td>\n",
       "      <td>1</td>\n",
       "      <td>1</td>\n",
       "      <td>1</td>\n",
       "      <td>1</td>\n",
       "      <td>1</td>\n",
       "      <td>1</td>\n",
       "      <td>1</td>\n",
       "    </tr>\n",
       "    <tr>\n",
       "      <th>...</th>\n",
       "      <td>...</td>\n",
       "      <td>...</td>\n",
       "      <td>...</td>\n",
       "      <td>...</td>\n",
       "      <td>...</td>\n",
       "      <td>...</td>\n",
       "      <td>...</td>\n",
       "      <td>...</td>\n",
       "      <td>...</td>\n",
       "      <td>...</td>\n",
       "    </tr>\n",
       "    <tr>\n",
       "      <th>2017</th>\n",
       "      <td>640</td>\n",
       "      <td>640</td>\n",
       "      <td>640</td>\n",
       "      <td>640</td>\n",
       "      <td>640</td>\n",
       "      <td>640</td>\n",
       "      <td>640</td>\n",
       "      <td>640</td>\n",
       "      <td>640</td>\n",
       "      <td>640</td>\n",
       "    </tr>\n",
       "    <tr>\n",
       "      <th>2018</th>\n",
       "      <td>632</td>\n",
       "      <td>632</td>\n",
       "      <td>632</td>\n",
       "      <td>632</td>\n",
       "      <td>632</td>\n",
       "      <td>632</td>\n",
       "      <td>632</td>\n",
       "      <td>632</td>\n",
       "      <td>632</td>\n",
       "      <td>632</td>\n",
       "    </tr>\n",
       "    <tr>\n",
       "      <th>2019</th>\n",
       "      <td>495</td>\n",
       "      <td>495</td>\n",
       "      <td>495</td>\n",
       "      <td>495</td>\n",
       "      <td>495</td>\n",
       "      <td>495</td>\n",
       "      <td>495</td>\n",
       "      <td>495</td>\n",
       "      <td>495</td>\n",
       "      <td>495</td>\n",
       "    </tr>\n",
       "    <tr>\n",
       "      <th>2020</th>\n",
       "      <td>409</td>\n",
       "      <td>409</td>\n",
       "      <td>409</td>\n",
       "      <td>409</td>\n",
       "      <td>409</td>\n",
       "      <td>409</td>\n",
       "      <td>409</td>\n",
       "      <td>409</td>\n",
       "      <td>409</td>\n",
       "      <td>409</td>\n",
       "    </tr>\n",
       "    <tr>\n",
       "      <th>2021</th>\n",
       "      <td>146</td>\n",
       "      <td>146</td>\n",
       "      <td>146</td>\n",
       "      <td>146</td>\n",
       "      <td>146</td>\n",
       "      <td>146</td>\n",
       "      <td>146</td>\n",
       "      <td>146</td>\n",
       "      <td>146</td>\n",
       "      <td>146</td>\n",
       "    </tr>\n",
       "  </tbody>\n",
       "</table>\n",
       "<p>72 rows × 10 columns</p>\n",
       "</div>"
      ],
      "text/plain": [
       "              type  title  director  cast  country  date_added  rating  \\\n",
       "release_year                                                             \n",
       "1942             1      1         1     1        1           1       1   \n",
       "1944             1      1         1     1        1           1       1   \n",
       "1945             1      1         1     1        1           1       1   \n",
       "1946             1      1         1     1        1           1       1   \n",
       "1947             1      1         1     1        1           1       1   \n",
       "...            ...    ...       ...   ...      ...         ...     ...   \n",
       "2017           640    640       640   640      640         640     640   \n",
       "2018           632    632       632   632      632         632     632   \n",
       "2019           495    495       495   495      495         495     495   \n",
       "2020           409    409       409   409      409         409     409   \n",
       "2021           146    146       146   146      146         146     146   \n",
       "\n",
       "              duration  listed_in  description  \n",
       "release_year                                    \n",
       "1942                 1          1            1  \n",
       "1944                 1          1            1  \n",
       "1945                 1          1            1  \n",
       "1946                 1          1            1  \n",
       "1947                 1          1            1  \n",
       "...                ...        ...          ...  \n",
       "2017               640        640          640  \n",
       "2018               632        632          632  \n",
       "2019               495        495          495  \n",
       "2020               409        409          409  \n",
       "2021               146        146          146  \n",
       "\n",
       "[72 rows x 10 columns]"
      ]
     },
     "execution_count": 62,
     "metadata": {},
     "output_type": "execute_result"
    }
   ],
   "source": [
    "movie_types.groupby('release_year').count()"
   ]
  },
  {
   "cell_type": "code",
   "execution_count": 63,
   "id": "04e52783",
   "metadata": {},
   "outputs": [],
   "source": [
    "movies_data = movie_types.groupby('release_year').size()"
   ]
  },
  {
   "cell_type": "code",
   "execution_count": 64,
   "id": "0156a7cf",
   "metadata": {},
   "outputs": [
    {
     "data": {
      "text/plain": [
       "release_year\n",
       "1942      1\n",
       "1944      1\n",
       "1945      1\n",
       "1946      1\n",
       "1947      1\n",
       "       ... \n",
       "2017    640\n",
       "2018    632\n",
       "2019    495\n",
       "2020    409\n",
       "2021    146\n",
       "Length: 72, dtype: int64"
      ]
     },
     "execution_count": 64,
     "metadata": {},
     "output_type": "execute_result"
    }
   ],
   "source": [
    "movies_data"
   ]
  },
  {
   "cell_type": "code",
   "execution_count": 65,
   "id": "497c9d0a",
   "metadata": {},
   "outputs": [
    {
     "data": {
      "image/png": "[encoded data removed]",
      "text/plain": [
       "<Figure size 1440x504 with 1 Axes>"
      ]
     },
     "metadata": {
      "needs_background": "light"
     },
     "output_type": "display_data"
    }
   ],
   "source": [
    "movies_data.plot(kind='bar', color='blue', figsize=(20, 7))\n",
    "\n",
    "plt.title('Growth of Movies Trend Through the Years')\n",
    "plt.xlabel('Release Year')\n",
    "plt.ylabel('Number of Movies Released')\n",
    "plt.grid(axis='y', linestyle='--', alpha=0.7)"
   ]
  },
  {
   "cell_type": "markdown",
   "id": "4f0ac346",
   "metadata": {},
   "source": [
    "#### A graph that represents the trend of releasing movies throughout the years."
   ]
  },
  {
   "cell_type": "code",
   "execution_count": 66,
   "id": "8a0bbea8",
   "metadata": {},
   "outputs": [
    {
     "data": {
      "text/html": [
       "<div>\n",
       "<style scoped>\n",
       "    .dataframe tbody tr th:only-of-type {\n",
       "        vertical-align: middle;\n",
       "    }\n",
       "\n",
       "    .dataframe tbody tr th {\n",
       "        vertical-align: top;\n",
       "    }\n",
       "\n",
       "    .dataframe thead th {\n",
       "        text-align: right;\n",
       "    }\n",
       "</style>\n",
       "<table border=\"1\" class=\"dataframe\">\n",
       "  <thead>\n",
       "    <tr style=\"text-align: right;\">\n",
       "      <th></th>\n",
       "      <th>type</th>\n",
       "      <th>title</th>\n",
       "      <th>director</th>\n",
       "      <th>cast</th>\n",
       "      <th>country</th>\n",
       "      <th>date_added</th>\n",
       "      <th>rating</th>\n",
       "      <th>duration</th>\n",
       "      <th>listed_in</th>\n",
       "      <th>description</th>\n",
       "    </tr>\n",
       "    <tr>\n",
       "      <th>release_year</th>\n",
       "      <th></th>\n",
       "      <th></th>\n",
       "      <th></th>\n",
       "      <th></th>\n",
       "      <th></th>\n",
       "      <th></th>\n",
       "      <th></th>\n",
       "      <th></th>\n",
       "      <th></th>\n",
       "      <th></th>\n",
       "    </tr>\n",
       "  </thead>\n",
       "  <tbody>\n",
       "    <tr>\n",
       "      <th>1990</th>\n",
       "      <td>1</td>\n",
       "      <td>1</td>\n",
       "      <td>1</td>\n",
       "      <td>1</td>\n",
       "      <td>1</td>\n",
       "      <td>1</td>\n",
       "      <td>1</td>\n",
       "      <td>1</td>\n",
       "      <td>1</td>\n",
       "      <td>1</td>\n",
       "    </tr>\n",
       "    <tr>\n",
       "      <th>2001</th>\n",
       "      <td>1</td>\n",
       "      <td>1</td>\n",
       "      <td>1</td>\n",
       "      <td>1</td>\n",
       "      <td>1</td>\n",
       "      <td>1</td>\n",
       "      <td>1</td>\n",
       "      <td>1</td>\n",
       "      <td>1</td>\n",
       "      <td>1</td>\n",
       "    </tr>\n",
       "    <tr>\n",
       "      <th>2006</th>\n",
       "      <td>3</td>\n",
       "      <td>3</td>\n",
       "      <td>3</td>\n",
       "      <td>3</td>\n",
       "      <td>3</td>\n",
       "      <td>3</td>\n",
       "      <td>3</td>\n",
       "      <td>3</td>\n",
       "      <td>3</td>\n",
       "      <td>3</td>\n",
       "    </tr>\n",
       "    <tr>\n",
       "      <th>2010</th>\n",
       "      <td>1</td>\n",
       "      <td>1</td>\n",
       "      <td>1</td>\n",
       "      <td>1</td>\n",
       "      <td>1</td>\n",
       "      <td>1</td>\n",
       "      <td>1</td>\n",
       "      <td>1</td>\n",
       "      <td>1</td>\n",
       "      <td>1</td>\n",
       "    </tr>\n",
       "    <tr>\n",
       "      <th>2011</th>\n",
       "      <td>3</td>\n",
       "      <td>3</td>\n",
       "      <td>3</td>\n",
       "      <td>3</td>\n",
       "      <td>3</td>\n",
       "      <td>3</td>\n",
       "      <td>3</td>\n",
       "      <td>3</td>\n",
       "      <td>3</td>\n",
       "      <td>3</td>\n",
       "    </tr>\n",
       "    <tr>\n",
       "      <th>2012</th>\n",
       "      <td>4</td>\n",
       "      <td>4</td>\n",
       "      <td>4</td>\n",
       "      <td>4</td>\n",
       "      <td>4</td>\n",
       "      <td>4</td>\n",
       "      <td>4</td>\n",
       "      <td>4</td>\n",
       "      <td>4</td>\n",
       "      <td>4</td>\n",
       "    </tr>\n",
       "    <tr>\n",
       "      <th>2013</th>\n",
       "      <td>2</td>\n",
       "      <td>2</td>\n",
       "      <td>2</td>\n",
       "      <td>2</td>\n",
       "      <td>2</td>\n",
       "      <td>2</td>\n",
       "      <td>2</td>\n",
       "      <td>2</td>\n",
       "      <td>2</td>\n",
       "      <td>2</td>\n",
       "    </tr>\n",
       "    <tr>\n",
       "      <th>2014</th>\n",
       "      <td>8</td>\n",
       "      <td>8</td>\n",
       "      <td>8</td>\n",
       "      <td>8</td>\n",
       "      <td>8</td>\n",
       "      <td>8</td>\n",
       "      <td>8</td>\n",
       "      <td>8</td>\n",
       "      <td>8</td>\n",
       "      <td>8</td>\n",
       "    </tr>\n",
       "    <tr>\n",
       "      <th>2015</th>\n",
       "      <td>9</td>\n",
       "      <td>9</td>\n",
       "      <td>9</td>\n",
       "      <td>9</td>\n",
       "      <td>9</td>\n",
       "      <td>9</td>\n",
       "      <td>9</td>\n",
       "      <td>9</td>\n",
       "      <td>9</td>\n",
       "      <td>9</td>\n",
       "    </tr>\n",
       "    <tr>\n",
       "      <th>2016</th>\n",
       "      <td>10</td>\n",
       "      <td>10</td>\n",
       "      <td>10</td>\n",
       "      <td>10</td>\n",
       "      <td>10</td>\n",
       "      <td>10</td>\n",
       "      <td>10</td>\n",
       "      <td>10</td>\n",
       "      <td>10</td>\n",
       "      <td>10</td>\n",
       "    </tr>\n",
       "    <tr>\n",
       "      <th>2017</th>\n",
       "      <td>17</td>\n",
       "      <td>17</td>\n",
       "      <td>17</td>\n",
       "      <td>17</td>\n",
       "      <td>17</td>\n",
       "      <td>17</td>\n",
       "      <td>17</td>\n",
       "      <td>17</td>\n",
       "      <td>17</td>\n",
       "      <td>17</td>\n",
       "    </tr>\n",
       "    <tr>\n",
       "      <th>2018</th>\n",
       "      <td>16</td>\n",
       "      <td>16</td>\n",
       "      <td>16</td>\n",
       "      <td>16</td>\n",
       "      <td>16</td>\n",
       "      <td>16</td>\n",
       "      <td>16</td>\n",
       "      <td>16</td>\n",
       "      <td>16</td>\n",
       "      <td>16</td>\n",
       "    </tr>\n",
       "    <tr>\n",
       "      <th>2019</th>\n",
       "      <td>24</td>\n",
       "      <td>24</td>\n",
       "      <td>24</td>\n",
       "      <td>24</td>\n",
       "      <td>24</td>\n",
       "      <td>24</td>\n",
       "      <td>24</td>\n",
       "      <td>24</td>\n",
       "      <td>24</td>\n",
       "      <td>24</td>\n",
       "    </tr>\n",
       "    <tr>\n",
       "      <th>2020</th>\n",
       "      <td>33</td>\n",
       "      <td>33</td>\n",
       "      <td>33</td>\n",
       "      <td>33</td>\n",
       "      <td>33</td>\n",
       "      <td>33</td>\n",
       "      <td>33</td>\n",
       "      <td>33</td>\n",
       "      <td>33</td>\n",
       "      <td>33</td>\n",
       "    </tr>\n",
       "    <tr>\n",
       "      <th>2021</th>\n",
       "      <td>15</td>\n",
       "      <td>15</td>\n",
       "      <td>15</td>\n",
       "      <td>15</td>\n",
       "      <td>15</td>\n",
       "      <td>15</td>\n",
       "      <td>15</td>\n",
       "      <td>15</td>\n",
       "      <td>15</td>\n",
       "      <td>15</td>\n",
       "    </tr>\n",
       "  </tbody>\n",
       "</table>\n",
       "</div>"
      ],
      "text/plain": [
       "              type  title  director  cast  country  date_added  rating  \\\n",
       "release_year                                                             \n",
       "1990             1      1         1     1        1           1       1   \n",
       "2001             1      1         1     1        1           1       1   \n",
       "2006             3      3         3     3        3           3       3   \n",
       "2010             1      1         1     1        1           1       1   \n",
       "2011             3      3         3     3        3           3       3   \n",
       "2012             4      4         4     4        4           4       4   \n",
       "2013             2      2         2     2        2           2       2   \n",
       "2014             8      8         8     8        8           8       8   \n",
       "2015             9      9         9     9        9           9       9   \n",
       "2016            10     10        10    10       10          10      10   \n",
       "2017            17     17        17    17       17          17      17   \n",
       "2018            16     16        16    16       16          16      16   \n",
       "2019            24     24        24    24       24          24      24   \n",
       "2020            33     33        33    33       33          33      33   \n",
       "2021            15     15        15    15       15          15      15   \n",
       "\n",
       "              duration  listed_in  description  \n",
       "release_year                                    \n",
       "1990                 1          1            1  \n",
       "2001                 1          1            1  \n",
       "2006                 3          3            3  \n",
       "2010                 1          1            1  \n",
       "2011                 3          3            3  \n",
       "2012                 4          4            4  \n",
       "2013                 2          2            2  \n",
       "2014                 8          8            8  \n",
       "2015                 9          9            9  \n",
       "2016                10         10           10  \n",
       "2017                17         17           17  \n",
       "2018                16         16           16  \n",
       "2019                24         24           24  \n",
       "2020                33         33           33  \n",
       "2021                15         15           15  "
      ]
     },
     "execution_count": 66,
     "metadata": {},
     "output_type": "execute_result"
    }
   ],
   "source": [
    "tv_show_data = tv_show_types.groupby('release_year').count()\n",
    "\n",
    "tv_show_data"
   ]
  },
  {
   "cell_type": "code",
   "execution_count": 67,
   "id": "1a04e946",
   "metadata": {},
   "outputs": [
    {
     "data": {
      "text/plain": [
       "release_year\n",
       "1990     1\n",
       "2001     1\n",
       "2006     3\n",
       "2010     1\n",
       "2011     3\n",
       "2012     4\n",
       "2013     2\n",
       "2014     8\n",
       "2015     9\n",
       "2016    10\n",
       "2017    17\n",
       "2018    16\n",
       "2019    24\n",
       "2020    33\n",
       "2021    15\n",
       "dtype: int64"
      ]
     },
     "execution_count": 67,
     "metadata": {},
     "output_type": "execute_result"
    }
   ],
   "source": [
    "tv_shows = tv_show_types.groupby('release_year').size()\n",
    "\n",
    "tv_shows"
   ]
  },
  {
   "cell_type": "code",
   "execution_count": 68,
   "id": "16ce4446",
   "metadata": {},
   "outputs": [
    {
     "data": {
      "image/png": "[encoded data removed]",
      "text/plain": [
       "<Figure size 1440x504 with 1 Axes>"
      ]
     },
     "metadata": {
      "needs_background": "light"
     },
     "output_type": "display_data"
    }
   ],
   "source": [
    "tv_shows.plot(kind='bar', color='red', figsize=(20, 7))\n",
    "\n",
    "plt.title('Growth of TV Shows through the Years')\n",
    "plt.xlabel('Release Year')\n",
    "plt.ylabel('Number of TV Shows Released')\n",
    "plt.grid(axis='y', linestyle='--', alpha=0.7)"
   ]
  },
  {
   "cell_type": "markdown",
   "id": "6c29d3d0",
   "metadata": {},
   "source": [
    "#### Similarly, this graph depicts the trend of release of the TV Shows over the years."
   ]
  },
  {
   "cell_type": "markdown",
   "id": "56f353be",
   "metadata": {},
   "source": [
    "### Now grouping the durations"
   ]
  },
  {
   "cell_type": "code",
   "execution_count": 69,
   "id": "c659e1fb",
   "metadata": {},
   "outputs": [
    {
     "data": {
      "text/html": [
       "<div>\n",
       "<style scoped>\n",
       "    .dataframe tbody tr th:only-of-type {\n",
       "        vertical-align: middle;\n",
       "    }\n",
       "\n",
       "    .dataframe tbody tr th {\n",
       "        vertical-align: top;\n",
       "    }\n",
       "\n",
       "    .dataframe thead th {\n",
       "        text-align: right;\n",
       "    }\n",
       "</style>\n",
       "<table border=\"1\" class=\"dataframe\">\n",
       "  <thead>\n",
       "    <tr style=\"text-align: right;\">\n",
       "      <th></th>\n",
       "      <th>type</th>\n",
       "      <th>title</th>\n",
       "      <th>director</th>\n",
       "      <th>cast</th>\n",
       "      <th>country</th>\n",
       "      <th>date_added</th>\n",
       "      <th>release_year</th>\n",
       "      <th>rating</th>\n",
       "      <th>listed_in</th>\n",
       "      <th>description</th>\n",
       "    </tr>\n",
       "    <tr>\n",
       "      <th>duration</th>\n",
       "      <th></th>\n",
       "      <th></th>\n",
       "      <th></th>\n",
       "      <th></th>\n",
       "      <th></th>\n",
       "      <th></th>\n",
       "      <th></th>\n",
       "      <th></th>\n",
       "      <th></th>\n",
       "      <th></th>\n",
       "    </tr>\n",
       "  </thead>\n",
       "  <tbody>\n",
       "    <tr>\n",
       "      <th>100 min</th>\n",
       "      <td>90</td>\n",
       "      <td>90</td>\n",
       "      <td>90</td>\n",
       "      <td>90</td>\n",
       "      <td>90</td>\n",
       "      <td>90</td>\n",
       "      <td>90</td>\n",
       "      <td>90</td>\n",
       "      <td>90</td>\n",
       "      <td>90</td>\n",
       "    </tr>\n",
       "    <tr>\n",
       "      <th>101 min</th>\n",
       "      <td>104</td>\n",
       "      <td>104</td>\n",
       "      <td>104</td>\n",
       "      <td>104</td>\n",
       "      <td>104</td>\n",
       "      <td>104</td>\n",
       "      <td>104</td>\n",
       "      <td>104</td>\n",
       "      <td>104</td>\n",
       "      <td>104</td>\n",
       "    </tr>\n",
       "    <tr>\n",
       "      <th>102 min</th>\n",
       "      <td>112</td>\n",
       "      <td>112</td>\n",
       "      <td>112</td>\n",
       "      <td>112</td>\n",
       "      <td>112</td>\n",
       "      <td>112</td>\n",
       "      <td>112</td>\n",
       "      <td>112</td>\n",
       "      <td>112</td>\n",
       "      <td>112</td>\n",
       "    </tr>\n",
       "    <tr>\n",
       "      <th>103 min</th>\n",
       "      <td>101</td>\n",
       "      <td>101</td>\n",
       "      <td>101</td>\n",
       "      <td>101</td>\n",
       "      <td>101</td>\n",
       "      <td>101</td>\n",
       "      <td>101</td>\n",
       "      <td>101</td>\n",
       "      <td>101</td>\n",
       "      <td>101</td>\n",
       "    </tr>\n",
       "    <tr>\n",
       "      <th>104 min</th>\n",
       "      <td>99</td>\n",
       "      <td>99</td>\n",
       "      <td>99</td>\n",
       "      <td>99</td>\n",
       "      <td>99</td>\n",
       "      <td>99</td>\n",
       "      <td>99</td>\n",
       "      <td>99</td>\n",
       "      <td>99</td>\n",
       "      <td>99</td>\n",
       "    </tr>\n",
       "    <tr>\n",
       "      <th>...</th>\n",
       "      <td>...</td>\n",
       "      <td>...</td>\n",
       "      <td>...</td>\n",
       "      <td>...</td>\n",
       "      <td>...</td>\n",
       "      <td>...</td>\n",
       "      <td>...</td>\n",
       "      <td>...</td>\n",
       "      <td>...</td>\n",
       "      <td>...</td>\n",
       "    </tr>\n",
       "    <tr>\n",
       "      <th>95 min</th>\n",
       "      <td>127</td>\n",
       "      <td>127</td>\n",
       "      <td>127</td>\n",
       "      <td>127</td>\n",
       "      <td>127</td>\n",
       "      <td>127</td>\n",
       "      <td>127</td>\n",
       "      <td>127</td>\n",
       "      <td>127</td>\n",
       "      <td>127</td>\n",
       "    </tr>\n",
       "    <tr>\n",
       "      <th>96 min</th>\n",
       "      <td>109</td>\n",
       "      <td>109</td>\n",
       "      <td>109</td>\n",
       "      <td>109</td>\n",
       "      <td>109</td>\n",
       "      <td>109</td>\n",
       "      <td>109</td>\n",
       "      <td>109</td>\n",
       "      <td>109</td>\n",
       "      <td>109</td>\n",
       "    </tr>\n",
       "    <tr>\n",
       "      <th>97 min</th>\n",
       "      <td>129</td>\n",
       "      <td>129</td>\n",
       "      <td>129</td>\n",
       "      <td>129</td>\n",
       "      <td>129</td>\n",
       "      <td>129</td>\n",
       "      <td>129</td>\n",
       "      <td>129</td>\n",
       "      <td>129</td>\n",
       "      <td>129</td>\n",
       "    </tr>\n",
       "    <tr>\n",
       "      <th>98 min</th>\n",
       "      <td>109</td>\n",
       "      <td>109</td>\n",
       "      <td>109</td>\n",
       "      <td>109</td>\n",
       "      <td>109</td>\n",
       "      <td>109</td>\n",
       "      <td>109</td>\n",
       "      <td>109</td>\n",
       "      <td>109</td>\n",
       "      <td>109</td>\n",
       "    </tr>\n",
       "    <tr>\n",
       "      <th>99 min</th>\n",
       "      <td>106</td>\n",
       "      <td>106</td>\n",
       "      <td>106</td>\n",
       "      <td>106</td>\n",
       "      <td>106</td>\n",
       "      <td>106</td>\n",
       "      <td>106</td>\n",
       "      <td>106</td>\n",
       "      <td>106</td>\n",
       "      <td>106</td>\n",
       "    </tr>\n",
       "  </tbody>\n",
       "</table>\n",
       "<p>188 rows × 10 columns</p>\n",
       "</div>"
      ],
      "text/plain": [
       "          type  title  director  cast  country  date_added  release_year  \\\n",
       "duration                                                                   \n",
       "100 min     90     90        90    90       90          90            90   \n",
       "101 min    104    104       104   104      104         104           104   \n",
       "102 min    112    112       112   112      112         112           112   \n",
       "103 min    101    101       101   101      101         101           101   \n",
       "104 min     99     99        99    99       99          99            99   \n",
       "...        ...    ...       ...   ...      ...         ...           ...   \n",
       "95 min     127    127       127   127      127         127           127   \n",
       "96 min     109    109       109   109      109         109           109   \n",
       "97 min     129    129       129   129      129         129           129   \n",
       "98 min     109    109       109   109      109         109           109   \n",
       "99 min     106    106       106   106      106         106           106   \n",
       "\n",
       "          rating  listed_in  description  \n",
       "duration                                  \n",
       "100 min       90         90           90  \n",
       "101 min      104        104          104  \n",
       "102 min      112        112          112  \n",
       "103 min      101        101          101  \n",
       "104 min       99         99           99  \n",
       "...          ...        ...          ...  \n",
       "95 min       127        127          127  \n",
       "96 min       109        109          109  \n",
       "97 min       129        129          129  \n",
       "98 min       109        109          109  \n",
       "99 min       106        106          106  \n",
       "\n",
       "[188 rows x 10 columns]"
      ]
     },
     "execution_count": 69,
     "metadata": {},
     "output_type": "execute_result"
    }
   ],
   "source": [
    "movie_types.groupby('duration').count()"
   ]
  },
  {
   "cell_type": "code",
   "execution_count": 70,
   "id": "db523dd6",
   "metadata": {},
   "outputs": [
    {
     "data": {
      "text/html": [
       "<div>\n",
       "<style scoped>\n",
       "    .dataframe tbody tr th:only-of-type {\n",
       "        vertical-align: middle;\n",
       "    }\n",
       "\n",
       "    .dataframe tbody tr th {\n",
       "        vertical-align: top;\n",
       "    }\n",
       "\n",
       "    .dataframe thead th {\n",
       "        text-align: right;\n",
       "    }\n",
       "</style>\n",
       "<table border=\"1\" class=\"dataframe\">\n",
       "  <thead>\n",
       "    <tr style=\"text-align: right;\">\n",
       "      <th></th>\n",
       "      <th>type</th>\n",
       "      <th>title</th>\n",
       "      <th>director</th>\n",
       "      <th>cast</th>\n",
       "      <th>country</th>\n",
       "      <th>date_added</th>\n",
       "      <th>release_year</th>\n",
       "      <th>rating</th>\n",
       "      <th>listed_in</th>\n",
       "      <th>description</th>\n",
       "    </tr>\n",
       "    <tr>\n",
       "      <th>duration</th>\n",
       "      <th></th>\n",
       "      <th></th>\n",
       "      <th></th>\n",
       "      <th></th>\n",
       "      <th></th>\n",
       "      <th></th>\n",
       "      <th></th>\n",
       "      <th></th>\n",
       "      <th></th>\n",
       "      <th></th>\n",
       "    </tr>\n",
       "  </thead>\n",
       "  <tbody>\n",
       "    <tr>\n",
       "      <th>1 Season</th>\n",
       "      <td>106</td>\n",
       "      <td>106</td>\n",
       "      <td>106</td>\n",
       "      <td>106</td>\n",
       "      <td>106</td>\n",
       "      <td>106</td>\n",
       "      <td>106</td>\n",
       "      <td>106</td>\n",
       "      <td>106</td>\n",
       "      <td>106</td>\n",
       "    </tr>\n",
       "    <tr>\n",
       "      <th>15 Seasons</th>\n",
       "      <td>1</td>\n",
       "      <td>1</td>\n",
       "      <td>1</td>\n",
       "      <td>1</td>\n",
       "      <td>1</td>\n",
       "      <td>1</td>\n",
       "      <td>1</td>\n",
       "      <td>1</td>\n",
       "      <td>1</td>\n",
       "      <td>1</td>\n",
       "    </tr>\n",
       "    <tr>\n",
       "      <th>2 Seasons</th>\n",
       "      <td>18</td>\n",
       "      <td>18</td>\n",
       "      <td>18</td>\n",
       "      <td>18</td>\n",
       "      <td>18</td>\n",
       "      <td>18</td>\n",
       "      <td>18</td>\n",
       "      <td>18</td>\n",
       "      <td>18</td>\n",
       "      <td>18</td>\n",
       "    </tr>\n",
       "    <tr>\n",
       "      <th>3 Seasons</th>\n",
       "      <td>3</td>\n",
       "      <td>3</td>\n",
       "      <td>3</td>\n",
       "      <td>3</td>\n",
       "      <td>3</td>\n",
       "      <td>3</td>\n",
       "      <td>3</td>\n",
       "      <td>3</td>\n",
       "      <td>3</td>\n",
       "      <td>3</td>\n",
       "    </tr>\n",
       "    <tr>\n",
       "      <th>4 Seasons</th>\n",
       "      <td>4</td>\n",
       "      <td>4</td>\n",
       "      <td>4</td>\n",
       "      <td>4</td>\n",
       "      <td>4</td>\n",
       "      <td>4</td>\n",
       "      <td>4</td>\n",
       "      <td>4</td>\n",
       "      <td>4</td>\n",
       "      <td>4</td>\n",
       "    </tr>\n",
       "    <tr>\n",
       "      <th>5 Seasons</th>\n",
       "      <td>6</td>\n",
       "      <td>6</td>\n",
       "      <td>6</td>\n",
       "      <td>6</td>\n",
       "      <td>6</td>\n",
       "      <td>6</td>\n",
       "      <td>6</td>\n",
       "      <td>6</td>\n",
       "      <td>6</td>\n",
       "      <td>6</td>\n",
       "    </tr>\n",
       "    <tr>\n",
       "      <th>6 Seasons</th>\n",
       "      <td>3</td>\n",
       "      <td>3</td>\n",
       "      <td>3</td>\n",
       "      <td>3</td>\n",
       "      <td>3</td>\n",
       "      <td>3</td>\n",
       "      <td>3</td>\n",
       "      <td>3</td>\n",
       "      <td>3</td>\n",
       "      <td>3</td>\n",
       "    </tr>\n",
       "    <tr>\n",
       "      <th>7 Seasons</th>\n",
       "      <td>1</td>\n",
       "      <td>1</td>\n",
       "      <td>1</td>\n",
       "      <td>1</td>\n",
       "      <td>1</td>\n",
       "      <td>1</td>\n",
       "      <td>1</td>\n",
       "      <td>1</td>\n",
       "      <td>1</td>\n",
       "      <td>1</td>\n",
       "    </tr>\n",
       "    <tr>\n",
       "      <th>8 Seasons</th>\n",
       "      <td>2</td>\n",
       "      <td>2</td>\n",
       "      <td>2</td>\n",
       "      <td>2</td>\n",
       "      <td>2</td>\n",
       "      <td>2</td>\n",
       "      <td>2</td>\n",
       "      <td>2</td>\n",
       "      <td>2</td>\n",
       "      <td>2</td>\n",
       "    </tr>\n",
       "    <tr>\n",
       "      <th>9 Seasons</th>\n",
       "      <td>3</td>\n",
       "      <td>3</td>\n",
       "      <td>3</td>\n",
       "      <td>3</td>\n",
       "      <td>3</td>\n",
       "      <td>3</td>\n",
       "      <td>3</td>\n",
       "      <td>3</td>\n",
       "      <td>3</td>\n",
       "      <td>3</td>\n",
       "    </tr>\n",
       "  </tbody>\n",
       "</table>\n",
       "</div>"
      ],
      "text/plain": [
       "            type  title  director  cast  country  date_added  release_year  \\\n",
       "duration                                                                     \n",
       "1 Season     106    106       106   106      106         106           106   \n",
       "15 Seasons     1      1         1     1        1           1             1   \n",
       "2 Seasons     18     18        18    18       18          18            18   \n",
       "3 Seasons      3      3         3     3        3           3             3   \n",
       "4 Seasons      4      4         4     4        4           4             4   \n",
       "5 Seasons      6      6         6     6        6           6             6   \n",
       "6 Seasons      3      3         3     3        3           3             3   \n",
       "7 Seasons      1      1         1     1        1           1             1   \n",
       "8 Seasons      2      2         2     2        2           2             2   \n",
       "9 Seasons      3      3         3     3        3           3             3   \n",
       "\n",
       "            rating  listed_in  description  \n",
       "duration                                    \n",
       "1 Season       106        106          106  \n",
       "15 Seasons       1          1            1  \n",
       "2 Seasons       18         18           18  \n",
       "3 Seasons        3          3            3  \n",
       "4 Seasons        4          4            4  \n",
       "5 Seasons        6          6            6  \n",
       "6 Seasons        3          3            3  \n",
       "7 Seasons        1          1            1  \n",
       "8 Seasons        2          2            2  \n",
       "9 Seasons        3          3            3  "
      ]
     },
     "execution_count": 70,
     "metadata": {},
     "output_type": "execute_result"
    }
   ],
   "source": [
    "tv_show_types.groupby('duration').count()"
   ]
  },
  {
   "cell_type": "code",
   "execution_count": 54,
   "id": "7989c3fd",
   "metadata": {},
   "outputs": [
    {
     "data": {
      "text/plain": [
       "5185"
      ]
     },
     "execution_count": 54,
     "metadata": {},
     "output_type": "execute_result"
    }
   ],
   "source": [
    "len(movie_types['duration'] > '100 min')"
   ]
  },
  {
   "cell_type": "markdown",
   "id": "0fc70c1c",
   "metadata": {},
   "source": [
    "A large number of movies i.e. **5185** have duration over **100 minutes**"
   ]
  },
  {
   "cell_type": "code",
   "execution_count": 72,
   "id": "e3efb984",
   "metadata": {},
   "outputs": [
    {
     "data": {
      "text/plain": [
       "147"
      ]
     },
     "execution_count": 72,
     "metadata": {},
     "output_type": "execute_result"
    }
   ],
   "source": [
    "len(tv_show_types['duration'] > '10 Seasons')"
   ]
  },
  {
   "cell_type": "markdown",
   "id": "26fb2385",
   "metadata": {},
   "source": [
    "Whereas, a small number of tv-shows i.e. **147** have duration over **10 seasons**"
   ]
  },
  {
   "cell_type": "code",
   "execution_count": 56,
   "id": "a4a31dd1",
   "metadata": {},
   "outputs": [
    {
     "data": {
      "text/plain": [
       "3828"
      ]
     },
     "execution_count": 56,
     "metadata": {},
     "output_type": "execute_result"
    }
   ],
   "source": [
    "movie_types['director'].nunique()"
   ]
  },
  {
   "cell_type": "markdown",
   "id": "ccbea0bb",
   "metadata": {},
   "source": [
    "There are **3828** unique movie directors "
   ]
  },
  {
   "cell_type": "code",
   "execution_count": 57,
   "id": "717135ad",
   "metadata": {},
   "outputs": [
    {
     "data": {
      "text/plain": [
       "Raúl Campos, Jan Suter    18\n",
       "Jay Karas                 14\n",
       "Marcus Raboy              14\n",
       "Cathy Garcia-Molina       13\n",
       "Jay Chapman               12\n",
       "Name: director, dtype: int64"
      ]
     },
     "execution_count": 57,
     "metadata": {},
     "output_type": "execute_result"
    }
   ],
   "source": [
    "movie_types['director'].value_counts().head()"
   ]
  },
  {
   "cell_type": "markdown",
   "id": "a513e71c",
   "metadata": {},
   "source": [
    "These are some popular movie directors"
   ]
  },
  {
   "cell_type": "code",
   "execution_count": 75,
   "id": "b9143098",
   "metadata": {},
   "outputs": [
    {
     "data": {
      "text/plain": [
       "4749            Coco y Raulito: Carrusel de ternura\n",
       "4781                  Luciano Mellera: Infantiloide\n",
       "4808    Jani Dueñas: Grandes fracasos de ayer y hoy\n",
       "4849                       Fernando Sanjiao: Hombre\n",
       "4866                    Carlos Ballarta: Furia Ñera\n",
       "4940              Todo lo que sería Lucas Lauriente\n",
       "4962        Sofía Niño de Rivera: Selección Natural\n",
       "5001              Malena Pichot: Estupidez compleja\n",
       "5002               Natalia Valdebenito: El especial\n",
       "5062                    Sebastián Marcelo Wainraich\n",
       "Name: title, dtype: object"
      ]
     },
     "execution_count": 75,
     "metadata": {},
     "output_type": "execute_result"
    }
   ],
   "source": [
    "df[df['director'] == 'Raúl Campos, Jan Suter']['title'].head(10)"
   ]
  },
  {
   "cell_type": "markdown",
   "id": "9709fa3d",
   "metadata": {},
   "source": [
    "Movies of the most popular director in the dataset MOVIES"
   ]
  },
  {
   "cell_type": "code",
   "execution_count": 58,
   "id": "2acbf2fc",
   "metadata": {},
   "outputs": [
    {
     "data": {
      "text/plain": [
       "Alastair Fothergill    3\n",
       "Stan Lathan            2\n",
       "Iginio Straffi         2\n",
       "Rob Seidenglanz        2\n",
       "Shin Won-ho            2\n",
       "Name: director, dtype: int64"
      ]
     },
     "execution_count": 58,
     "metadata": {},
     "output_type": "execute_result"
    }
   ],
   "source": [
    "tv_show_types['director'].value_counts().head()"
   ]
  },
  {
   "cell_type": "markdown",
   "id": "7d2145da",
   "metadata": {},
   "source": [
    "These are the popular TV Show directors"
   ]
  },
  {
   "cell_type": "code",
   "execution_count": 59,
   "id": "fe87463f",
   "metadata": {},
   "outputs": [
    {
     "data": {
      "text/plain": [
       "6810                                       Frozen Planet\n",
       "7748               Planet Earth: The Complete Collection\n",
       "8214    The Blue Planet: A Natural History of the Oceans\n",
       "Name: title, dtype: object"
      ]
     },
     "execution_count": 59,
     "metadata": {},
     "output_type": "execute_result"
    }
   ],
   "source": [
    "df[df['director'] == 'Alastair Fothergill']['title'].head()"
   ]
  },
  {
   "cell_type": "markdown",
   "id": "1cbf739b",
   "metadata": {},
   "source": [
    "These are the shows of the most popular director"
   ]
  },
  {
   "cell_type": "code",
   "execution_count": 60,
   "id": "1db3db65",
   "metadata": {},
   "outputs": [
    {
     "data": {
      "text/plain": [
       "Samuel West     10\n",
       "Jeff Dunham      7\n",
       "Kevin Hart       6\n",
       "Bill Burr        5\n",
       "Jim Gaffigan     5\n",
       "Name: cast, dtype: int64"
      ]
     },
     "execution_count": 60,
     "metadata": {},
     "output_type": "execute_result"
    }
   ],
   "source": [
    "movie_types['cast'].value_counts().head()"
   ]
  },
  {
   "cell_type": "markdown",
   "id": "fb987df0",
   "metadata": {},
   "source": [
    "**Samuel West** appears most in the Movies."
   ]
  },
  {
   "cell_type": "code",
   "execution_count": 79,
   "id": "a3986e8d",
   "metadata": {},
   "outputs": [
    {
     "data": {
      "text/plain": [
       "David Attenborough                                                                                                                                                                                                                                                                                                        3\n",
       "Dave Chappelle                                                                                                                                                                                                                                                                                                            2\n",
       "Mel Giedroyc, Sue Perkins, Mary Berry, Paul Hollywood                                                                                                                                                                                                                                                                     1\n",
       "Sun Qian, Joseph Zeng, Lv Xiao Yu, Hu Yong Tao, Wang Xu Dong, Ma Bai Quan                                                                                                                                                                                                                                                 1\n",
       "James McAvoy, Nicholas Hoult, John Boyega, Ben Kingsley, Tom Wilkinson, Gemma Arterton, Peter Capaldi, Olivia Colman, Mackenzie Crook, Anne-Marie Duff, Taron Egerton, James Faulkner, Freddie Fox, Lee Ingleby, Miles Jupp, Daniel Kaluuya, Rory Kinnear, Craig Parkinson, Rosamund Pike, Daniel Rigby, Jason Watkins    1\n",
       "Ellen DeGeneres                                                                                                                                                                                                                                                                                                           1\n",
       "Parker Sawyers, Jacqueline McKenzie, Steve Toussaint, Tess Haubrich, Stephen Curry, Lewis Fitz-Gerald, Mark Leonard Winter                                                                                                                                                                                                1\n",
       "Peter Ho, Jeanine Yang, Tammy Chen, Jason Tsou, Chang Ting-hu, Nana Lee, Nien Hsuan Wu                                                                                                                                                                                                                                    1\n",
       "Radhika Apte, Manav Kaul, Ratnabali Bhattacharjee, Mahesh Balraj                                                                                                                                                                                                                                                          1\n",
       "Lee Byung-hun, Kim Tae-ri, Yoo Yeon-seok, Kim Min-jung, Byun Yo-han                                                                                                                                                                                                                                                       1\n",
       "Name: cast, dtype: int64"
      ]
     },
     "execution_count": 79,
     "metadata": {},
     "output_type": "execute_result"
    }
   ],
   "source": [
    "tv_show_types['cast'].value_counts().head(10)"
   ]
  },
  {
   "cell_type": "markdown",
   "id": "cc97a0df",
   "metadata": {},
   "source": [
    "TV Shows' cast are different"
   ]
  },
  {
   "cell_type": "code",
   "execution_count": 80,
   "id": "1489de7d",
   "metadata": {},
   "outputs": [
    {
     "data": {
      "text/html": [
       "<div>\n",
       "<style scoped>\n",
       "    .dataframe tbody tr th:only-of-type {\n",
       "        vertical-align: middle;\n",
       "    }\n",
       "\n",
       "    .dataframe tbody tr th {\n",
       "        vertical-align: top;\n",
       "    }\n",
       "\n",
       "    .dataframe thead th {\n",
       "        text-align: right;\n",
       "    }\n",
       "</style>\n",
       "<table border=\"1\" class=\"dataframe\">\n",
       "  <thead>\n",
       "    <tr style=\"text-align: right;\">\n",
       "      <th></th>\n",
       "      <th>type</th>\n",
       "      <th>title</th>\n",
       "      <th>director</th>\n",
       "      <th>cast</th>\n",
       "      <th>country</th>\n",
       "      <th>date_added</th>\n",
       "      <th>release_year</th>\n",
       "      <th>rating</th>\n",
       "      <th>duration</th>\n",
       "      <th>listed_in</th>\n",
       "      <th>description</th>\n",
       "    </tr>\n",
       "  </thead>\n",
       "  <tbody>\n",
       "    <tr>\n",
       "      <th>7</th>\n",
       "      <td>Movie</td>\n",
       "      <td>Sankofa</td>\n",
       "      <td>Haile Gerima</td>\n",
       "      <td>Kofi Ghanaba, Oyafunmike Ogunlano, Alexandra D...</td>\n",
       "      <td>United States, Ghana, Burkina Faso, United Kin...</td>\n",
       "      <td>24, September, 2021</td>\n",
       "      <td>1993</td>\n",
       "      <td>TV-MA</td>\n",
       "      <td>125 min</td>\n",
       "      <td>Dramas, Independent Movies, International Movies</td>\n",
       "      <td>On a photo shoot in Ghana, an American model s...</td>\n",
       "    </tr>\n",
       "    <tr>\n",
       "      <th>8</th>\n",
       "      <td>TV Show</td>\n",
       "      <td>The Great British Baking Show</td>\n",
       "      <td>Andy Devonshire</td>\n",
       "      <td>Mel Giedroyc, Sue Perkins, Mary Berry, Paul Ho...</td>\n",
       "      <td>United Kingdom</td>\n",
       "      <td>24, September, 2021</td>\n",
       "      <td>2021</td>\n",
       "      <td>TV-14</td>\n",
       "      <td>9 Seasons</td>\n",
       "      <td>British TV Shows, Reality TV</td>\n",
       "      <td>A talented batch of amateur bakers face off in...</td>\n",
       "    </tr>\n",
       "    <tr>\n",
       "      <th>9</th>\n",
       "      <td>Movie</td>\n",
       "      <td>The Starling</td>\n",
       "      <td>Theodore Melfi</td>\n",
       "      <td>Melissa McCarthy, Chris O'Dowd, Kevin Kline, T...</td>\n",
       "      <td>United States</td>\n",
       "      <td>24, September, 2021</td>\n",
       "      <td>2021</td>\n",
       "      <td>PG-13</td>\n",
       "      <td>104 min</td>\n",
       "      <td>Comedies, Dramas</td>\n",
       "      <td>A woman adjusting to life after a loss contend...</td>\n",
       "    </tr>\n",
       "    <tr>\n",
       "      <th>12</th>\n",
       "      <td>Movie</td>\n",
       "      <td>Je Suis Karl</td>\n",
       "      <td>Christian Schwochow</td>\n",
       "      <td>Luna Wedler, Jannis Niewöhner, Milan Peschel, ...</td>\n",
       "      <td>Germany, Czech Republic</td>\n",
       "      <td>23, September, 2021</td>\n",
       "      <td>2021</td>\n",
       "      <td>TV-MA</td>\n",
       "      <td>127 min</td>\n",
       "      <td>Dramas, International Movies</td>\n",
       "      <td>After most of her family is murdered in a terr...</td>\n",
       "    </tr>\n",
       "    <tr>\n",
       "      <th>24</th>\n",
       "      <td>Movie</td>\n",
       "      <td>Jeans</td>\n",
       "      <td>S. Shankar</td>\n",
       "      <td>Prashanth, Aishwarya Rai Bachchan, Sri Lakshmi...</td>\n",
       "      <td>India</td>\n",
       "      <td>21, September, 2021</td>\n",
       "      <td>1998</td>\n",
       "      <td>TV-14</td>\n",
       "      <td>166 min</td>\n",
       "      <td>Comedies, International Movies, Romantic Movies</td>\n",
       "      <td>When the father of the man she loves insists t...</td>\n",
       "    </tr>\n",
       "  </tbody>\n",
       "</table>\n",
       "</div>"
      ],
      "text/plain": [
       "       type                          title             director  \\\n",
       "7     Movie                        Sankofa         Haile Gerima   \n",
       "8   TV Show  The Great British Baking Show      Andy Devonshire   \n",
       "9     Movie                   The Starling       Theodore Melfi   \n",
       "12    Movie                   Je Suis Karl  Christian Schwochow   \n",
       "24    Movie                          Jeans           S. Shankar   \n",
       "\n",
       "                                                 cast  \\\n",
       "7   Kofi Ghanaba, Oyafunmike Ogunlano, Alexandra D...   \n",
       "8   Mel Giedroyc, Sue Perkins, Mary Berry, Paul Ho...   \n",
       "9   Melissa McCarthy, Chris O'Dowd, Kevin Kline, T...   \n",
       "12  Luna Wedler, Jannis Niewöhner, Milan Peschel, ...   \n",
       "24  Prashanth, Aishwarya Rai Bachchan, Sri Lakshmi...   \n",
       "\n",
       "                                              country           date_added  \\\n",
       "7   United States, Ghana, Burkina Faso, United Kin...  24, September, 2021   \n",
       "8                                      United Kingdom  24, September, 2021   \n",
       "9                                       United States  24, September, 2021   \n",
       "12                            Germany, Czech Republic  23, September, 2021   \n",
       "24                                              India  21, September, 2021   \n",
       "\n",
       "    release_year rating   duration  \\\n",
       "7           1993  TV-MA    125 min   \n",
       "8           2021  TV-14  9 Seasons   \n",
       "9           2021  PG-13    104 min   \n",
       "12          2021  TV-MA    127 min   \n",
       "24          1998  TV-14    166 min   \n",
       "\n",
       "                                           listed_in  \\\n",
       "7   Dramas, Independent Movies, International Movies   \n",
       "8                       British TV Shows, Reality TV   \n",
       "9                                   Comedies, Dramas   \n",
       "12                      Dramas, International Movies   \n",
       "24   Comedies, International Movies, Romantic Movies   \n",
       "\n",
       "                                          description  \n",
       "7   On a photo shoot in Ghana, an American model s...  \n",
       "8   A talented batch of amateur bakers face off in...  \n",
       "9   A woman adjusting to life after a loss contend...  \n",
       "12  After most of her family is murdered in a terr...  \n",
       "24  When the father of the man she loves insists t...  "
      ]
     },
     "execution_count": 80,
     "metadata": {},
     "output_type": "execute_result"
    }
   ],
   "source": [
    "df.head()"
   ]
  },
  {
   "cell_type": "code",
   "execution_count": 61,
   "id": "cbe812cd",
   "metadata": {},
   "outputs": [
    {
     "data": {
      "text/plain": [
       "listed_in           release_year\n",
       "Action & Adventure  2017            13\n",
       "                    2016            12\n",
       "                    2018            12\n",
       "                    2020            11\n",
       "                    2019             8\n",
       "                                    ..\n",
       "Thrillers           2010             1\n",
       "                    2011             1\n",
       "                    2013             1\n",
       "                    2014             1\n",
       "                    2021             1\n",
       "Name: release_year, Length: 1854, dtype: int64"
      ]
     },
     "execution_count": 61,
     "metadata": {},
     "output_type": "execute_result"
    }
   ],
   "source": [
    "# question 11\n",
    "\n",
    "df.groupby('listed_in')['release_year'].value_counts()"
   ]
  },
  {
   "cell_type": "markdown",
   "id": "db83ac99",
   "metadata": {},
   "source": [
    "Relation between the listed_in and the release_year"
   ]
  },
  {
   "cell_type": "code",
   "execution_count": 82,
   "id": "3f40bf5d",
   "metadata": {},
   "outputs": [
    {
     "data": {
      "text/plain": [
       "release_year  listed_in                                           \n",
       "1942          Classic Movies, Documentaries                           1\n",
       "1944          Classic Movies, Documentaries                           1\n",
       "1945          Classic Movies, Documentaries                           1\n",
       "1946          Classic Movies, Documentaries                           1\n",
       "1947          Classic Movies, Documentaries                           1\n",
       "1954          Children & Family Movies, Classic Movies, Comedies      1\n",
       "              Classic Movies, Dramas, International Movies            1\n",
       "1955          Classic Movies, Comedies, Independent Movies            2\n",
       "              Classic Movies, Dramas                                  1\n",
       "1956          Action & Adventure, Classic Movies, Sci-Fi & Fantasy    1\n",
       "dtype: int64"
      ]
     },
     "execution_count": 82,
     "metadata": {},
     "output_type": "execute_result"
    }
   ],
   "source": [
    "listed_in_counts = df.groupby(['release_year', 'listed_in']).size().head(10)\n",
    "\n",
    "listed_in_counts"
   ]
  },
  {
   "cell_type": "code",
   "execution_count": 83,
   "id": "c7ea3709",
   "metadata": {},
   "outputs": [
    {
     "data": {
      "text/plain": [
       "Text(0.5, 1.0, 'Genre Distribution Over Years')"
      ]
     },
     "execution_count": 83,
     "metadata": {},
     "output_type": "execute_result"
    },
    {
     "data": {
      "image/png": "[encoded data removed]",
      "text/plain": [
       "<Figure size 1440x432 with 1 Axes>"
      ]
     },
     "metadata": {
      "needs_background": "light"
     },
     "output_type": "display_data"
    }
   ],
   "source": [
    "listed_in_counts.plot(kind='bar', figsize=(20, 6), color='yellow')\n",
    "\n",
    "plt.xlabel('Year')\n",
    "plt.ylabel('Count')\n",
    "plt.title('Genre Distribution Over Years')"
   ]
  },
  {
   "cell_type": "markdown",
   "id": "efbc461c",
   "metadata": {},
   "source": [
    "#### A plot depicting the Listed in genres and their counts"
   ]
  },
  {
   "cell_type": "code",
   "execution_count": 84,
   "id": "51d477fd",
   "metadata": {},
   "outputs": [
    {
     "data": {
      "text/html": [
       "<div>\n",
       "<style scoped>\n",
       "    .dataframe tbody tr th:only-of-type {\n",
       "        vertical-align: middle;\n",
       "    }\n",
       "\n",
       "    .dataframe tbody tr th {\n",
       "        vertical-align: top;\n",
       "    }\n",
       "\n",
       "    .dataframe thead th {\n",
       "        text-align: right;\n",
       "    }\n",
       "</style>\n",
       "<table border=\"1\" class=\"dataframe\">\n",
       "  <thead>\n",
       "    <tr style=\"text-align: right;\">\n",
       "      <th></th>\n",
       "      <th>type</th>\n",
       "      <th>title</th>\n",
       "      <th>director</th>\n",
       "      <th>cast</th>\n",
       "      <th>country</th>\n",
       "      <th>date_added</th>\n",
       "      <th>release_year</th>\n",
       "      <th>rating</th>\n",
       "      <th>duration</th>\n",
       "      <th>listed_in</th>\n",
       "      <th>description</th>\n",
       "    </tr>\n",
       "  </thead>\n",
       "  <tbody>\n",
       "    <tr>\n",
       "      <th>7</th>\n",
       "      <td>Movie</td>\n",
       "      <td>Sankofa</td>\n",
       "      <td>Haile Gerima</td>\n",
       "      <td>Kofi Ghanaba, Oyafunmike Ogunlano, Alexandra D...</td>\n",
       "      <td>United States, Ghana, Burkina Faso, United Kin...</td>\n",
       "      <td>24, September, 2021</td>\n",
       "      <td>1993</td>\n",
       "      <td>TV-MA</td>\n",
       "      <td>125 min</td>\n",
       "      <td>Dramas, Independent Movies, International Movies</td>\n",
       "      <td>On a photo shoot in Ghana, an American model s...</td>\n",
       "    </tr>\n",
       "    <tr>\n",
       "      <th>8</th>\n",
       "      <td>TV Show</td>\n",
       "      <td>The Great British Baking Show</td>\n",
       "      <td>Andy Devonshire</td>\n",
       "      <td>Mel Giedroyc, Sue Perkins, Mary Berry, Paul Ho...</td>\n",
       "      <td>United Kingdom</td>\n",
       "      <td>24, September, 2021</td>\n",
       "      <td>2021</td>\n",
       "      <td>TV-14</td>\n",
       "      <td>9 Seasons</td>\n",
       "      <td>British TV Shows, Reality TV</td>\n",
       "      <td>A talented batch of amateur bakers face off in...</td>\n",
       "    </tr>\n",
       "    <tr>\n",
       "      <th>9</th>\n",
       "      <td>Movie</td>\n",
       "      <td>The Starling</td>\n",
       "      <td>Theodore Melfi</td>\n",
       "      <td>Melissa McCarthy, Chris O'Dowd, Kevin Kline, T...</td>\n",
       "      <td>United States</td>\n",
       "      <td>24, September, 2021</td>\n",
       "      <td>2021</td>\n",
       "      <td>PG-13</td>\n",
       "      <td>104 min</td>\n",
       "      <td>Comedies, Dramas</td>\n",
       "      <td>A woman adjusting to life after a loss contend...</td>\n",
       "    </tr>\n",
       "    <tr>\n",
       "      <th>12</th>\n",
       "      <td>Movie</td>\n",
       "      <td>Je Suis Karl</td>\n",
       "      <td>Christian Schwochow</td>\n",
       "      <td>Luna Wedler, Jannis Niewöhner, Milan Peschel, ...</td>\n",
       "      <td>Germany, Czech Republic</td>\n",
       "      <td>23, September, 2021</td>\n",
       "      <td>2021</td>\n",
       "      <td>TV-MA</td>\n",
       "      <td>127 min</td>\n",
       "      <td>Dramas, International Movies</td>\n",
       "      <td>After most of her family is murdered in a terr...</td>\n",
       "    </tr>\n",
       "    <tr>\n",
       "      <th>24</th>\n",
       "      <td>Movie</td>\n",
       "      <td>Jeans</td>\n",
       "      <td>S. Shankar</td>\n",
       "      <td>Prashanth, Aishwarya Rai Bachchan, Sri Lakshmi...</td>\n",
       "      <td>India</td>\n",
       "      <td>21, September, 2021</td>\n",
       "      <td>1998</td>\n",
       "      <td>TV-14</td>\n",
       "      <td>166 min</td>\n",
       "      <td>Comedies, International Movies, Romantic Movies</td>\n",
       "      <td>When the father of the man she loves insists t...</td>\n",
       "    </tr>\n",
       "  </tbody>\n",
       "</table>\n",
       "</div>"
      ],
      "text/plain": [
       "       type                          title             director  \\\n",
       "7     Movie                        Sankofa         Haile Gerima   \n",
       "8   TV Show  The Great British Baking Show      Andy Devonshire   \n",
       "9     Movie                   The Starling       Theodore Melfi   \n",
       "12    Movie                   Je Suis Karl  Christian Schwochow   \n",
       "24    Movie                          Jeans           S. Shankar   \n",
       "\n",
       "                                                 cast  \\\n",
       "7   Kofi Ghanaba, Oyafunmike Ogunlano, Alexandra D...   \n",
       "8   Mel Giedroyc, Sue Perkins, Mary Berry, Paul Ho...   \n",
       "9   Melissa McCarthy, Chris O'Dowd, Kevin Kline, T...   \n",
       "12  Luna Wedler, Jannis Niewöhner, Milan Peschel, ...   \n",
       "24  Prashanth, Aishwarya Rai Bachchan, Sri Lakshmi...   \n",
       "\n",
       "                                              country           date_added  \\\n",
       "7   United States, Ghana, Burkina Faso, United Kin...  24, September, 2021   \n",
       "8                                      United Kingdom  24, September, 2021   \n",
       "9                                       United States  24, September, 2021   \n",
       "12                            Germany, Czech Republic  23, September, 2021   \n",
       "24                                              India  21, September, 2021   \n",
       "\n",
       "    release_year rating   duration  \\\n",
       "7           1993  TV-MA    125 min   \n",
       "8           2021  TV-14  9 Seasons   \n",
       "9           2021  PG-13    104 min   \n",
       "12          2021  TV-MA    127 min   \n",
       "24          1998  TV-14    166 min   \n",
       "\n",
       "                                           listed_in  \\\n",
       "7   Dramas, Independent Movies, International Movies   \n",
       "8                       British TV Shows, Reality TV   \n",
       "9                                   Comedies, Dramas   \n",
       "12                      Dramas, International Movies   \n",
       "24   Comedies, International Movies, Romantic Movies   \n",
       "\n",
       "                                          description  \n",
       "7   On a photo shoot in Ghana, an American model s...  \n",
       "8   A talented batch of amateur bakers face off in...  \n",
       "9   A woman adjusting to life after a loss contend...  \n",
       "12  After most of her family is murdered in a terr...  \n",
       "24  When the father of the man she loves insists t...  "
      ]
     },
     "execution_count": 84,
     "metadata": {},
     "output_type": "execute_result"
    }
   ],
   "source": [
    "df.head()"
   ]
  },
  {
   "cell_type": "code",
   "execution_count": 64,
   "id": "f22c627e",
   "metadata": {
    "scrolled": true
   },
   "outputs": [
    {
     "name": "stderr",
     "output_type": "stream",
     "text": [
      "C:\\Users\\RUPAK CHAKRABORTY\\AppData\\Local\\Temp\\ipykernel_19240\\1159204183.py:3: SettingWithCopyWarning: \n",
      "A value is trying to be set on a copy of a slice from a DataFrame.\n",
      "Try using .loc[row_indexer,col_indexer] = value instead\n",
      "\n",
      "See the caveats in the documentation: https://pandas.pydata.org/pandas-docs/stable/user_guide/indexing.html#returning-a-view-versus-a-copy\n",
      "  df['duration'] = df['duration'].str.extract('(\\d+)').astype(float)\n",
      "C:\\Users\\RUPAK CHAKRABORTY\\AppData\\Local\\Temp\\ipykernel_19240\\1159204183.py:22: SettingWithCopyWarning: \n",
      "A value is trying to be set on a copy of a slice from a DataFrame.\n",
      "Try using .loc[row_indexer,col_indexer] = value instead\n",
      "\n",
      "See the caveats in the documentation: https://pandas.pydata.org/pandas-docs/stable/user_guide/indexing.html#returning-a-view-versus-a-copy\n",
      "  df['rating_numeric'] = df['rating'].map(rating_mapping)\n"
     ]
    }
   ],
   "source": [
    "# question 12\n",
    "\n",
    "df['duration'] = df['duration'].str.extract('(\\d+)').astype(float)\n",
    "\n",
    "rating_mapping = {\n",
    "    'TV-MA': 18,\n",
    "    'TV-14': 14,\n",
    "    'R': 17,\n",
    "    'PG-13': 13,\n",
    "    'TV-PG': 10,\n",
    "    'PG': 8,\n",
    "    'TV-G': 5,\n",
    "    'TV-Y': 2,\n",
    "    'TV-Y7': 7,\n",
    "    'NR': None,  # Handle missing or unknown ratings\n",
    "    'G': 5,\n",
    "    'TV-Y7-FV': 7,\n",
    "    'UR': None,\n",
    "    'NC-17': 17\n",
    "}\n",
    "\n",
    "df['rating_numeric'] = df['rating'].map(rating_mapping)"
   ]
  },
  {
   "cell_type": "markdown",
   "id": "b6bae181",
   "metadata": {},
   "source": [
    "#### Mapped the rating to it's numeric value to plot and vizualize the data properly"
   ]
  },
  {
   "cell_type": "code",
   "execution_count": 65,
   "id": "c4b0936f",
   "metadata": {
    "scrolled": true
   },
   "outputs": [
    {
     "data": {
      "text/html": [
       "<div>\n",
       "<style scoped>\n",
       "    .dataframe tbody tr th:only-of-type {\n",
       "        vertical-align: middle;\n",
       "    }\n",
       "\n",
       "    .dataframe tbody tr th {\n",
       "        vertical-align: top;\n",
       "    }\n",
       "\n",
       "    .dataframe thead th {\n",
       "        text-align: right;\n",
       "    }\n",
       "</style>\n",
       "<table border=\"1\" class=\"dataframe\">\n",
       "  <thead>\n",
       "    <tr style=\"text-align: right;\">\n",
       "      <th></th>\n",
       "      <th>type</th>\n",
       "      <th>title</th>\n",
       "      <th>director</th>\n",
       "      <th>cast</th>\n",
       "      <th>country</th>\n",
       "      <th>date_added</th>\n",
       "      <th>release_year</th>\n",
       "      <th>rating</th>\n",
       "      <th>duration</th>\n",
       "      <th>listed_in</th>\n",
       "      <th>description</th>\n",
       "      <th>rating_numeric</th>\n",
       "    </tr>\n",
       "  </thead>\n",
       "  <tbody>\n",
       "    <tr>\n",
       "      <th>7</th>\n",
       "      <td>Movie</td>\n",
       "      <td>Sankofa</td>\n",
       "      <td>Haile Gerima</td>\n",
       "      <td>Kofi Ghanaba, Oyafunmike Ogunlano, Alexandra D...</td>\n",
       "      <td>United States, Ghana, Burkina Faso, United Kin...</td>\n",
       "      <td>24, September, 2021</td>\n",
       "      <td>1993</td>\n",
       "      <td>TV-MA</td>\n",
       "      <td>125.0</td>\n",
       "      <td>Dramas, Independent Movies, International Movies</td>\n",
       "      <td>On a photo shoot in Ghana, an American model s...</td>\n",
       "      <td>18.0</td>\n",
       "    </tr>\n",
       "    <tr>\n",
       "      <th>8</th>\n",
       "      <td>TV Show</td>\n",
       "      <td>The Great British Baking Show</td>\n",
       "      <td>Andy Devonshire</td>\n",
       "      <td>Mel Giedroyc, Sue Perkins, Mary Berry, Paul Ho...</td>\n",
       "      <td>United Kingdom</td>\n",
       "      <td>24, September, 2021</td>\n",
       "      <td>2021</td>\n",
       "      <td>TV-14</td>\n",
       "      <td>9.0</td>\n",
       "      <td>British TV Shows, Reality TV</td>\n",
       "      <td>A talented batch of amateur bakers face off in...</td>\n",
       "      <td>14.0</td>\n",
       "    </tr>\n",
       "    <tr>\n",
       "      <th>9</th>\n",
       "      <td>Movie</td>\n",
       "      <td>The Starling</td>\n",
       "      <td>Theodore Melfi</td>\n",
       "      <td>Melissa McCarthy, Chris O'Dowd, Kevin Kline, T...</td>\n",
       "      <td>United States</td>\n",
       "      <td>24, September, 2021</td>\n",
       "      <td>2021</td>\n",
       "      <td>PG-13</td>\n",
       "      <td>104.0</td>\n",
       "      <td>Comedies, Dramas</td>\n",
       "      <td>A woman adjusting to life after a loss contend...</td>\n",
       "      <td>13.0</td>\n",
       "    </tr>\n",
       "    <tr>\n",
       "      <th>12</th>\n",
       "      <td>Movie</td>\n",
       "      <td>Je Suis Karl</td>\n",
       "      <td>Christian Schwochow</td>\n",
       "      <td>Luna Wedler, Jannis Niewöhner, Milan Peschel, ...</td>\n",
       "      <td>Germany, Czech Republic</td>\n",
       "      <td>23, September, 2021</td>\n",
       "      <td>2021</td>\n",
       "      <td>TV-MA</td>\n",
       "      <td>127.0</td>\n",
       "      <td>Dramas, International Movies</td>\n",
       "      <td>After most of her family is murdered in a terr...</td>\n",
       "      <td>18.0</td>\n",
       "    </tr>\n",
       "    <tr>\n",
       "      <th>24</th>\n",
       "      <td>Movie</td>\n",
       "      <td>Jeans</td>\n",
       "      <td>S. Shankar</td>\n",
       "      <td>Prashanth, Aishwarya Rai Bachchan, Sri Lakshmi...</td>\n",
       "      <td>India</td>\n",
       "      <td>21, September, 2021</td>\n",
       "      <td>1998</td>\n",
       "      <td>TV-14</td>\n",
       "      <td>166.0</td>\n",
       "      <td>Comedies, International Movies, Romantic Movies</td>\n",
       "      <td>When the father of the man she loves insists t...</td>\n",
       "      <td>14.0</td>\n",
       "    </tr>\n",
       "  </tbody>\n",
       "</table>\n",
       "</div>"
      ],
      "text/plain": [
       "       type                          title             director  \\\n",
       "7     Movie                        Sankofa         Haile Gerima   \n",
       "8   TV Show  The Great British Baking Show      Andy Devonshire   \n",
       "9     Movie                   The Starling       Theodore Melfi   \n",
       "12    Movie                   Je Suis Karl  Christian Schwochow   \n",
       "24    Movie                          Jeans           S. Shankar   \n",
       "\n",
       "                                                 cast  \\\n",
       "7   Kofi Ghanaba, Oyafunmike Ogunlano, Alexandra D...   \n",
       "8   Mel Giedroyc, Sue Perkins, Mary Berry, Paul Ho...   \n",
       "9   Melissa McCarthy, Chris O'Dowd, Kevin Kline, T...   \n",
       "12  Luna Wedler, Jannis Niewöhner, Milan Peschel, ...   \n",
       "24  Prashanth, Aishwarya Rai Bachchan, Sri Lakshmi...   \n",
       "\n",
       "                                              country           date_added  \\\n",
       "7   United States, Ghana, Burkina Faso, United Kin...  24, September, 2021   \n",
       "8                                      United Kingdom  24, September, 2021   \n",
       "9                                       United States  24, September, 2021   \n",
       "12                            Germany, Czech Republic  23, September, 2021   \n",
       "24                                              India  21, September, 2021   \n",
       "\n",
       "    release_year rating  duration  \\\n",
       "7           1993  TV-MA     125.0   \n",
       "8           2021  TV-14       9.0   \n",
       "9           2021  PG-13     104.0   \n",
       "12          2021  TV-MA     127.0   \n",
       "24          1998  TV-14     166.0   \n",
       "\n",
       "                                           listed_in  \\\n",
       "7   Dramas, Independent Movies, International Movies   \n",
       "8                       British TV Shows, Reality TV   \n",
       "9                                   Comedies, Dramas   \n",
       "12                      Dramas, International Movies   \n",
       "24   Comedies, International Movies, Romantic Movies   \n",
       "\n",
       "                                          description  rating_numeric  \n",
       "7   On a photo shoot in Ghana, an American model s...            18.0  \n",
       "8   A talented batch of amateur bakers face off in...            14.0  \n",
       "9   A woman adjusting to life after a loss contend...            13.0  \n",
       "12  After most of her family is murdered in a terr...            18.0  \n",
       "24  When the father of the man she loves insists t...            14.0  "
      ]
     },
     "execution_count": 65,
     "metadata": {},
     "output_type": "execute_result"
    }
   ],
   "source": [
    "df.head()"
   ]
  },
  {
   "cell_type": "markdown",
   "id": "55265e6e",
   "metadata": {},
   "source": [
    "#### We can see the numeric rating column"
   ]
  },
  {
   "cell_type": "code",
   "execution_count": 66,
   "id": "ecbc6269",
   "metadata": {
    "scrolled": true
   },
   "outputs": [
    {
     "data": {
      "text/plain": [
       "Text(0.5, 1.0, 'Relationship between Numeric Rating and Duration')"
      ]
     },
     "execution_count": 66,
     "metadata": {},
     "output_type": "execute_result"
    },
    {
     "data": {
      "image/png": "[encoded data removed]",
      "text/plain": [
       "<Figure size 432x288 with 1 Axes>"
      ]
     },
     "metadata": {
      "needs_background": "light"
     },
     "output_type": "display_data"
    }
   ],
   "source": [
    "sns.scatterplot(x='rating_numeric', y='duration', data=df)\n",
    "\n",
    "plt.xlabel('Rating (Numeric)')\n",
    "plt.ylabel('Duration (min)')\n",
    "plt.title('Relationship between Numeric Rating and Duration')"
   ]
  },
  {
   "cell_type": "markdown",
   "id": "1283ee77",
   "metadata": {},
   "source": [
    "#### The visual representation of the relation between the rating and the duration"
   ]
  },
  {
   "cell_type": "code",
   "execution_count": 88,
   "id": "e6e36490",
   "metadata": {},
   "outputs": [
    {
     "data": {
      "text/plain": [
       "Dramas, International Movies                        336\n",
       "Stand-Up Comedy                                     286\n",
       "Comedies, Dramas, International Movies              257\n",
       "Dramas, Independent Movies, International Movies    243\n",
       "Children & Family Movies, Comedies                  179\n",
       "Name: listed_in, dtype: int64"
      ]
     },
     "execution_count": 88,
     "metadata": {},
     "output_type": "execute_result"
    }
   ],
   "source": [
    "# question 16\n",
    "from collections import Counter\n",
    "\n",
    "df['listed_in'].value_counts().head()"
   ]
  },
  {
   "cell_type": "code",
   "execution_count": 89,
   "id": "db3d6f91",
   "metadata": {},
   "outputs": [],
   "source": [
    "genres = [genre.strip() for sublist in df['listed_in'].str.split(',') for genre in sublist]"
   ]
  },
  {
   "cell_type": "code",
   "execution_count": 90,
   "id": "a3e26109",
   "metadata": {},
   "outputs": [
    {
     "data": {
      "text/plain": [
       "Text(159.0, 0.5, 'Genres')"
      ]
     },
     "execution_count": 90,
     "metadata": {},
     "output_type": "execute_result"
    },
    {
     "data": {
      "image/png": "[encoded data removed]",
      "text/plain": [
       "<Figure size 1440x1080 with 2 Axes>"
      ]
     },
     "metadata": {
      "needs_background": "light"
     },
     "output_type": "display_data"
    }
   ],
   "source": [
    "genre_counts = Counter(genres)\n",
    "\n",
    "co_occurrence_matrix = pd.DataFrame(0, index=genre_counts.keys(), columns=genre_counts.keys())\n",
    "\n",
    "for row in df['listed_in']:\n",
    "    row_genres = [genre.strip() for genre in row.split(',')]\n",
    "    for genre1 in row_genres:\n",
    "        for genre2 in row_genres:\n",
    "            co_occurrence_matrix.loc[genre1, genre2] += 1\n",
    "\n",
    "\n",
    "plt.figure(figsize=(20, 15))\n",
    "sns.heatmap(co_occurrence_matrix, annot=True, cmap=\"YlGnBu\")\n",
    "plt.title('Co-occurrence of Genres')\n",
    "plt.xlabel('Genres')\n",
    "plt.ylabel('Genres')"
   ]
  },
  {
   "cell_type": "markdown",
   "id": "5b19c364",
   "metadata": {},
   "source": [
    "#### The correlation between the Genres"
   ]
  },
  {
   "cell_type": "code",
   "execution_count": 91,
   "id": "7c167a88",
   "metadata": {},
   "outputs": [
    {
     "name": "stderr",
     "output_type": "stream",
     "text": [
      "C:\\Users\\RUPAK CHAKRABORTY\\AppData\\Local\\Temp\\ipykernel_15984\\3239716838.py:3: SettingWithCopyWarning: \n",
      "A value is trying to be set on a copy of a slice from a DataFrame.\n",
      "Try using .loc[row_indexer,col_indexer] = value instead\n",
      "\n",
      "See the caveats in the documentation: https://pandas.pydata.org/pandas-docs/stable/user_guide/indexing.html#returning-a-view-versus-a-copy\n",
      "  df['release_year'] = pd.to_datetime(df['release_year'], format='%Y')\n"
     ]
    }
   ],
   "source": [
    "# question 19\n",
    "\n",
    "df['release_year'] = pd.to_datetime(df['release_year'], format='%Y')"
   ]
  },
  {
   "cell_type": "code",
   "execution_count": 92,
   "id": "cc6e46ef",
   "metadata": {},
   "outputs": [
    {
     "data": {
      "image/png": "[encoded data removed]",
      "text/plain": [
       "<Figure size 864x432 with 1 Axes>"
      ]
     },
     "metadata": {
      "needs_background": "light"
     },
     "output_type": "display_data"
    }
   ],
   "source": [
    "\n",
    "\n",
    "# Group the data by release year and count the number of unique genres and countries for each year\n",
    "genre_counts = df.groupby('release_year')['listed_in'].apply(lambda x: len(set(x.str.split(', ').sum())))\n",
    "country_counts = df.groupby('release_year')['country'].apply(lambda x: len(set(x.str.split(', ').sum())))\n",
    "\n",
    "# Plot the trends over time\n",
    "plt.figure(figsize=(12, 6))\n",
    "plt.plot(genre_counts.index, genre_counts.values, label='Unique Genres', marker='o')\n",
    "plt.plot(country_counts.index, country_counts.values, label='Unique Countries', marker='o')\n",
    "plt.title('Diversity of Content Over Time')\n",
    "plt.xlabel('Release Year')\n",
    "plt.ylabel('Count')\n",
    "plt.legend()\n",
    "plt.grid(True)\n",
    "plt.xticks(rotation=45)\n",
    "plt.tight_layout()\n",
    "plt.show()"
   ]
  },
  {
   "cell_type": "code",
   "execution_count": 93,
   "id": "5bc85f90-f1b7-498a-9ac3-3a0841eeb1a4",
   "metadata": {},
   "outputs": [
    {
     "name": "stderr",
     "output_type": "stream",
     "text": [
      "C:\\Users\\RUPAK CHAKRABORTY\\AppData\\Local\\Temp\\ipykernel_15984\\779496830.py:3: SettingWithCopyWarning: \n",
      "A value is trying to be set on a copy of a slice from a DataFrame.\n",
      "Try using .loc[row_indexer,col_indexer] = value instead\n",
      "\n",
      "See the caveats in the documentation: https://pandas.pydata.org/pandas-docs/stable/user_guide/indexing.html#returning-a-view-versus-a-copy\n",
      "  df['date_added'] = pd.to_datetime(df['date_added'])\n",
      "C:\\Users\\RUPAK CHAKRABORTY\\AppData\\Local\\Temp\\ipykernel_15984\\779496830.py:6: SettingWithCopyWarning: \n",
      "A value is trying to be set on a copy of a slice from a DataFrame.\n",
      "Try using .loc[row_indexer,col_indexer] = value instead\n",
      "\n",
      "See the caveats in the documentation: https://pandas.pydata.org/pandas-docs/stable/user_guide/indexing.html#returning-a-view-versus-a-copy\n",
      "  df['release_year'] = pd.to_datetime(df['release_year'], format='%Y')\n",
      "C:\\Users\\RUPAK CHAKRABORTY\\AppData\\Local\\Temp\\ipykernel_15984\\779496830.py:9: SettingWithCopyWarning: \n",
      "A value is trying to be set on a copy of a slice from a DataFrame.\n",
      "Try using .loc[row_indexer,col_indexer] = value instead\n",
      "\n",
      "See the caveats in the documentation: https://pandas.pydata.org/pandas-docs/stable/user_guide/indexing.html#returning-a-view-versus-a-copy\n",
      "  df['content_age'] = df['date_added'].dt.year - df['release_year'].dt.year\n"
     ]
    },
    {
     "data": {
      "image/png": "[encoded data removed]",
      "text/plain": [
       "<Figure size 864x432 with 1 Axes>"
      ]
     },
     "metadata": {
      "needs_background": "light"
     },
     "output_type": "display_data"
    }
   ],
   "source": [
    "#question 20\n",
    "# Convert 'date_added' to datetime\n",
    "df['date_added'] = pd.to_datetime(df['date_added'])\n",
    "\n",
    "# Convert 'release_year' to datetime\n",
    "df['release_year'] = pd.to_datetime(df['release_year'], format='%Y')\n",
    "\n",
    "# Calculate the age of content in years\n",
    "df['content_age'] = df['date_added'].dt.year - df['release_year'].dt.year\n",
    "\n",
    "# Plot a scatter plot\n",
    "plt.figure(figsize=(12, 6))\n",
    "sns.scatterplot(x='content_age', y='rating', data=df)\n",
    "plt.title('Correlation between Content Age and Rating')\n",
    "plt.xlabel('Content Age (Years)')\n",
    "plt.ylabel('Rating')\n",
    "plt.show()\n"
   ]
  },
  {
   "cell_type": "markdown",
   "id": "6172f9f7",
   "metadata": {},
   "source": [
    "#### Finally a plot shpwing the relationship betweent the Content age and the Rating types"
   ]
  },
  {
   "cell_type": "code",
   "execution_count": null,
   "id": "8722d7f0",
   "metadata": {},
   "outputs": [],
   "source": []
  }
 ],
 "metadata": {
  "kernelspec": {
   "display_name": "Python 3 (ipykernel)",
   "language": "python",
   "name": "python3"
  },
  "language_info": {
   "codemirror_mode": {
    "name": "ipython",
    "version": 3
   },
   "file_extension": ".py",
   "mimetype": "text/x-python",
   "name": "python",
   "nbconvert_exporter": "python",
   "pygments_lexer": "ipython3",
   "version": "3.12.3"
  }
 },
 "nbformat": 4,
 "nbformat_minor": 5
}
